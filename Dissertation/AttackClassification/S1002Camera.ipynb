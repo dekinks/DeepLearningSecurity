{
 "cells": [
  {
   "cell_type": "code",
   "execution_count": 1,
   "id": "a33a92e9",
   "metadata": {},
   "outputs": [
    {
     "name": "stdout",
     "output_type": "stream",
     "text": [
      "Defaulting to user installation because normal site-packages is not writeable\n",
      "Requirement already satisfied: pandas in /home/andressa.amaral/.local/lib/python3.8/site-packages (1.5.1)\n",
      "Requirement already satisfied: python-dateutil>=2.8.1 in /home/andressa.amaral/.local/lib/python3.8/site-packages (from pandas) (2.8.2)\n",
      "Requirement already satisfied: pytz>=2020.1 in /home/andressa.amaral/.local/lib/python3.8/site-packages (from pandas) (2022.6)\n",
      "Requirement already satisfied: numpy>=1.20.3 in /home/andressa.amaral/.local/lib/python3.8/site-packages (from pandas) (1.23.4)\n",
      "Requirement already satisfied: six>=1.5 in /home/andressa.amaral/.local/lib/python3.8/site-packages (from python-dateutil>=2.8.1->pandas) (1.16.0)\n",
      "Defaulting to user installation because normal site-packages is not writeable\n",
      "Requirement already satisfied: seaborn in /home/andressa.amaral/.local/lib/python3.8/site-packages (0.12.1)\n",
      "Requirement already satisfied: numpy>=1.17 in /home/andressa.amaral/.local/lib/python3.8/site-packages (from seaborn) (1.23.4)\n",
      "Requirement already satisfied: pandas>=0.25 in /home/andressa.amaral/.local/lib/python3.8/site-packages (from seaborn) (1.5.1)\n",
      "Requirement already satisfied: matplotlib!=3.6.1,>=3.1 in /home/andressa.amaral/.local/lib/python3.8/site-packages (from seaborn) (3.6.2)\n",
      "Requirement already satisfied: fonttools>=4.22.0 in /home/andressa.amaral/.local/lib/python3.8/site-packages (from matplotlib!=3.6.1,>=3.1->seaborn) (4.38.0)\n",
      "Requirement already satisfied: pillow>=6.2.0 in /home/andressa.amaral/.local/lib/python3.8/site-packages (from matplotlib!=3.6.1,>=3.1->seaborn) (9.3.0)\n",
      "Requirement already satisfied: pyparsing>=2.2.1 in /home/andressa.amaral/.local/lib/python3.8/site-packages (from matplotlib!=3.6.1,>=3.1->seaborn) (3.0.9)\n",
      "Requirement already satisfied: contourpy>=1.0.1 in /home/andressa.amaral/.local/lib/python3.8/site-packages (from matplotlib!=3.6.1,>=3.1->seaborn) (1.0.6)\n",
      "Requirement already satisfied: cycler>=0.10 in /home/andressa.amaral/.local/lib/python3.8/site-packages (from matplotlib!=3.6.1,>=3.1->seaborn) (0.11.0)\n",
      "Requirement already satisfied: packaging>=20.0 in /home/andressa.amaral/.local/lib/python3.8/site-packages (from matplotlib!=3.6.1,>=3.1->seaborn) (21.3)\n",
      "Requirement already satisfied: python-dateutil>=2.7 in /home/andressa.amaral/.local/lib/python3.8/site-packages (from matplotlib!=3.6.1,>=3.1->seaborn) (2.8.2)\n",
      "Requirement already satisfied: kiwisolver>=1.0.1 in /home/andressa.amaral/.local/lib/python3.8/site-packages (from matplotlib!=3.6.1,>=3.1->seaborn) (1.4.4)\n",
      "Requirement already satisfied: pytz>=2020.1 in /home/andressa.amaral/.local/lib/python3.8/site-packages (from pandas>=0.25->seaborn) (2022.6)\n",
      "Requirement already satisfied: six>=1.5 in /home/andressa.amaral/.local/lib/python3.8/site-packages (from python-dateutil>=2.7->matplotlib!=3.6.1,>=3.1->seaborn) (1.16.0)\n",
      "Defaulting to user installation because normal site-packages is not writeable\n",
      "Requirement already satisfied: tensorflow-gpu in /home/andressa.amaral/.local/lib/python3.8/site-packages (2.11.0)\n",
      "Requirement already satisfied: google-pasta>=0.1.1 in /home/andressa.amaral/.local/lib/python3.8/site-packages (from tensorflow-gpu) (0.2.0)\n",
      "Requirement already satisfied: absl-py>=1.0.0 in /home/andressa.amaral/.local/lib/python3.8/site-packages (from tensorflow-gpu) (1.3.0)\n",
      "Requirement already satisfied: termcolor>=1.1.0 in /home/andressa.amaral/.local/lib/python3.8/site-packages (from tensorflow-gpu) (2.1.0)\n",
      "Requirement already satisfied: tensorboard<2.12,>=2.11 in /home/andressa.amaral/.local/lib/python3.8/site-packages (from tensorflow-gpu) (2.11.0)\n",
      "Requirement already satisfied: flatbuffers>=2.0 in /home/andressa.amaral/.local/lib/python3.8/site-packages (from tensorflow-gpu) (22.10.26)\n",
      "Requirement already satisfied: tensorflow-io-gcs-filesystem>=0.23.1 in /home/andressa.amaral/.local/lib/python3.8/site-packages (from tensorflow-gpu) (0.27.0)\n",
      "Requirement already satisfied: gast<=0.4.0,>=0.2.1 in /home/andressa.amaral/.local/lib/python3.8/site-packages (from tensorflow-gpu) (0.4.0)\n",
      "Requirement already satisfied: libclang>=13.0.0 in /home/andressa.amaral/.local/lib/python3.8/site-packages (from tensorflow-gpu) (14.0.6)\n",
      "Requirement already satisfied: tensorflow-estimator<2.12,>=2.11.0 in /home/andressa.amaral/.local/lib/python3.8/site-packages (from tensorflow-gpu) (2.11.0)\n",
      "Requirement already satisfied: astunparse>=1.6.0 in /home/andressa.amaral/.local/lib/python3.8/site-packages (from tensorflow-gpu) (1.6.3)\n",
      "Requirement already satisfied: setuptools in /home/andressa.amaral/.local/lib/python3.8/site-packages (from tensorflow-gpu) (65.5.1)\n",
      "Requirement already satisfied: protobuf<3.20,>=3.9.2 in /home/andressa.amaral/.local/lib/python3.8/site-packages (from tensorflow-gpu) (3.19.6)\n",
      "Requirement already satisfied: packaging in /home/andressa.amaral/.local/lib/python3.8/site-packages (from tensorflow-gpu) (21.3)\n",
      "Requirement already satisfied: six>=1.12.0 in /home/andressa.amaral/.local/lib/python3.8/site-packages (from tensorflow-gpu) (1.16.0)\n",
      "Requirement already satisfied: wrapt>=1.11.0 in /home/andressa.amaral/.local/lib/python3.8/site-packages (from tensorflow-gpu) (1.14.1)\n",
      "Requirement already satisfied: numpy>=1.20 in /home/andressa.amaral/.local/lib/python3.8/site-packages (from tensorflow-gpu) (1.23.4)\n",
      "Requirement already satisfied: grpcio<2.0,>=1.24.3 in /home/andressa.amaral/.local/lib/python3.8/site-packages (from tensorflow-gpu) (1.50.0)\n",
      "Requirement already satisfied: typing-extensions>=3.6.6 in /home/andressa.amaral/.local/lib/python3.8/site-packages (from tensorflow-gpu) (4.4.0)\n",
      "Requirement already satisfied: h5py>=2.9.0 in /home/andressa.amaral/.local/lib/python3.8/site-packages (from tensorflow-gpu) (3.7.0)\n",
      "Requirement already satisfied: keras<2.12,>=2.11.0 in /home/andressa.amaral/.local/lib/python3.8/site-packages (from tensorflow-gpu) (2.11.0)\n",
      "Requirement already satisfied: opt-einsum>=2.3.2 in /home/andressa.amaral/.local/lib/python3.8/site-packages (from tensorflow-gpu) (3.3.0)\n",
      "Requirement already satisfied: wheel<1.0,>=0.23.0 in /usr/lib/python3/dist-packages (from astunparse>=1.6.0->tensorflow-gpu) (0.30.0)\n",
      "Requirement already satisfied: werkzeug>=1.0.1 in /home/andressa.amaral/.local/lib/python3.8/site-packages (from tensorboard<2.12,>=2.11->tensorflow-gpu) (2.2.2)\n",
      "Requirement already satisfied: tensorboard-data-server<0.7.0,>=0.6.0 in /home/andressa.amaral/.local/lib/python3.8/site-packages (from tensorboard<2.12,>=2.11->tensorflow-gpu) (0.6.1)\n",
      "Requirement already satisfied: tensorboard-plugin-wit>=1.6.0 in /home/andressa.amaral/.local/lib/python3.8/site-packages (from tensorboard<2.12,>=2.11->tensorflow-gpu) (1.8.1)\n",
      "Requirement already satisfied: requests<3,>=2.21.0 in /home/andressa.amaral/.local/lib/python3.8/site-packages (from tensorboard<2.12,>=2.11->tensorflow-gpu) (2.28.1)\n",
      "Requirement already satisfied: google-auth<3,>=1.6.3 in /home/andressa.amaral/.local/lib/python3.8/site-packages (from tensorboard<2.12,>=2.11->tensorflow-gpu) (2.14.1)\n",
      "Requirement already satisfied: markdown>=2.6.8 in /home/andressa.amaral/.local/lib/python3.8/site-packages (from tensorboard<2.12,>=2.11->tensorflow-gpu) (3.4.1)\n",
      "Requirement already satisfied: google-auth-oauthlib<0.5,>=0.4.1 in /home/andressa.amaral/.local/lib/python3.8/site-packages (from tensorboard<2.12,>=2.11->tensorflow-gpu) (0.4.6)\n",
      "Requirement already satisfied: pyparsing!=3.0.5,>=2.0.2 in /home/andressa.amaral/.local/lib/python3.8/site-packages (from packaging->tensorflow-gpu) (3.0.9)\n",
      "Requirement already satisfied: cachetools<6.0,>=2.0.0 in /home/andressa.amaral/.local/lib/python3.8/site-packages (from google-auth<3,>=1.6.3->tensorboard<2.12,>=2.11->tensorflow-gpu) (5.2.0)\n",
      "Requirement already satisfied: pyasn1-modules>=0.2.1 in /home/andressa.amaral/.local/lib/python3.8/site-packages (from google-auth<3,>=1.6.3->tensorboard<2.12,>=2.11->tensorflow-gpu) (0.2.8)\n",
      "Requirement already satisfied: rsa<5,>=3.1.4 in /home/andressa.amaral/.local/lib/python3.8/site-packages (from google-auth<3,>=1.6.3->tensorboard<2.12,>=2.11->tensorflow-gpu) (4.9)\n",
      "Requirement already satisfied: requests-oauthlib>=0.7.0 in /home/andressa.amaral/.local/lib/python3.8/site-packages (from google-auth-oauthlib<0.5,>=0.4.1->tensorboard<2.12,>=2.11->tensorflow-gpu) (1.3.1)\n"
     ]
    },
    {
     "name": "stdout",
     "output_type": "stream",
     "text": [
      "Requirement already satisfied: importlib-metadata>=4.4 in /home/andressa.amaral/.local/lib/python3.8/site-packages (from markdown>=2.6.8->tensorboard<2.12,>=2.11->tensorflow-gpu) (5.0.0)\n",
      "Requirement already satisfied: idna<4,>=2.5 in /home/andressa.amaral/.local/lib/python3.8/site-packages (from requests<3,>=2.21.0->tensorboard<2.12,>=2.11->tensorflow-gpu) (3.4)\n",
      "Requirement already satisfied: charset-normalizer<3,>=2 in /home/andressa.amaral/.local/lib/python3.8/site-packages (from requests<3,>=2.21.0->tensorboard<2.12,>=2.11->tensorflow-gpu) (2.1.1)\n",
      "Requirement already satisfied: certifi>=2017.4.17 in /usr/lib/python3/dist-packages (from requests<3,>=2.21.0->tensorboard<2.12,>=2.11->tensorflow-gpu) (2018.1.18)\n",
      "Requirement already satisfied: urllib3<1.27,>=1.21.1 in /usr/lib/python3/dist-packages (from requests<3,>=2.21.0->tensorboard<2.12,>=2.11->tensorflow-gpu) (1.22)\n",
      "Requirement already satisfied: MarkupSafe>=2.1.1 in /home/andressa.amaral/.local/lib/python3.8/site-packages (from werkzeug>=1.0.1->tensorboard<2.12,>=2.11->tensorflow-gpu) (2.1.1)\n",
      "Requirement already satisfied: zipp>=0.5 in /home/andressa.amaral/.local/lib/python3.8/site-packages (from importlib-metadata>=4.4->markdown>=2.6.8->tensorboard<2.12,>=2.11->tensorflow-gpu) (3.10.0)\n",
      "Requirement already satisfied: pyasn1<0.5.0,>=0.4.6 in /home/andressa.amaral/.local/lib/python3.8/site-packages (from pyasn1-modules>=0.2.1->google-auth<3,>=1.6.3->tensorboard<2.12,>=2.11->tensorflow-gpu) (0.4.8)\n",
      "Requirement already satisfied: oauthlib>=3.0.0 in /home/andressa.amaral/.local/lib/python3.8/site-packages (from requests-oauthlib>=0.7.0->google-auth-oauthlib<0.5,>=0.4.1->tensorboard<2.12,>=2.11->tensorflow-gpu) (3.2.2)\n",
      "Defaulting to user installation because normal site-packages is not writeable\n",
      "Requirement already satisfied: import-ipynb in /home/andressa.amaral/.local/lib/python3.8/site-packages (0.1.4)\n",
      "Requirement already satisfied: nbformat in /home/andressa.amaral/.local/lib/python3.8/site-packages (from import-ipynb) (5.7.0)\n",
      "Requirement already satisfied: IPython in /home/andressa.amaral/.local/lib/python3.8/site-packages (from import-ipynb) (8.6.0)\n",
      "Requirement already satisfied: decorator in /usr/lib/python3/dist-packages (from IPython->import-ipynb) (4.1.2)\n",
      "Requirement already satisfied: matplotlib-inline in /home/andressa.amaral/.local/lib/python3.8/site-packages (from IPython->import-ipynb) (0.1.6)\n",
      "Requirement already satisfied: pickleshare in /home/andressa.amaral/.local/lib/python3.8/site-packages (from IPython->import-ipynb) (0.7.5)\n",
      "Requirement already satisfied: pexpect>4.3 in /home/andressa.amaral/.local/lib/python3.8/site-packages (from IPython->import-ipynb) (4.8.0)\n",
      "Requirement already satisfied: stack-data in /home/andressa.amaral/.local/lib/python3.8/site-packages (from IPython->import-ipynb) (0.6.1)\n",
      "Requirement already satisfied: traitlets>=5 in /home/andressa.amaral/.local/lib/python3.8/site-packages (from IPython->import-ipynb) (5.5.0)\n",
      "Requirement already satisfied: prompt-toolkit<3.1.0,>3.0.1 in /home/andressa.amaral/.local/lib/python3.8/site-packages (from IPython->import-ipynb) (3.0.32)\n",
      "Requirement already satisfied: backcall in /home/andressa.amaral/.local/lib/python3.8/site-packages (from IPython->import-ipynb) (0.2.0)\n",
      "Requirement already satisfied: pygments>=2.4.0 in /home/andressa.amaral/.local/lib/python3.8/site-packages (from IPython->import-ipynb) (2.13.0)\n",
      "Requirement already satisfied: jedi>=0.16 in /home/andressa.amaral/.local/lib/python3.8/site-packages (from IPython->import-ipynb) (0.18.1)\n",
      "Requirement already satisfied: jupyter-core in /home/andressa.amaral/.local/lib/python3.8/site-packages (from nbformat->import-ipynb) (5.0.0)\n",
      "Requirement already satisfied: jsonschema>=2.6 in /home/andressa.amaral/.local/lib/python3.8/site-packages (from nbformat->import-ipynb) (4.17.0)\n",
      "Requirement already satisfied: fastjsonschema in /home/andressa.amaral/.local/lib/python3.8/site-packages (from nbformat->import-ipynb) (2.16.2)\n",
      "Requirement already satisfied: parso<0.9.0,>=0.8.0 in /home/andressa.amaral/.local/lib/python3.8/site-packages (from jedi>=0.16->IPython->import-ipynb) (0.8.3)\n",
      "Requirement already satisfied: pyrsistent!=0.17.0,!=0.17.1,!=0.17.2,>=0.14.0 in /home/andressa.amaral/.local/lib/python3.8/site-packages (from jsonschema>=2.6->nbformat->import-ipynb) (0.19.2)\n",
      "Requirement already satisfied: pkgutil-resolve-name>=1.3.10 in /home/andressa.amaral/.local/lib/python3.8/site-packages (from jsonschema>=2.6->nbformat->import-ipynb) (1.3.10)\n",
      "Requirement already satisfied: importlib-resources>=1.4.0 in /home/andressa.amaral/.local/lib/python3.8/site-packages (from jsonschema>=2.6->nbformat->import-ipynb) (5.10.0)\n",
      "Requirement already satisfied: attrs>=17.4.0 in /home/andressa.amaral/.local/lib/python3.8/site-packages (from jsonschema>=2.6->nbformat->import-ipynb) (22.1.0)\n",
      "Requirement already satisfied: ptyprocess>=0.5 in /home/andressa.amaral/.local/lib/python3.8/site-packages (from pexpect>4.3->IPython->import-ipynb) (0.7.0)\n",
      "Requirement already satisfied: wcwidth in /home/andressa.amaral/.local/lib/python3.8/site-packages (from prompt-toolkit<3.1.0,>3.0.1->IPython->import-ipynb) (0.2.5)\n",
      "Requirement already satisfied: platformdirs in /home/andressa.amaral/.local/lib/python3.8/site-packages (from jupyter-core->nbformat->import-ipynb) (2.5.4)\n",
      "Requirement already satisfied: asttokens>=2.1.0 in /home/andressa.amaral/.local/lib/python3.8/site-packages (from stack-data->IPython->import-ipynb) (2.1.0)\n",
      "Requirement already satisfied: executing>=1.2.0 in /home/andressa.amaral/.local/lib/python3.8/site-packages (from stack-data->IPython->import-ipynb) (1.2.0)\n",
      "Requirement already satisfied: pure-eval in /home/andressa.amaral/.local/lib/python3.8/site-packages (from stack-data->IPython->import-ipynb) (0.2.2)\n",
      "Requirement already satisfied: six in /home/andressa.amaral/.local/lib/python3.8/site-packages (from asttokens>=2.1.0->stack-data->IPython->import-ipynb) (1.16.0)\n",
      "Requirement already satisfied: zipp>=3.1.0 in /home/andressa.amaral/.local/lib/python3.8/site-packages (from importlib-resources>=1.4.0->jsonschema>=2.6->nbformat->import-ipynb) (3.10.0)\n",
      "Defaulting to user installation because normal site-packages is not writeable\n",
      "Requirement already satisfied: cuda-python in /home/andressa.amaral/.local/lib/python3.8/site-packages (11.8.1)\n",
      "Requirement already satisfied: cython in /home/andressa.amaral/.local/lib/python3.8/site-packages (from cuda-python) (0.29.32)\n",
      "importing Jupyter notebook from AttackClassificationModel.ipynb\n",
      "Defaulting to user installation because normal site-packages is not writeable\n",
      "Requirement already satisfied: pandas in /home/andressa.amaral/.local/lib/python3.8/site-packages (1.5.1)\n",
      "Requirement already satisfied: python-dateutil>=2.8.1 in /home/andressa.amaral/.local/lib/python3.8/site-packages (from pandas) (2.8.2)\n",
      "Requirement already satisfied: numpy>=1.20.3 in /home/andressa.amaral/.local/lib/python3.8/site-packages (from pandas) (1.23.4)\n",
      "Requirement already satisfied: pytz>=2020.1 in /home/andressa.amaral/.local/lib/python3.8/site-packages (from pandas) (2022.6)\n",
      "Requirement already satisfied: six>=1.5 in /home/andressa.amaral/.local/lib/python3.8/site-packages (from python-dateutil>=2.8.1->pandas) (1.16.0)\n",
      "Defaulting to user installation because normal site-packages is not writeable\n",
      "Requirement already satisfied: tensorflow-gpu in /home/andressa.amaral/.local/lib/python3.8/site-packages (2.11.0)\n",
      "Requirement already satisfied: grpcio<2.0,>=1.24.3 in /home/andressa.amaral/.local/lib/python3.8/site-packages (from tensorflow-gpu) (1.50.0)\n",
      "Requirement already satisfied: libclang>=13.0.0 in /home/andressa.amaral/.local/lib/python3.8/site-packages (from tensorflow-gpu) (14.0.6)\n",
      "Requirement already satisfied: tensorflow-io-gcs-filesystem>=0.23.1 in /home/andressa.amaral/.local/lib/python3.8/site-packages (from tensorflow-gpu) (0.27.0)\n",
      "Requirement already satisfied: protobuf<3.20,>=3.9.2 in /home/andressa.amaral/.local/lib/python3.8/site-packages (from tensorflow-gpu) (3.19.6)\n",
      "Requirement already satisfied: astunparse>=1.6.0 in /home/andressa.amaral/.local/lib/python3.8/site-packages (from tensorflow-gpu) (1.6.3)\n",
      "Requirement already satisfied: opt-einsum>=2.3.2 in /home/andressa.amaral/.local/lib/python3.8/site-packages (from tensorflow-gpu) (3.3.0)\n",
      "Requirement already satisfied: keras<2.12,>=2.11.0 in /home/andressa.amaral/.local/lib/python3.8/site-packages (from tensorflow-gpu) (2.11.0)\n",
      "Requirement already satisfied: tensorboard<2.12,>=2.11 in /home/andressa.amaral/.local/lib/python3.8/site-packages (from tensorflow-gpu) (2.11.0)\n",
      "Requirement already satisfied: gast<=0.4.0,>=0.2.1 in /home/andressa.amaral/.local/lib/python3.8/site-packages (from tensorflow-gpu) (0.4.0)\n",
      "Requirement already satisfied: typing-extensions>=3.6.6 in /home/andressa.amaral/.local/lib/python3.8/site-packages (from tensorflow-gpu) (4.4.0)\n",
      "Requirement already satisfied: flatbuffers>=2.0 in /home/andressa.amaral/.local/lib/python3.8/site-packages (from tensorflow-gpu) (22.10.26)\n",
      "Requirement already satisfied: google-pasta>=0.1.1 in /home/andressa.amaral/.local/lib/python3.8/site-packages (from tensorflow-gpu) (0.2.0)\n",
      "Requirement already satisfied: setuptools in /home/andressa.amaral/.local/lib/python3.8/site-packages (from tensorflow-gpu) (65.5.1)\n",
      "Requirement already satisfied: packaging in /home/andressa.amaral/.local/lib/python3.8/site-packages (from tensorflow-gpu) (21.3)\n",
      "Requirement already satisfied: absl-py>=1.0.0 in /home/andressa.amaral/.local/lib/python3.8/site-packages (from tensorflow-gpu) (1.3.0)\n",
      "Requirement already satisfied: wrapt>=1.11.0 in /home/andressa.amaral/.local/lib/python3.8/site-packages (from tensorflow-gpu) (1.14.1)\n",
      "Requirement already satisfied: h5py>=2.9.0 in /home/andressa.amaral/.local/lib/python3.8/site-packages (from tensorflow-gpu) (3.7.0)\n",
      "Requirement already satisfied: six>=1.12.0 in /home/andressa.amaral/.local/lib/python3.8/site-packages (from tensorflow-gpu) (1.16.0)\n",
      "Requirement already satisfied: tensorflow-estimator<2.12,>=2.11.0 in /home/andressa.amaral/.local/lib/python3.8/site-packages (from tensorflow-gpu) (2.11.0)\n",
      "Requirement already satisfied: numpy>=1.20 in /home/andressa.amaral/.local/lib/python3.8/site-packages (from tensorflow-gpu) (1.23.4)\n",
      "Requirement already satisfied: termcolor>=1.1.0 in /home/andressa.amaral/.local/lib/python3.8/site-packages (from tensorflow-gpu) (2.1.0)\n"
     ]
    },
    {
     "name": "stdout",
     "output_type": "stream",
     "text": [
      "Requirement already satisfied: wheel<1.0,>=0.23.0 in /usr/lib/python3/dist-packages (from astunparse>=1.6.0->tensorflow-gpu) (0.30.0)\n",
      "Requirement already satisfied: tensorboard-plugin-wit>=1.6.0 in /home/andressa.amaral/.local/lib/python3.8/site-packages (from tensorboard<2.12,>=2.11->tensorflow-gpu) (1.8.1)\n",
      "Requirement already satisfied: werkzeug>=1.0.1 in /home/andressa.amaral/.local/lib/python3.8/site-packages (from tensorboard<2.12,>=2.11->tensorflow-gpu) (2.2.2)\n",
      "Requirement already satisfied: markdown>=2.6.8 in /home/andressa.amaral/.local/lib/python3.8/site-packages (from tensorboard<2.12,>=2.11->tensorflow-gpu) (3.4.1)\n",
      "Requirement already satisfied: requests<3,>=2.21.0 in /home/andressa.amaral/.local/lib/python3.8/site-packages (from tensorboard<2.12,>=2.11->tensorflow-gpu) (2.28.1)\n",
      "Requirement already satisfied: tensorboard-data-server<0.7.0,>=0.6.0 in /home/andressa.amaral/.local/lib/python3.8/site-packages (from tensorboard<2.12,>=2.11->tensorflow-gpu) (0.6.1)\n",
      "Requirement already satisfied: google-auth<3,>=1.6.3 in /home/andressa.amaral/.local/lib/python3.8/site-packages (from tensorboard<2.12,>=2.11->tensorflow-gpu) (2.14.1)\n",
      "Requirement already satisfied: google-auth-oauthlib<0.5,>=0.4.1 in /home/andressa.amaral/.local/lib/python3.8/site-packages (from tensorboard<2.12,>=2.11->tensorflow-gpu) (0.4.6)\n",
      "Requirement already satisfied: pyparsing!=3.0.5,>=2.0.2 in /home/andressa.amaral/.local/lib/python3.8/site-packages (from packaging->tensorflow-gpu) (3.0.9)\n",
      "Requirement already satisfied: rsa<5,>=3.1.4 in /home/andressa.amaral/.local/lib/python3.8/site-packages (from google-auth<3,>=1.6.3->tensorboard<2.12,>=2.11->tensorflow-gpu) (4.9)\n",
      "Requirement already satisfied: pyasn1-modules>=0.2.1 in /home/andressa.amaral/.local/lib/python3.8/site-packages (from google-auth<3,>=1.6.3->tensorboard<2.12,>=2.11->tensorflow-gpu) (0.2.8)\n",
      "Requirement already satisfied: cachetools<6.0,>=2.0.0 in /home/andressa.amaral/.local/lib/python3.8/site-packages (from google-auth<3,>=1.6.3->tensorboard<2.12,>=2.11->tensorflow-gpu) (5.2.0)\n",
      "Requirement already satisfied: requests-oauthlib>=0.7.0 in /home/andressa.amaral/.local/lib/python3.8/site-packages (from google-auth-oauthlib<0.5,>=0.4.1->tensorboard<2.12,>=2.11->tensorflow-gpu) (1.3.1)\n",
      "Requirement already satisfied: importlib-metadata>=4.4 in /home/andressa.amaral/.local/lib/python3.8/site-packages (from markdown>=2.6.8->tensorboard<2.12,>=2.11->tensorflow-gpu) (5.0.0)\n",
      "Requirement already satisfied: idna<4,>=2.5 in /home/andressa.amaral/.local/lib/python3.8/site-packages (from requests<3,>=2.21.0->tensorboard<2.12,>=2.11->tensorflow-gpu) (3.4)\n",
      "Requirement already satisfied: charset-normalizer<3,>=2 in /home/andressa.amaral/.local/lib/python3.8/site-packages (from requests<3,>=2.21.0->tensorboard<2.12,>=2.11->tensorflow-gpu) (2.1.1)\n",
      "Requirement already satisfied: urllib3<1.27,>=1.21.1 in /usr/lib/python3/dist-packages (from requests<3,>=2.21.0->tensorboard<2.12,>=2.11->tensorflow-gpu) (1.22)\n",
      "Requirement already satisfied: certifi>=2017.4.17 in /usr/lib/python3/dist-packages (from requests<3,>=2.21.0->tensorboard<2.12,>=2.11->tensorflow-gpu) (2018.1.18)\n",
      "Requirement already satisfied: MarkupSafe>=2.1.1 in /home/andressa.amaral/.local/lib/python3.8/site-packages (from werkzeug>=1.0.1->tensorboard<2.12,>=2.11->tensorflow-gpu) (2.1.1)\n",
      "Requirement already satisfied: zipp>=0.5 in /home/andressa.amaral/.local/lib/python3.8/site-packages (from importlib-metadata>=4.4->markdown>=2.6.8->tensorboard<2.12,>=2.11->tensorflow-gpu) (3.10.0)\n",
      "Requirement already satisfied: pyasn1<0.5.0,>=0.4.6 in /home/andressa.amaral/.local/lib/python3.8/site-packages (from pyasn1-modules>=0.2.1->google-auth<3,>=1.6.3->tensorboard<2.12,>=2.11->tensorflow-gpu) (0.4.8)\n",
      "Requirement already satisfied: oauthlib>=3.0.0 in /home/andressa.amaral/.local/lib/python3.8/site-packages (from requests-oauthlib>=0.7.0->google-auth-oauthlib<0.5,>=0.4.1->tensorboard<2.12,>=2.11->tensorflow-gpu) (3.2.2)\n"
     ]
    }
   ],
   "source": [
    "!pip3 install pandas\n",
    "!pip3 install seaborn\n",
    "!pip3 install --upgrade tensorflow-gpu\n",
    "!pip3 install import-ipynb\n",
    "!pip3 install cuda-python\n",
    "\n",
    "import os\n",
    "os.environ['TF_CPP_MIN_LOG_LEVEL'] = '3' \n",
    "\n",
    "import matplotlib.pyplot as plt\n",
    "import seaborn as sns\n",
    "import numpy as np\n",
    "import pandas as pd\n",
    "import glob\n",
    "import math\n",
    "import pickle\n",
    "import time\n",
    "import sys\n",
    "\n",
    "import import_ipynb\n",
    "import AttackClassificationModel\n",
    "\n",
    "import tensorflow as tf\n",
    "tf.compat.v1.disable_eager_execution()\n",
    "from tensorflow.keras.optimizers.legacy import Nadam\n",
    "from tensorflow.keras.callbacks import ReduceLROnPlateau\n",
    "\n",
    "from sklearn.pipeline import Pipeline\n",
    "from sklearn.preprocessing import MinMaxScaler\n",
    "from sklearn.metrics import confusion_matrix\n",
    "from sklearn.neighbors import KNeighborsClassifier\n",
    "from sklearn.naive_bayes import GaussianNB\n",
    "\n",
    "from bayes_opt import BayesianOptimization\n",
    "\n",
    "%matplotlib inline"
   ]
  },
  {
   "cell_type": "code",
   "execution_count": 2,
   "id": "2f66dc0f",
   "metadata": {},
   "outputs": [],
   "source": [
    "gpu_options = tf.compat.v1.GPUOptions(per_process_gpu_memory_fraction = 0.333)\n",
    "sess = tf.compat.v1.Session(config = tf.compat.v1.ConfigProto(gpu_options = gpu_options))"
   ]
  },
  {
   "cell_type": "markdown",
   "id": "11aa8823",
   "metadata": {},
   "source": [
    "# Data Pre-Processing"
   ]
  },
  {
   "cell_type": "code",
   "execution_count": 3,
   "id": "f4772cee",
   "metadata": {},
   "outputs": [],
   "source": [
    "df_mirai = AttackClassificationModel.get_files_nbaiot_mirai('../../nbaiot/SimpleHome_XCS7_1002_WHT_Security_Camera/mirai')\n",
    "df_gafgyt = AttackClassificationModel.get_files_nbaiot_gafgyt('../../nbaiot/SimpleHome_XCS7_1002_WHT_Security_Camera/gafgyt')\n",
    "\n",
    "# Mirai Ack\n",
    "df_mirai_ack, label_mirai_ack = AttackClassificationModel.get_attack(0, df_mirai)\n",
    "\n",
    "# Mirai Scan\n",
    "df_mirai_scan, label_mirai_scan = AttackClassificationModel.get_attack(1, df_mirai)\n",
    "\n",
    "# Mirai Syn\n",
    "df_mirai_syn, label_mirai_syn = AttackClassificationModel.get_attack(2, df_mirai)\n",
    "\n",
    "# Mirai Udp\n",
    "df_mirai_udp, label_mirai_udp = AttackClassificationModel.get_attack(3, df_mirai)\n",
    "\n",
    "# Mirai Udpplain\n",
    "df_mirai_udpplain, label_mirai_udpplain = AttackClassificationModel.get_attack(4, df_mirai)\n",
    "\n",
    "# Gafgyt Combo\n",
    "df_gafgyt_combo, label_gafgyt_combo = AttackClassificationModel.get_attack(5, df_gafgyt)\n",
    "\n",
    "# Gafgyt Junk\n",
    "df_gafgyt_junk, label_gafgyt_junk = AttackClassificationModel.get_attack(6, df_gafgyt)\n",
    "\n",
    "# Gafgyt Scan\n",
    "df_gafgyt_scan, label_gafgyt_scan = AttackClassificationModel.get_attack(7, df_gafgyt)\n",
    "\n",
    "# Gafgyt Tcp\n",
    "df_gafgyt_tcp, label_gafgyt_tcp = AttackClassificationModel.get_attack(8, df_gafgyt)\n",
    "\n",
    "# Gafgyt Udp\n",
    "df_gafgyt_udp, label_gafgyt_udp = AttackClassificationModel.get_attack(9, df_gafgyt)"
   ]
  },
  {
   "cell_type": "code",
   "execution_count": 4,
   "id": "799caafb",
   "metadata": {},
   "outputs": [],
   "source": [
    "# Normalize with the min-max scaler\n",
    "scaler = MinMaxScaler()\n",
    "df_mirai_ack_norm = scaler.fit_transform(df_mirai_ack)\n",
    "df_mirai_scan_norm = scaler.fit_transform(df_mirai_scan)\n",
    "df_mirai_syn_norm = scaler.fit_transform(df_mirai_syn)\n",
    "df_mirai_udp_norm = scaler.fit_transform(df_mirai_udp)\n",
    "df_mirai_udpplain_norm = scaler.fit_transform(df_mirai_udpplain)\n",
    "df_gafgyt_combo_norm = scaler.fit_transform(df_gafgyt_combo)\n",
    "df_gafgyt_junk_norm = scaler.fit_transform(df_gafgyt_junk)\n",
    "df_gafgyt_scan_norm = scaler.fit_transform(df_gafgyt_scan)\n",
    "df_gafgyt_tcp_norm = scaler.fit_transform(df_gafgyt_tcp)\n",
    "df_gafgyt_udp_norm = scaler.fit_transform(df_gafgyt_udp)"
   ]
  },
  {
   "cell_type": "markdown",
   "id": "de4441de",
   "metadata": {},
   "source": [
    "# Sets"
   ]
  },
  {
   "cell_type": "code",
   "execution_count": 5,
   "id": "c9f39694",
   "metadata": {},
   "outputs": [
    {
     "name": "stderr",
     "output_type": "stream",
     "text": [
      "/tmp/ipykernel_3211/1306594598.py:34: FutureWarning: The behavior of `series[i:j]` with an integer-dtype index is deprecated. In a future version, this will be treated as *label-based* indexing, consistent with e.g. `series[i]` lookups. To retain the old behavior, use `series.iloc[i:j]`. To get the future behavior, use `series.loc[i:j]`.\n",
      "  Y_train = np.concatenate([label_mirai_ack[:len_mirai_ack_train], label_mirai_scan[:len_mirai_scan_train], label_mirai_syn[:len_mirai_syn_train],\n",
      "/tmp/ipykernel_3211/1306594598.py:35: FutureWarning: The behavior of `series[i:j]` with an integer-dtype index is deprecated. In a future version, this will be treated as *label-based* indexing, consistent with e.g. `series[i]` lookups. To retain the old behavior, use `series.iloc[i:j]`. To get the future behavior, use `series.loc[i:j]`.\n",
      "  label_mirai_udp[:len_mirai_udp_train], label_mirai_udpplain[:len_mirai_udpplain_train],\n",
      "/tmp/ipykernel_3211/1306594598.py:36: FutureWarning: The behavior of `series[i:j]` with an integer-dtype index is deprecated. In a future version, this will be treated as *label-based* indexing, consistent with e.g. `series[i]` lookups. To retain the old behavior, use `series.iloc[i:j]`. To get the future behavior, use `series.loc[i:j]`.\n",
      "  label_gafgyt_combo[:len_gafgyt_combo_train], label_gafgyt_junk[:len_gafgyt_junk_train],\n",
      "/tmp/ipykernel_3211/1306594598.py:37: FutureWarning: The behavior of `series[i:j]` with an integer-dtype index is deprecated. In a future version, this will be treated as *label-based* indexing, consistent with e.g. `series[i]` lookups. To retain the old behavior, use `series.iloc[i:j]`. To get the future behavior, use `series.loc[i:j]`.\n",
      "  label_gafgyt_scan[:len_gafgyt_scan_train], label_gafgyt_tcp[:len_gafgyt_tcp_train], label_gafgyt_udp[:len_gafgyt_udp_train]])\n"
     ]
    }
   ],
   "source": [
    "# Train\n",
    "len_mirai_ack_train = int(0.7 * len(df_mirai_ack_norm))\n",
    "X_mirai_ack_train = df_mirai_ack_norm[:len_mirai_ack_train]\n",
    "\n",
    "len_mirai_scan_train = int(0.7 * len(df_mirai_scan_norm))\n",
    "X_mirai_scan_train = df_mirai_scan_norm[:len_mirai_scan_train]\n",
    "\n",
    "len_mirai_syn_train = int(0.7 * len(df_mirai_syn_norm))\n",
    "X_mirai_syn_train = df_mirai_syn_norm[:len_mirai_syn_train]\n",
    "\n",
    "len_mirai_udp_train = int(0.7 * len(df_mirai_udp_norm))\n",
    "X_mirai_udp_train = df_mirai_udp_norm[:len_mirai_udp_train]\n",
    "\n",
    "len_mirai_udpplain_train = int(0.7 * len(df_mirai_udpplain_norm))\n",
    "X_mirai_udpplain_train = df_mirai_udpplain_norm[:len_mirai_udpplain_train]\n",
    "\n",
    "len_gafgyt_combo_train = int(0.7 * len(df_gafgyt_combo_norm))\n",
    "X_gafgyt_combo_train = df_gafgyt_combo_norm[:len_gafgyt_combo_train]\n",
    "\n",
    "len_gafgyt_junk_train = int(0.7 * len(df_gafgyt_junk_norm))\n",
    "X_gafgyt_junk_train = df_gafgyt_junk_norm[:len_gafgyt_junk_train]\n",
    "\n",
    "len_gafgyt_scan_train = int(0.7 * len(df_gafgyt_scan_norm))\n",
    "X_gafgyt_scan_train = df_gafgyt_scan_norm[:len_gafgyt_scan_train]\n",
    "\n",
    "len_gafgyt_tcp_train = int(0.7 * len(df_gafgyt_tcp_norm))\n",
    "X_gafgyt_tcp_train = df_gafgyt_tcp_norm[:len_gafgyt_tcp_train]\n",
    "\n",
    "len_gafgyt_udp_train = int(0.7 * len(df_gafgyt_udp_norm))\n",
    "X_gafgyt_udp_train = df_gafgyt_udp_norm[:len_gafgyt_udp_train]\n",
    "\n",
    "X_train = np.concatenate([X_mirai_ack_train, X_mirai_scan_train, X_mirai_syn_train, X_mirai_udp_train, X_mirai_udpplain_train,\n",
    "                          X_gafgyt_combo_train, X_gafgyt_junk_train, X_gafgyt_scan_train, X_gafgyt_tcp_train, X_gafgyt_udp_train])\n",
    "Y_train = np.concatenate([label_mirai_ack[:len_mirai_ack_train], label_mirai_scan[:len_mirai_scan_train], label_mirai_syn[:len_mirai_syn_train], \n",
    "                          label_mirai_udp[:len_mirai_udp_train], label_mirai_udpplain[:len_mirai_udpplain_train],  \n",
    "                          label_gafgyt_combo[:len_gafgyt_combo_train], label_gafgyt_junk[:len_gafgyt_junk_train], \n",
    "                          label_gafgyt_scan[:len_gafgyt_scan_train], label_gafgyt_tcp[:len_gafgyt_tcp_train], label_gafgyt_udp[:len_gafgyt_udp_train]])"
   ]
  },
  {
   "cell_type": "code",
   "execution_count": 6,
   "id": "4f2506ab",
   "metadata": {},
   "outputs": [
    {
     "name": "stderr",
     "output_type": "stream",
     "text": [
      "/tmp/ipykernel_3211/1436925333.py:34: FutureWarning: The behavior of `series[i:j]` with an integer-dtype index is deprecated. In a future version, this will be treated as *label-based* indexing, consistent with e.g. `series[i]` lookups. To retain the old behavior, use `series.iloc[i:j]`. To get the future behavior, use `series.loc[i:j]`.\n",
      "  Y_test = np.concatenate([label_mirai_ack[len_mirai_ack_train : len_mirai_ack_test], label_mirai_scan[len_mirai_scan_train : len_mirai_scan_test], label_mirai_syn[len_mirai_syn_train : len_mirai_syn_test],\n",
      "/tmp/ipykernel_3211/1436925333.py:35: FutureWarning: The behavior of `series[i:j]` with an integer-dtype index is deprecated. In a future version, this will be treated as *label-based* indexing, consistent with e.g. `series[i]` lookups. To retain the old behavior, use `series.iloc[i:j]`. To get the future behavior, use `series.loc[i:j]`.\n",
      "  label_mirai_udp[len_mirai_udp_train : len_mirai_udp_test], label_mirai_udpplain[len_mirai_udpplain_train : len_mirai_udpplain_test],\n",
      "/tmp/ipykernel_3211/1436925333.py:36: FutureWarning: The behavior of `series[i:j]` with an integer-dtype index is deprecated. In a future version, this will be treated as *label-based* indexing, consistent with e.g. `series[i]` lookups. To retain the old behavior, use `series.iloc[i:j]`. To get the future behavior, use `series.loc[i:j]`.\n",
      "  label_gafgyt_combo[len_gafgyt_combo_train : len_gafgyt_combo_test], label_gafgyt_junk[len_gafgyt_junk_train : len_gafgyt_junk_test],\n",
      "/tmp/ipykernel_3211/1436925333.py:37: FutureWarning: The behavior of `series[i:j]` with an integer-dtype index is deprecated. In a future version, this will be treated as *label-based* indexing, consistent with e.g. `series[i]` lookups. To retain the old behavior, use `series.iloc[i:j]`. To get the future behavior, use `series.loc[i:j]`.\n",
      "  label_gafgyt_scan[len_gafgyt_scan_train : len_gafgyt_scan_test], label_gafgyt_tcp[len_gafgyt_tcp_train : len_gafgyt_tcp_test], label_gafgyt_udp[len_gafgyt_udp_train : len_gafgyt_udp_test]])\n"
     ]
    }
   ],
   "source": [
    "# Test\n",
    "len_mirai_ack_test = len_mirai_ack_train + int(0.15 * len(df_mirai_ack_norm))\n",
    "X_mirai_ack_test = df_mirai_ack_norm[len_mirai_ack_train : len_mirai_ack_test]\n",
    "\n",
    "len_mirai_scan_test = len_mirai_scan_train + int(0.15 * len(df_mirai_scan_norm))\n",
    "X_mirai_scan_test = df_mirai_scan_norm[len_mirai_scan_train : len_mirai_scan_test]\n",
    "\n",
    "len_mirai_syn_test = len_mirai_syn_train + int(0.15 * len(df_mirai_syn_norm))\n",
    "X_mirai_syn_test = df_mirai_syn_norm[len_mirai_syn_train : len_mirai_syn_test]\n",
    "\n",
    "len_mirai_udp_test = len_mirai_udp_train + int(0.15 * len(df_mirai_udp_norm))\n",
    "X_mirai_udp_test = df_mirai_udp_norm[len_mirai_udp_train : len_mirai_udp_test]\n",
    "\n",
    "len_mirai_udpplain_test = len_mirai_udpplain_train + int(0.15 * len(df_mirai_udpplain_norm))\n",
    "X_mirai_udpplain_test = df_mirai_udpplain_norm[len_mirai_udpplain_train : len_mirai_udpplain_test]\n",
    "\n",
    "len_gafgyt_combo_test = len_gafgyt_combo_train + int(0.15 * len(df_gafgyt_combo_norm))\n",
    "X_gafgyt_combo_test = df_gafgyt_combo_norm[len_gafgyt_combo_train : len_gafgyt_combo_test]\n",
    "\n",
    "len_gafgyt_junk_test = len_gafgyt_junk_train + int(0.15 * len(df_gafgyt_junk_norm))\n",
    "X_gafgyt_junk_test = df_gafgyt_junk_norm[len_gafgyt_junk_train : len_gafgyt_junk_test]\n",
    "\n",
    "len_gafgyt_scan_test = len_gafgyt_scan_train + int(0.15 * len(df_gafgyt_scan_norm))\n",
    "X_gafgyt_scan_test = df_gafgyt_scan_norm[len_gafgyt_scan_train : len_gafgyt_scan_test]\n",
    "\n",
    "len_gafgyt_tcp_test = len_gafgyt_tcp_train + int(0.15 * len(df_gafgyt_tcp_norm))\n",
    "X_gafgyt_tcp_test = df_gafgyt_tcp_norm[len_gafgyt_tcp_train : len_gafgyt_tcp_test]\n",
    "\n",
    "len_gafgyt_udp_test = len_gafgyt_udp_train + int(0.15 * len(df_gafgyt_udp_norm))\n",
    "X_gafgyt_udp_test = df_gafgyt_udp_norm[len_gafgyt_udp_train : len_gafgyt_udp_test]\n",
    "\n",
    "X_test = np.concatenate([X_mirai_ack_test, X_mirai_scan_test, X_mirai_syn_test, X_mirai_udp_test, X_mirai_udpplain_test,\n",
    "                          X_gafgyt_combo_test, X_gafgyt_junk_test, X_gafgyt_scan_test, X_gafgyt_tcp_test, X_gafgyt_udp_test])\n",
    "Y_test = np.concatenate([label_mirai_ack[len_mirai_ack_train : len_mirai_ack_test], label_mirai_scan[len_mirai_scan_train : len_mirai_scan_test], label_mirai_syn[len_mirai_syn_train : len_mirai_syn_test], \n",
    "                         label_mirai_udp[len_mirai_udp_train : len_mirai_udp_test], label_mirai_udpplain[len_mirai_udpplain_train : len_mirai_udpplain_test],  \n",
    "                         label_gafgyt_combo[len_gafgyt_combo_train : len_gafgyt_combo_test], label_gafgyt_junk[len_gafgyt_junk_train : len_gafgyt_junk_test], \n",
    "                         label_gafgyt_scan[len_gafgyt_scan_train : len_gafgyt_scan_test], label_gafgyt_tcp[len_gafgyt_tcp_train : len_gafgyt_tcp_test], label_gafgyt_udp[len_gafgyt_udp_train : len_gafgyt_udp_test]])\n"
   ]
  },
  {
   "cell_type": "code",
   "execution_count": 7,
   "id": "0a4ba0a6",
   "metadata": {},
   "outputs": [
    {
     "name": "stderr",
     "output_type": "stream",
     "text": [
      "/tmp/ipykernel_3211/1831440645.py:15: FutureWarning: The behavior of `series[i:j]` with an integer-dtype index is deprecated. In a future version, this will be treated as *label-based* indexing, consistent with e.g. `series[i]` lookups. To retain the old behavior, use `series.iloc[i:j]`. To get the future behavior, use `series.loc[i:j]`.\n",
      "  Y_val = np.concatenate([label_mirai_ack[len_mirai_ack_test:], label_mirai_scan[len_mirai_scan_test:], label_mirai_syn[len_mirai_syn_test:],\n",
      "/tmp/ipykernel_3211/1831440645.py:16: FutureWarning: The behavior of `series[i:j]` with an integer-dtype index is deprecated. In a future version, this will be treated as *label-based* indexing, consistent with e.g. `series[i]` lookups. To retain the old behavior, use `series.iloc[i:j]`. To get the future behavior, use `series.loc[i:j]`.\n",
      "  label_mirai_udp[len_mirai_udp_test:], label_mirai_udpplain[len_mirai_udpplain_test:],\n",
      "/tmp/ipykernel_3211/1831440645.py:17: FutureWarning: The behavior of `series[i:j]` with an integer-dtype index is deprecated. In a future version, this will be treated as *label-based* indexing, consistent with e.g. `series[i]` lookups. To retain the old behavior, use `series.iloc[i:j]`. To get the future behavior, use `series.loc[i:j]`.\n",
      "  label_gafgyt_combo[len_gafgyt_combo_test:], label_gafgyt_junk[len_gafgyt_junk_test:],\n",
      "/tmp/ipykernel_3211/1831440645.py:18: FutureWarning: The behavior of `series[i:j]` with an integer-dtype index is deprecated. In a future version, this will be treated as *label-based* indexing, consistent with e.g. `series[i]` lookups. To retain the old behavior, use `series.iloc[i:j]`. To get the future behavior, use `series.loc[i:j]`.\n",
      "  label_gafgyt_scan[len_gafgyt_scan_test:], label_gafgyt_tcp[len_gafgyt_tcp_test:], label_gafgyt_udp[len_gafgyt_udp_test:]])\n"
     ]
    }
   ],
   "source": [
    "# Validation\n",
    "X_mirai_ack_val = df_mirai_ack_norm[len_mirai_ack_test:]\n",
    "X_mirai_scan_val = df_mirai_scan_norm[len_mirai_scan_test:]\n",
    "X_mirai_syn_val = df_mirai_syn_norm[len_mirai_syn_test:]\n",
    "X_mirai_udp_val = df_mirai_udp_norm[len_mirai_udp_test:]\n",
    "X_mirai_udpplain_val = df_mirai_udpplain_norm[len_mirai_udpplain_test:]\n",
    "X_gafgyt_combo_val = df_gafgyt_combo_norm[len_gafgyt_combo_test:]\n",
    "X_gafgyt_junk_val = df_gafgyt_junk_norm[len_gafgyt_junk_test:]\n",
    "X_gafgyt_scan_val = df_gafgyt_scan_norm[len_gafgyt_scan_test:]\n",
    "X_gafgyt_udp_val = df_gafgyt_udp_norm[len_gafgyt_udp_test:]\n",
    "X_gafgyt_tcp_val = df_gafgyt_tcp_norm[len_gafgyt_tcp_test:]\n",
    "\n",
    "X_val = np.concatenate([X_mirai_ack_val, X_mirai_scan_val, X_mirai_syn_val, X_mirai_udp_val, X_mirai_udpplain_val,\n",
    "                        X_gafgyt_combo_val, X_gafgyt_junk_val, X_gafgyt_scan_val, X_gafgyt_tcp_val, X_gafgyt_udp_val])\n",
    "Y_val = np.concatenate([label_mirai_ack[len_mirai_ack_test:], label_mirai_scan[len_mirai_scan_test:], label_mirai_syn[len_mirai_syn_test:], \n",
    "                        label_mirai_udp[len_mirai_udp_test:], label_mirai_udpplain[len_mirai_udpplain_test:],  \n",
    "                        label_gafgyt_combo[len_gafgyt_combo_test:], label_gafgyt_junk[len_gafgyt_junk_test:], \n",
    "                        label_gafgyt_scan[len_gafgyt_scan_test:], label_gafgyt_tcp[len_gafgyt_tcp_test:], label_gafgyt_udp[len_gafgyt_udp_test:]])"
   ]
  },
  {
   "cell_type": "code",
   "execution_count": 8,
   "id": "8ff32a40",
   "metadata": {},
   "outputs": [],
   "source": [
    "X_train_CNN = np.reshape(X_train, (X_train.shape[0], X_train.shape[1], 1))\n",
    "X_test_CNN = np.reshape(X_test, (X_test.shape[0], X_test.shape[1], 1))\n",
    "X_val_CNN = np.reshape(X_val, (X_val.shape[0], X_val.shape[1], 1))\n",
    "\n",
    "samples, feature, depth = X_train_CNN.shape"
   ]
  },
  {
   "cell_type": "markdown",
   "id": "375447f8",
   "metadata": {},
   "source": [
    "# Model"
   ]
  },
  {
   "cell_type": "code",
   "execution_count": 9,
   "id": "93a1f5bc",
   "metadata": {},
   "outputs": [],
   "source": [
    "# Initial values\n",
    "batch_size = 50\n",
    "learning_rate = 0.008\n",
    "epochs = 5\n",
    "\n",
    "# Dictionary\n",
    "dict_params = { 'learning_rate': learning_rate, 'batch_size': round(batch_size), 'epochs': round(epochs) }\n",
    "pbounds = { 'learning_rate': (0.000001, 0.001), 'batch_size': (10, 23), 'epochs': (1, 100) }"
   ]
  },
  {
   "cell_type": "code",
   "execution_count": 10,
   "id": "1eb36f6a",
   "metadata": {},
   "outputs": [],
   "source": [
    "cnn_model = AttackClassificationModel.CNN(feature, depth, 10)\n",
    "reduce_lr = ReduceLROnPlateau(moniter = 'val_loss', factor = 0.1, patience = 10)"
   ]
  },
  {
   "cell_type": "markdown",
   "id": "c3febd08",
   "metadata": {},
   "source": [
    "# Hyperparameter Optimization"
   ]
  },
  {
   "cell_type": "code",
   "execution_count": 11,
   "id": "c59685ca",
   "metadata": {},
   "outputs": [],
   "source": [
    "def maximize_training(X_train = X_train_CNN,\n",
    "                      Y_train = Y_train, \n",
    "                      X_val = X_val_CNN, \n",
    "                      Y_val = Y_val, \n",
    "                      X_test = X_test_CNN, \n",
    "                      Y_test = Y_test, \n",
    "                      learning_rate = learning_rate, \n",
    "                      epochs = epochs, \n",
    "                      batch_size = batch_size,\n",
    "                      reduce_lr = reduce_lr):\n",
    "    \n",
    "    nadam = optimizers.Nadam(learning_rate = dict_params['learning_rate'], beta_1 = 0.9, beta_2 = 0.999, epsilon = 1e-08, schedule_decay = 0.004)\n",
    "    model = AttackClassificationModel.CNN_nbaiot(feature, depth)\n",
    "    model.compile(loss = \"sparse_categorical_crossentropy\", optimizer = \"nadam\", metrics = [\"accuracy\"])\n",
    "    \n",
    "    history = model.fit(X_train, Y_train, \n",
    "                        epochs = dict_params['epochs'], \n",
    "                        batch_size = dict_params['batch_size'], \n",
    "                        validation_data = (X_val, Y_val),\n",
    "                        callbacks = [reduce_lr],\n",
    "                        verbose = 0)\n",
    "\n",
    "    scores = model.evaluate(X_test, Y_test)\n",
    "    return scores[1]"
   ]
  },
  {
   "cell_type": "code",
   "execution_count": 12,
   "id": "fc827af5",
   "metadata": {},
   "outputs": [
    {
     "data": {
      "text/plain": [
       "'\\n# Apply Bayesian optimization to choose the best hyperparameters\\n\\nopt = BayesianOptimization(f = maximize_training,\\n                           pbounds = pbounds,\\n                           verbose = 2, \\n                           random_state = 1)\\n\\nopt_start = time.time()\\n\\nopt.maximize(init_points = 5, n_iter = 5)\\n\\nopt_end = time.time()\\nopt_time = opt_end - opt_start\\nprint(\"Optimization time:\", opt_time)\\n\\nlearning_rate = opt.max[\\'params\\'][\\'learning_rate\\']\\nepochs = round(opt.max[\\'params\\'][\\'epochs\\'])\\nbatch_size = round(opt.max[\\'params\\'][\\'batch_size\\'])\\n'"
      ]
     },
     "execution_count": 12,
     "metadata": {},
     "output_type": "execute_result"
    }
   ],
   "source": [
    "'''\n",
    "# Apply Bayesian optimization to choose the best hyperparameters\n",
    "\n",
    "opt = BayesianOptimization(f = maximize_training,\n",
    "                           pbounds = pbounds,\n",
    "                           verbose = 2, \n",
    "                           random_state = 1)\n",
    "\n",
    "opt_start = time.time()\n",
    "\n",
    "opt.maximize(init_points = 5, n_iter = 5)\n",
    "\n",
    "opt_end = time.time()\n",
    "opt_time = opt_end - opt_start\n",
    "print(\"Optimization time:\", opt_time)\n",
    "\n",
    "learning_rate = opt.max['params']['learning_rate']\n",
    "epochs = round(opt.max['params']['epochs'])\n",
    "batch_size = round(opt.max['params']['batch_size'])\n",
    "'''"
   ]
  },
  {
   "cell_type": "markdown",
   "id": "556b5a4a",
   "metadata": {},
   "source": [
    "# Classify Attacks"
   ]
  },
  {
   "cell_type": "code",
   "execution_count": 13,
   "id": "a1f04655",
   "metadata": {},
   "outputs": [],
   "source": [
    "# Training step with the best hyperparameters\n",
    "learning_rate = 9.3246256174029e-05\n",
    "epochs = 16\n",
    "batch_size = 14\n",
    "opt_time = 4024.637090444565"
   ]
  },
  {
   "cell_type": "code",
   "execution_count": 14,
   "id": "82efc743",
   "metadata": {},
   "outputs": [
    {
     "name": "stdout",
     "output_type": "stream",
     "text": [
      "Iteration 0\n",
      "Train on 571526 samples, validate on 122479 samples\n",
      "Epoch 1/16\n",
      "571382/571526 [============================>.] - ETA: 0s - loss: 0.0043 - accuracy: 0.9988"
     ]
    },
    {
     "name": "stderr",
     "output_type": "stream",
     "text": [
      "/home/andressa.amaral/.local/lib/python3.8/site-packages/keras/engine/training_v1.py:2333: UserWarning: `Model.state_updates` will be removed in a future version. This property should not be used in TensorFlow 2.0, as `updates` are applied automatically.\n",
      "  updates = self.state_updates\n"
     ]
    },
    {
     "name": "stdout",
     "output_type": "stream",
     "text": [
      "571526/571526 [==============================] - 183s 319us/sample - loss: 0.0043 - accuracy: 0.9988 - val_loss: 0.0010 - val_accuracy: 0.9999 - lr: 0.0010\n",
      "Epoch 2/16\n",
      "571526/571526 [==============================] - 187s 327us/sample - loss: 0.0011 - accuracy: 0.9999 - val_loss: 6.2560e-04 - val_accuracy: 0.9999 - lr: 0.0010\n",
      "Epoch 3/16\n",
      "571526/571526 [==============================] - 186s 326us/sample - loss: 7.3187e-04 - accuracy: 0.9999 - val_loss: 0.0018 - val_accuracy: 0.9998 - lr: 0.0010\n",
      "Epoch 4/16\n",
      "571526/571526 [==============================] - 187s 327us/sample - loss: 6.1838e-04 - accuracy: 0.9999 - val_loss: 0.0020 - val_accuracy: 0.9999 - lr: 0.0010\n",
      "Epoch 5/16\n",
      "571526/571526 [==============================] - 187s 328us/sample - loss: 5.8792e-04 - accuracy: 0.9999 - val_loss: 0.0013 - val_accuracy: 0.9999 - lr: 0.0010\n",
      "Epoch 6/16\n",
      "571526/571526 [==============================] - 187s 327us/sample - loss: 4.9730e-04 - accuracy: 0.9999 - val_loss: 8.1381e-04 - val_accuracy: 0.9999 - lr: 0.0010\n",
      "Epoch 7/16\n",
      "571526/571526 [==============================] - 185s 324us/sample - loss: 6.9445e-04 - accuracy: 0.9999 - val_loss: 0.0011 - val_accuracy: 1.0000 - lr: 0.0010\n",
      "Epoch 8/16\n",
      "571526/571526 [==============================] - 187s 327us/sample - loss: 6.5084e-04 - accuracy: 0.9999 - val_loss: 9.0113e-04 - val_accuracy: 1.0000 - lr: 0.0010\n",
      "Epoch 9/16\n",
      "571526/571526 [==============================] - 187s 326us/sample - loss: 2.8041e-04 - accuracy: 1.0000 - val_loss: 0.0013 - val_accuracy: 1.0000 - lr: 0.0010\n",
      "Epoch 10/16\n",
      "571526/571526 [==============================] - 188s 328us/sample - loss: 3.7956e-04 - accuracy: 1.0000 - val_loss: 0.0011 - val_accuracy: 1.0000 - lr: 0.0010\n",
      "Epoch 11/16\n",
      "571526/571526 [==============================] - 187s 327us/sample - loss: 3.8893e-04 - accuracy: 1.0000 - val_loss: 7.7645e-04 - val_accuracy: 1.0000 - lr: 0.0010\n",
      "Epoch 12/16\n",
      "571526/571526 [==============================] - 187s 327us/sample - loss: 4.5159e-04 - accuracy: 1.0000 - val_loss: 6.3296e-04 - val_accuracy: 1.0000 - lr: 0.0010\n",
      "Epoch 13/16\n",
      "571526/571526 [==============================] - 186s 326us/sample - loss: 4.3486e-05 - accuracy: 1.0000 - val_loss: 6.9925e-04 - val_accuracy: 1.0000 - lr: 1.0000e-04\n",
      "Epoch 14/16\n",
      "571526/571526 [==============================] - 187s 328us/sample - loss: 5.9200e-05 - accuracy: 1.0000 - val_loss: 7.3203e-04 - val_accuracy: 1.0000 - lr: 1.0000e-04\n",
      "Epoch 15/16\n",
      "571526/571526 [==============================] - 188s 328us/sample - loss: 5.0105e-05 - accuracy: 1.0000 - val_loss: 7.5185e-04 - val_accuracy: 1.0000 - lr: 1.0000e-04\n",
      "Epoch 16/16\n",
      "571526/571526 [==============================] - 188s 329us/sample - loss: 4.6753e-05 - accuracy: 1.0000 - val_loss: 7.9079e-04 - val_accuracy: 1.0000 - lr: 1.0000e-04\n",
      "Training time: 2986.6144897937775\n"
     ]
    },
    {
     "name": "stderr",
     "output_type": "stream",
     "text": [
      "/home/andressa.amaral/.local/lib/python3.8/site-packages/keras/engine/training_v1.py:2357: UserWarning: `Model.state_updates` will be removed in a future version. This property should not be used in TensorFlow 2.0, as `updates` are applied automatically.\n",
      "  updates=self.state_updates,\n"
     ]
    },
    {
     "name": "stdout",
     "output_type": "stream",
     "text": [
      "Testing time: 7.02718448638916\n",
      "\n"
     ]
    }
   ],
   "source": [
    "nadam = Nadam(learning_rate = learning_rate, beta_1 = 0.9, beta_2 = 0.999, epsilon = 1e-08, schedule_decay = 0.004)\n",
    "cnn_model.compile(loss = \"sparse_categorical_crossentropy\", optimizer = \"nadam\", metrics = [\"accuracy\"])\n",
    "\n",
    "for i in range(1):\n",
    "    print(\"Iteration \" + str(i))\n",
    "    \n",
    "    # Train\n",
    "    cnn_model, train_time = AttackClassificationModel.train(X_train_CNN, Y_train, X_val_CNN, Y_val, epochs, batch_size, reduce_lr, cnn_model)\n",
    "    \n",
    "    # Test\n",
    "    Y_pred, test_time = AttackClassificationModel.test(X_test_CNN, cnn_model)\n",
    "    \n",
    "    # Multi classification metrics\n",
    "    labels = ['Mirai_Ack','Mirai_Scan','Mirai_Syn','Mirai_Udp','Mirai_Udpplain', 'Bashlite_Combo','Bashlite_Junk','Bashlite_Scan','Bashlite_Udp', 'Bashlite_Tcp']\n",
    "    acc, f1, pre, rec = AttackClassificationModel.get_scores(Y_test, Y_pred, labels)\n",
    "    \n",
    "    # Print results\n",
    "    AttackClassificationModel.print_results(learning_rate,\n",
    "                                            epochs,\n",
    "                                            batch_size,\n",
    "                                            X_train,\n",
    "                                            X_val,\n",
    "                                            X_test,\n",
    "                                            opt_time,\n",
    "                                            train_time,\n",
    "                                            test_time,\n",
    "                                            acc,\n",
    "                                            f1,\n",
    "                                            pre,\n",
    "                                            rec,\n",
    "                                            Y_test,\n",
    "                                            Y_pred,\n",
    "                                            \"CNN\",\n",
    "                                            \"Results/S1002_camera.txt\")\n",
    "    \n",
    "    print(\"\")"
   ]
  },
  {
   "cell_type": "code",
   "execution_count": 15,
   "id": "a465f555",
   "metadata": {},
   "outputs": [
    {
     "data": {
      "image/png": "[encoded data removed]",
      "text/plain": [
       "<Figure size 600x600 with 1 Axes>"
      ]
     },
     "metadata": {},
     "output_type": "display_data"
    }
   ],
   "source": [
    "conf_matrix = confusion_matrix(Y_test, Y_pred)\n",
    "\n",
    "fig, ax = plt.subplots(figsize = (6, 6))\n",
    "ax.matshow(conf_matrix, cmap = plt.cm.Blues, alpha = 0.3)\n",
    "for i in range(conf_matrix.shape[0]):\n",
    "    for j in range(conf_matrix.shape[1]):\n",
    "        ax.text(x = j, y = i,s = conf_matrix[i, j], va = 'center', ha = 'center', size = 'large')\n",
    " \n",
    "plt.xlabel('Predictions', fontsize=12)\n",
    "plt.ylabel('Actuals', fontsize=12)\n",
    "plt.title('Confusion Matrix', fontsize=14)\n",
    "plt.savefig(\"Results/Confusion Matrix/S2 CNN\")\n",
    "plt.show()"
   ]
  },
  {
   "cell_type": "markdown",
   "id": "84c46047",
   "metadata": {},
   "source": [
    "# NB Model"
   ]
  },
  {
   "cell_type": "code",
   "execution_count": 16,
   "id": "216e5d14",
   "metadata": {},
   "outputs": [
    {
     "name": "stdout",
     "output_type": "stream",
     "text": [
      "Iteration 0\n",
      "Testing time: 0.8574469089508057\n",
      "\n"
     ]
    }
   ],
   "source": [
    "# Model\n",
    "nb_model = GaussianNB()\n",
    "\n",
    "for i in range(1):\n",
    "    print(\"Iteration \" + str(i))\n",
    "    \n",
    "    # Train\n",
    "    nb_model, train_time = AttackClassificationModel.train_nb_knn(X_train, Y_train, nb_model)\n",
    "    \n",
    "    # Test\n",
    "    Y_pred, test_time = AttackClassificationModel.test_nb_knn(X_test, nb_model)\n",
    "    \n",
    "    # Multi classification metrics\n",
    "    labels = ['Mirai_Ack','Mirai_Scan','Mirai_Syn','Mirai_Udp','Mirai_Udpplain', 'Bashlite_Combo','Bashlite_Junk','Bashlite_Scan','Bashlite_Udp', 'Bashlite_Tcp']\n",
    "    acc, f1, pre, rec = AttackClassificationModel.get_scores(Y_test, Y_pred, labels)\n",
    "    \n",
    "    # Print results\n",
    "    AttackClassificationModel.print_results(learning_rate,\n",
    "                                            epochs,\n",
    "                                            batch_size,\n",
    "                                            X_train,\n",
    "                                            X_val,\n",
    "                                            X_test,\n",
    "                                            opt_time,\n",
    "                                            train_time,\n",
    "                                            test_time,\n",
    "                                            acc,\n",
    "                                            f1,\n",
    "                                            pre,\n",
    "                                            rec,\n",
    "                                            Y_test,\n",
    "                                            Y_pred,\n",
    "                                            \"NB\",\n",
    "                                            \"Results/S1002_camera.txt\")\n",
    "    \n",
    "    print(\"\")"
   ]
  },
  {
   "cell_type": "code",
   "execution_count": 17,
   "id": "8dcef7af",
   "metadata": {},
   "outputs": [
    {
     "data": {
      "image/png": "[encoded data removed]",
      "text/plain": [
       "<Figure size 600x600 with 1 Axes>"
      ]
     },
     "metadata": {},
     "output_type": "display_data"
    }
   ],
   "source": [
    "conf_matrix = confusion_matrix(Y_test, Y_pred)\n",
    "\n",
    "fig, ax = plt.subplots(figsize = (6, 6))\n",
    "ax.matshow(conf_matrix, cmap = plt.cm.Blues, alpha = 0.3)\n",
    "for i in range(conf_matrix.shape[0]):\n",
    "    for j in range(conf_matrix.shape[1]):\n",
    "        ax.text(x = j, y = i,s = conf_matrix[i, j], va = 'center', ha = 'center', size = 'large')\n",
    " \n",
    "plt.xlabel('Predictions', fontsize=12)\n",
    "plt.ylabel('Actuals', fontsize=12)\n",
    "plt.title('Confusion Matrix', fontsize=14)\n",
    "plt.savefig(\"Results/Confusion Matrix/S2 NB\")\n",
    "plt.show()"
   ]
  },
  {
   "cell_type": "markdown",
   "id": "fd46b9c4",
   "metadata": {},
   "source": [
    "# KNN Model"
   ]
  },
  {
   "cell_type": "code",
   "execution_count": 18,
   "id": "3123bee2",
   "metadata": {},
   "outputs": [
    {
     "data": {
      "image/png": "[encoded data removed]",
      "text/plain": [
       "<Figure size 600x600 with 1 Axes>"
      ]
     },
     "metadata": {},
     "output_type": "display_data"
    }
   ],
   "source": [
    "conf_matrix = confusion_matrix(Y_test, Y_pred)\n",
    "\n",
    "fig, ax = plt.subplots(figsize = (6, 6))\n",
    "ax.matshow(conf_matrix, cmap = plt.cm.Blues, alpha = 0.3)\n",
    "for i in range(conf_matrix.shape[0]):\n",
    "    for j in range(conf_matrix.shape[1]):\n",
    "        ax.text(x = j, y = i,s = conf_matrix[i, j], va = 'center', ha = 'center', size = 'large')\n",
    " \n",
    "plt.xlabel('Predictions', fontsize=12)\n",
    "plt.ylabel('Actuals', fontsize=12)\n",
    "plt.title('Confusion Matrix', fontsize=14)\n",
    "plt.savefig(\"Results/Confusion Matrix/S2 KNN\")\n",
    "plt.show()"
   ]
  },
  {
   "cell_type": "code",
   "execution_count": 19,
   "id": "5c4457b4",
   "metadata": {},
   "outputs": [
    {
     "name": "stdout",
     "output_type": "stream",
     "text": [
      "Iteration 0\n",
      "Testing time: 72.96899509429932\n",
      "\n"
     ]
    }
   ],
   "source": [
    "# Model\n",
    "knn_model = KNeighborsClassifier(n_neighbors = 50)\n",
    "\n",
    "for i in range(1):\n",
    "    print(\"Iteration \" + str(i))\n",
    "    \n",
    "    # Train\n",
    "    knn_model, train_time = AttackClassificationModel.train_nb_knn(X_train, Y_train, knn_model)\n",
    "    \n",
    "    # Test\n",
    "    Y_pred, test_time = AttackClassificationModel.test_nb_knn(X_test, knn_model)\n",
    "    \n",
    "    # Multi classification metrics\n",
    "    labels = ['Mirai_Ack','Mirai_Scan','Mirai_Syn','Mirai_Udp','Mirai_Udpplain', 'Bashlite_Combo','Bashlite_Junk','Bashlite_Scan','Bashlite_Udp', 'Bashlite_Tcp']\n",
    "    acc, f1, pre, rec = AttackClassificationModel.get_scores(Y_test, Y_pred, labels)\n",
    "    \n",
    "    # Print results\n",
    "    AttackClassificationModel.print_results(learning_rate,\n",
    "                                            epochs,\n",
    "                                            batch_size,\n",
    "                                            X_train,\n",
    "                                            X_val,\n",
    "                                            X_test,\n",
    "                                            opt_time,\n",
    "                                            train_time,\n",
    "                                            test_time,\n",
    "                                            acc,\n",
    "                                            f1,\n",
    "                                            pre,\n",
    "                                            rec,\n",
    "                                            Y_test,\n",
    "                                            Y_pred,\n",
    "                                            \"KNN\",\n",
    "                                            \"Results/S1002_camera.txt\")\n",
    "    \n",
    "    print(\"\")"
   ]
  }
 ],
 "metadata": {
  "kernelspec": {
   "display_name": "Python 3 (ipykernel)",
   "language": "python",
   "name": "python3"
  },
  "language_info": {
   "codemirror_mode": {
    "name": "ipython",
    "version": 3
   },
   "file_extension": ".py",
   "mimetype": "text/x-python",
   "name": "python",
   "nbconvert_exporter": "python",
   "pygments_lexer": "ipython3",
   "version": "3.8.0"
  }
 },
 "nbformat": 4,
 "nbformat_minor": 5
}
