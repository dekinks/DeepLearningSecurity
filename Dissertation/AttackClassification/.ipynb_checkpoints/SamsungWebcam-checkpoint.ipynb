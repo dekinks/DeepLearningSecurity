{
 "cells": [
  {
   "cell_type": "code",
   "execution_count": 1,
   "id": "9bb02208",
   "metadata": {},
   "outputs": [
    {
     "name": "stdout",
     "output_type": "stream",
     "text": [
      "Defaulting to user installation because normal site-packages is not writeable\n",
      "Requirement already satisfied: pandas in /home/andressa.amaral/.local/lib/python3.7/site-packages (1.3.5)\n",
      "Requirement already satisfied: python-dateutil>=2.7.3 in /home/andressa.amaral/.local/lib/python3.7/site-packages (from pandas) (2.8.2)\n",
      "Requirement already satisfied: numpy>=1.17.3 in /home/andressa.amaral/.local/lib/python3.7/site-packages (from pandas) (1.21.5)\n",
      "Requirement already satisfied: pytz>=2017.3 in /home/andressa.amaral/.local/lib/python3.7/site-packages (from pandas) (2022.1)\n",
      "Requirement already satisfied: six>=1.5 in /home/andressa.amaral/.local/lib/python3.7/site-packages (from python-dateutil>=2.7.3->pandas) (1.16.0)\n",
      "\u001b[33mWARNING: You are using pip version 22.0.4; however, version 22.3 is available.\n",
      "You should consider upgrading via the '/usr/bin/python3 -m pip install --upgrade pip' command.\u001b[0m\u001b[33m\n",
      "\u001b[0mDefaulting to user installation because normal site-packages is not writeable\n",
      "Requirement already satisfied: seaborn in /home/andressa.amaral/.local/lib/python3.7/site-packages (0.11.2)\n",
      "Requirement already satisfied: pandas>=0.23 in /home/andressa.amaral/.local/lib/python3.7/site-packages (from seaborn) (1.3.5)\n",
      "Requirement already satisfied: matplotlib>=2.2 in /home/andressa.amaral/.local/lib/python3.7/site-packages (from seaborn) (3.5.1)\n",
      "Requirement already satisfied: numpy>=1.15 in /home/andressa.amaral/.local/lib/python3.7/site-packages (from seaborn) (1.21.5)\n",
      "Requirement already satisfied: scipy>=1.0 in /home/andressa.amaral/.local/lib/python3.7/site-packages (from seaborn) (1.7.3)\n",
      "Requirement already satisfied: kiwisolver>=1.0.1 in /home/andressa.amaral/.local/lib/python3.7/site-packages (from matplotlib>=2.2->seaborn) (1.4.0)\n",
      "Requirement already satisfied: fonttools>=4.22.0 in /home/andressa.amaral/.local/lib/python3.7/site-packages (from matplotlib>=2.2->seaborn) (4.31.1)\n",
      "Requirement already satisfied: pillow>=6.2.0 in /home/andressa.amaral/.local/lib/python3.7/site-packages (from matplotlib>=2.2->seaborn) (9.0.1)\n",
      "Requirement already satisfied: python-dateutil>=2.7 in /home/andressa.amaral/.local/lib/python3.7/site-packages (from matplotlib>=2.2->seaborn) (2.8.2)\n",
      "Requirement already satisfied: pyparsing>=2.2.1 in /home/andressa.amaral/.local/lib/python3.7/site-packages (from matplotlib>=2.2->seaborn) (3.0.7)\n",
      "Requirement already satisfied: packaging>=20.0 in /home/andressa.amaral/.local/lib/python3.7/site-packages (from matplotlib>=2.2->seaborn) (21.3)\n",
      "Requirement already satisfied: cycler>=0.10 in /home/andressa.amaral/.local/lib/python3.7/site-packages (from matplotlib>=2.2->seaborn) (0.11.0)\n",
      "Requirement already satisfied: pytz>=2017.3 in /home/andressa.amaral/.local/lib/python3.7/site-packages (from pandas>=0.23->seaborn) (2022.1)\n",
      "Requirement already satisfied: typing-extensions in /home/andressa.amaral/.local/lib/python3.7/site-packages (from kiwisolver>=1.0.1->matplotlib>=2.2->seaborn) (4.1.1)\n",
      "Requirement already satisfied: six>=1.5 in /home/andressa.amaral/.local/lib/python3.7/site-packages (from python-dateutil>=2.7->matplotlib>=2.2->seaborn) (1.16.0)\n",
      "\u001b[33mWARNING: You are using pip version 22.0.4; however, version 22.3 is available.\n",
      "You should consider upgrading via the '/usr/bin/python3 -m pip install --upgrade pip' command.\u001b[0m\u001b[33m\n",
      "\u001b[0mDefaulting to user installation because normal site-packages is not writeable\n",
      "Requirement already satisfied: tensorflow-gpu in /home/andressa.amaral/.local/lib/python3.7/site-packages (2.10.0)\n",
      "Requirement already satisfied: keras-preprocessing>=1.1.1 in /home/andressa.amaral/.local/lib/python3.7/site-packages (from tensorflow-gpu) (1.1.2)\n",
      "Requirement already satisfied: numpy>=1.20 in /home/andressa.amaral/.local/lib/python3.7/site-packages (from tensorflow-gpu) (1.21.5)\n",
      "Requirement already satisfied: setuptools in /home/andressa.amaral/.local/lib/python3.7/site-packages (from tensorflow-gpu) (60.10.0)\n",
      "Requirement already satisfied: packaging in /home/andressa.amaral/.local/lib/python3.7/site-packages (from tensorflow-gpu) (21.3)\n",
      "Requirement already satisfied: grpcio<2.0,>=1.24.3 in /home/andressa.amaral/.local/lib/python3.7/site-packages (from tensorflow-gpu) (1.44.0)\n",
      "Requirement already satisfied: termcolor>=1.1.0 in /home/andressa.amaral/.local/lib/python3.7/site-packages (from tensorflow-gpu) (1.1.0)\n",
      "Requirement already satisfied: keras<2.11,>=2.10.0 in /home/andressa.amaral/.local/lib/python3.7/site-packages (from tensorflow-gpu) (2.10.0)\n",
      "Requirement already satisfied: gast<=0.4.0,>=0.2.1 in /home/andressa.amaral/.local/lib/python3.7/site-packages (from tensorflow-gpu) (0.4.0)\n",
      "Requirement already satisfied: tensorboard<2.11,>=2.10 in /home/andressa.amaral/.local/lib/python3.7/site-packages (from tensorflow-gpu) (2.10.0)\n",
      "Requirement already satisfied: opt-einsum>=2.3.2 in /home/andressa.amaral/.local/lib/python3.7/site-packages (from tensorflow-gpu) (3.3.0)\n",
      "Requirement already satisfied: h5py>=2.9.0 in /home/andressa.amaral/.local/lib/python3.7/site-packages (from tensorflow-gpu) (3.6.0)\n",
      "Requirement already satisfied: libclang>=13.0.0 in /home/andressa.amaral/.local/lib/python3.7/site-packages (from tensorflow-gpu) (13.0.0)\n",
      "Requirement already satisfied: astunparse>=1.6.0 in /home/andressa.amaral/.local/lib/python3.7/site-packages (from tensorflow-gpu) (1.6.3)\n",
      "Requirement already satisfied: tensorflow-io-gcs-filesystem>=0.23.1 in /home/andressa.amaral/.local/lib/python3.7/site-packages (from tensorflow-gpu) (0.24.0)\n",
      "Requirement already satisfied: six>=1.12.0 in /home/andressa.amaral/.local/lib/python3.7/site-packages (from tensorflow-gpu) (1.16.0)\n",
      "Requirement already satisfied: typing-extensions>=3.6.6 in /home/andressa.amaral/.local/lib/python3.7/site-packages (from tensorflow-gpu) (4.1.1)\n",
      "Requirement already satisfied: protobuf<3.20,>=3.9.2 in /home/andressa.amaral/.local/lib/python3.7/site-packages (from tensorflow-gpu) (3.19.4)\n",
      "Requirement already satisfied: google-pasta>=0.1.1 in /home/andressa.amaral/.local/lib/python3.7/site-packages (from tensorflow-gpu) (0.2.0)\n",
      "Requirement already satisfied: absl-py>=1.0.0 in /home/andressa.amaral/.local/lib/python3.7/site-packages (from tensorflow-gpu) (1.0.0)\n",
      "Requirement already satisfied: flatbuffers>=2.0 in /home/andressa.amaral/.local/lib/python3.7/site-packages (from tensorflow-gpu) (2.0.7)\n",
      "Requirement already satisfied: tensorflow-estimator<2.11,>=2.10.0 in /home/andressa.amaral/.local/lib/python3.7/site-packages (from tensorflow-gpu) (2.10.0)\n",
      "Requirement already satisfied: wrapt>=1.11.0 in /home/andressa.amaral/.local/lib/python3.7/site-packages (from tensorflow-gpu) (1.14.0)\n",
      "Requirement already satisfied: wheel<1.0,>=0.23.0 in /usr/lib/python3/dist-packages (from astunparse>=1.6.0->tensorflow-gpu) (0.30.0)\n",
      "Requirement already satisfied: cached-property in /home/andressa.amaral/.local/lib/python3.7/site-packages (from h5py>=2.9.0->tensorflow-gpu) (1.5.2)\n",
      "Requirement already satisfied: requests<3,>=2.21.0 in /home/andressa.amaral/.local/lib/python3.7/site-packages (from tensorboard<2.11,>=2.10->tensorflow-gpu) (2.27.1)\n",
      "Requirement already satisfied: tensorboard-data-server<0.7.0,>=0.6.0 in /home/andressa.amaral/.local/lib/python3.7/site-packages (from tensorboard<2.11,>=2.10->tensorflow-gpu) (0.6.1)\n",
      "Requirement already satisfied: tensorboard-plugin-wit>=1.6.0 in /home/andressa.amaral/.local/lib/python3.7/site-packages (from tensorboard<2.11,>=2.10->tensorflow-gpu) (1.8.1)\n",
      "Requirement already satisfied: markdown>=2.6.8 in /home/andressa.amaral/.local/lib/python3.7/site-packages (from tensorboard<2.11,>=2.10->tensorflow-gpu) (3.3.6)\n",
      "Requirement already satisfied: google-auth-oauthlib<0.5,>=0.4.1 in /home/andressa.amaral/.local/lib/python3.7/site-packages (from tensorboard<2.11,>=2.10->tensorflow-gpu) (0.4.6)\n",
      "Requirement already satisfied: google-auth<3,>=1.6.3 in /home/andressa.amaral/.local/lib/python3.7/site-packages (from tensorboard<2.11,>=2.10->tensorflow-gpu) (2.6.2)\n",
      "Requirement already satisfied: werkzeug>=1.0.1 in /home/andressa.amaral/.local/lib/python3.7/site-packages (from tensorboard<2.11,>=2.10->tensorflow-gpu) (2.0.3)\n",
      "Requirement already satisfied: pyparsing!=3.0.5,>=2.0.2 in /home/andressa.amaral/.local/lib/python3.7/site-packages (from packaging->tensorflow-gpu) (3.0.7)\n",
      "Requirement already satisfied: cachetools<6.0,>=2.0.0 in /home/andressa.amaral/.local/lib/python3.7/site-packages (from google-auth<3,>=1.6.3->tensorboard<2.11,>=2.10->tensorflow-gpu) (5.0.0)\n",
      "Requirement already satisfied: pyasn1-modules>=0.2.1 in /home/andressa.amaral/.local/lib/python3.7/site-packages (from google-auth<3,>=1.6.3->tensorboard<2.11,>=2.10->tensorflow-gpu) (0.2.8)\n",
      "Requirement already satisfied: rsa<5,>=3.1.4 in /home/andressa.amaral/.local/lib/python3.7/site-packages (from google-auth<3,>=1.6.3->tensorboard<2.11,>=2.10->tensorflow-gpu) (4.8)\n",
      "Requirement already satisfied: requests-oauthlib>=0.7.0 in /home/andressa.amaral/.local/lib/python3.7/site-packages (from google-auth-oauthlib<0.5,>=0.4.1->tensorboard<2.11,>=2.10->tensorflow-gpu) (1.3.1)\n"
     ]
    },
    {
     "name": "stdout",
     "output_type": "stream",
     "text": [
      "Requirement already satisfied: importlib-metadata>=4.4 in /home/andressa.amaral/.local/lib/python3.7/site-packages (from markdown>=2.6.8->tensorboard<2.11,>=2.10->tensorflow-gpu) (4.11.3)\n",
      "Requirement already satisfied: idna<4,>=2.5 in /usr/lib/python3/dist-packages (from requests<3,>=2.21.0->tensorboard<2.11,>=2.10->tensorflow-gpu) (2.6)\n",
      "Requirement already satisfied: certifi>=2017.4.17 in /usr/lib/python3/dist-packages (from requests<3,>=2.21.0->tensorboard<2.11,>=2.10->tensorflow-gpu) (2018.1.18)\n",
      "Requirement already satisfied: charset-normalizer~=2.0.0 in /home/andressa.amaral/.local/lib/python3.7/site-packages (from requests<3,>=2.21.0->tensorboard<2.11,>=2.10->tensorflow-gpu) (2.0.12)\n",
      "Requirement already satisfied: urllib3<1.27,>=1.21.1 in /usr/lib/python3/dist-packages (from requests<3,>=2.21.0->tensorboard<2.11,>=2.10->tensorflow-gpu) (1.22)\n",
      "Requirement already satisfied: zipp>=0.5 in /home/andressa.amaral/.local/lib/python3.7/site-packages (from importlib-metadata>=4.4->markdown>=2.6.8->tensorboard<2.11,>=2.10->tensorflow-gpu) (3.7.0)\n",
      "Requirement already satisfied: pyasn1<0.5.0,>=0.4.6 in /home/andressa.amaral/.local/lib/python3.7/site-packages (from pyasn1-modules>=0.2.1->google-auth<3,>=1.6.3->tensorboard<2.11,>=2.10->tensorflow-gpu) (0.4.8)\n",
      "Requirement already satisfied: oauthlib>=3.0.0 in /home/andressa.amaral/.local/lib/python3.7/site-packages (from requests-oauthlib>=0.7.0->google-auth-oauthlib<0.5,>=0.4.1->tensorboard<2.11,>=2.10->tensorflow-gpu) (3.2.0)\n",
      "\u001b[33mWARNING: You are using pip version 22.0.4; however, version 22.3 is available.\n",
      "You should consider upgrading via the '/usr/bin/python3 -m pip install --upgrade pip' command.\u001b[0m\u001b[33m\n",
      "\u001b[0mDefaulting to user installation because normal site-packages is not writeable\n",
      "Requirement already satisfied: import-ipynb in /home/andressa.amaral/.local/lib/python3.7/site-packages (0.1.3)\n",
      "\u001b[33mWARNING: You are using pip version 22.0.4; however, version 22.3 is available.\n",
      "You should consider upgrading via the '/usr/bin/python3 -m pip install --upgrade pip' command.\u001b[0m\u001b[33m\n",
      "\u001b[0mDefaulting to user installation because normal site-packages is not writeable\n",
      "Requirement already satisfied: cuda-python in /home/andressa.amaral/.local/lib/python3.7/site-packages (11.8.0)\n",
      "Requirement already satisfied: cython in /home/andressa.amaral/.local/lib/python3.7/site-packages (from cuda-python) (0.29.32)\n",
      "\u001b[33mWARNING: You are using pip version 22.0.4; however, version 22.3 is available.\n",
      "You should consider upgrading via the '/usr/bin/python3 -m pip install --upgrade pip' command.\u001b[0m\u001b[33m\n",
      "\u001b[0mimporting Jupyter notebook from AttackClassificationModel.ipynb\n",
      "Defaulting to user installation because normal site-packages is not writeable\n",
      "Requirement already satisfied: pandas in /home/andressa.amaral/.local/lib/python3.7/site-packages (1.3.5)\n",
      "Requirement already satisfied: python-dateutil>=2.7.3 in /home/andressa.amaral/.local/lib/python3.7/site-packages (from pandas) (2.8.2)\n",
      "Requirement already satisfied: pytz>=2017.3 in /home/andressa.amaral/.local/lib/python3.7/site-packages (from pandas) (2022.1)\n",
      "Requirement already satisfied: numpy>=1.17.3 in /home/andressa.amaral/.local/lib/python3.7/site-packages (from pandas) (1.21.5)\n",
      "Requirement already satisfied: six>=1.5 in /home/andressa.amaral/.local/lib/python3.7/site-packages (from python-dateutil>=2.7.3->pandas) (1.16.0)\n",
      "\u001b[33mWARNING: You are using pip version 22.0.4; however, version 22.3 is available.\n",
      "You should consider upgrading via the '/usr/bin/python3 -m pip install --upgrade pip' command.\u001b[0m\u001b[33m\n",
      "\u001b[0mDefaulting to user installation because normal site-packages is not writeable\n",
      "Requirement already satisfied: tensorflow-gpu in /home/andressa.amaral/.local/lib/python3.7/site-packages (2.10.0)\n",
      "Requirement already satisfied: keras-preprocessing>=1.1.1 in /home/andressa.amaral/.local/lib/python3.7/site-packages (from tensorflow-gpu) (1.1.2)\n",
      "Requirement already satisfied: astunparse>=1.6.0 in /home/andressa.amaral/.local/lib/python3.7/site-packages (from tensorflow-gpu) (1.6.3)\n",
      "Requirement already satisfied: numpy>=1.20 in /home/andressa.amaral/.local/lib/python3.7/site-packages (from tensorflow-gpu) (1.21.5)\n",
      "Requirement already satisfied: typing-extensions>=3.6.6 in /home/andressa.amaral/.local/lib/python3.7/site-packages (from tensorflow-gpu) (4.1.1)\n",
      "Requirement already satisfied: opt-einsum>=2.3.2 in /home/andressa.amaral/.local/lib/python3.7/site-packages (from tensorflow-gpu) (3.3.0)\n",
      "Requirement already satisfied: grpcio<2.0,>=1.24.3 in /home/andressa.amaral/.local/lib/python3.7/site-packages (from tensorflow-gpu) (1.44.0)\n",
      "Requirement already satisfied: protobuf<3.20,>=3.9.2 in /home/andressa.amaral/.local/lib/python3.7/site-packages (from tensorflow-gpu) (3.19.4)\n",
      "Requirement already satisfied: packaging in /home/andressa.amaral/.local/lib/python3.7/site-packages (from tensorflow-gpu) (21.3)\n",
      "Requirement already satisfied: wrapt>=1.11.0 in /home/andressa.amaral/.local/lib/python3.7/site-packages (from tensorflow-gpu) (1.14.0)\n",
      "Requirement already satisfied: google-pasta>=0.1.1 in /home/andressa.amaral/.local/lib/python3.7/site-packages (from tensorflow-gpu) (0.2.0)\n",
      "Requirement already satisfied: gast<=0.4.0,>=0.2.1 in /home/andressa.amaral/.local/lib/python3.7/site-packages (from tensorflow-gpu) (0.4.0)\n",
      "Requirement already satisfied: absl-py>=1.0.0 in /home/andressa.amaral/.local/lib/python3.7/site-packages (from tensorflow-gpu) (1.0.0)\n",
      "Requirement already satisfied: termcolor>=1.1.0 in /home/andressa.amaral/.local/lib/python3.7/site-packages (from tensorflow-gpu) (1.1.0)\n",
      "Requirement already satisfied: six>=1.12.0 in /home/andressa.amaral/.local/lib/python3.7/site-packages (from tensorflow-gpu) (1.16.0)\n",
      "Requirement already satisfied: tensorflow-estimator<2.11,>=2.10.0 in /home/andressa.amaral/.local/lib/python3.7/site-packages (from tensorflow-gpu) (2.10.0)\n",
      "Requirement already satisfied: keras<2.11,>=2.10.0 in /home/andressa.amaral/.local/lib/python3.7/site-packages (from tensorflow-gpu) (2.10.0)\n",
      "Requirement already satisfied: tensorboard<2.11,>=2.10 in /home/andressa.amaral/.local/lib/python3.7/site-packages (from tensorflow-gpu) (2.10.0)\n",
      "Requirement already satisfied: setuptools in /home/andressa.amaral/.local/lib/python3.7/site-packages (from tensorflow-gpu) (60.10.0)\n",
      "Requirement already satisfied: libclang>=13.0.0 in /home/andressa.amaral/.local/lib/python3.7/site-packages (from tensorflow-gpu) (13.0.0)\n",
      "Requirement already satisfied: h5py>=2.9.0 in /home/andressa.amaral/.local/lib/python3.7/site-packages (from tensorflow-gpu) (3.6.0)\n",
      "Requirement already satisfied: tensorflow-io-gcs-filesystem>=0.23.1 in /home/andressa.amaral/.local/lib/python3.7/site-packages (from tensorflow-gpu) (0.24.0)\n",
      "Requirement already satisfied: flatbuffers>=2.0 in /home/andressa.amaral/.local/lib/python3.7/site-packages (from tensorflow-gpu) (2.0.7)\n",
      "Requirement already satisfied: wheel<1.0,>=0.23.0 in /usr/lib/python3/dist-packages (from astunparse>=1.6.0->tensorflow-gpu) (0.30.0)\n",
      "Requirement already satisfied: cached-property in /home/andressa.amaral/.local/lib/python3.7/site-packages (from h5py>=2.9.0->tensorflow-gpu) (1.5.2)\n",
      "Requirement already satisfied: markdown>=2.6.8 in /home/andressa.amaral/.local/lib/python3.7/site-packages (from tensorboard<2.11,>=2.10->tensorflow-gpu) (3.3.6)\n",
      "Requirement already satisfied: requests<3,>=2.21.0 in /home/andressa.amaral/.local/lib/python3.7/site-packages (from tensorboard<2.11,>=2.10->tensorflow-gpu) (2.27.1)\n",
      "Requirement already satisfied: werkzeug>=1.0.1 in /home/andressa.amaral/.local/lib/python3.7/site-packages (from tensorboard<2.11,>=2.10->tensorflow-gpu) (2.0.3)\n",
      "Requirement already satisfied: google-auth-oauthlib<0.5,>=0.4.1 in /home/andressa.amaral/.local/lib/python3.7/site-packages (from tensorboard<2.11,>=2.10->tensorflow-gpu) (0.4.6)\n",
      "Requirement already satisfied: tensorboard-data-server<0.7.0,>=0.6.0 in /home/andressa.amaral/.local/lib/python3.7/site-packages (from tensorboard<2.11,>=2.10->tensorflow-gpu) (0.6.1)\n",
      "Requirement already satisfied: tensorboard-plugin-wit>=1.6.0 in /home/andressa.amaral/.local/lib/python3.7/site-packages (from tensorboard<2.11,>=2.10->tensorflow-gpu) (1.8.1)\n",
      "Requirement already satisfied: google-auth<3,>=1.6.3 in /home/andressa.amaral/.local/lib/python3.7/site-packages (from tensorboard<2.11,>=2.10->tensorflow-gpu) (2.6.2)\n",
      "Requirement already satisfied: pyparsing!=3.0.5,>=2.0.2 in /home/andressa.amaral/.local/lib/python3.7/site-packages (from packaging->tensorflow-gpu) (3.0.7)\n"
     ]
    },
    {
     "name": "stdout",
     "output_type": "stream",
     "text": [
      "Requirement already satisfied: cachetools<6.0,>=2.0.0 in /home/andressa.amaral/.local/lib/python3.7/site-packages (from google-auth<3,>=1.6.3->tensorboard<2.11,>=2.10->tensorflow-gpu) (5.0.0)\n",
      "Requirement already satisfied: rsa<5,>=3.1.4 in /home/andressa.amaral/.local/lib/python3.7/site-packages (from google-auth<3,>=1.6.3->tensorboard<2.11,>=2.10->tensorflow-gpu) (4.8)\n",
      "Requirement already satisfied: pyasn1-modules>=0.2.1 in /home/andressa.amaral/.local/lib/python3.7/site-packages (from google-auth<3,>=1.6.3->tensorboard<2.11,>=2.10->tensorflow-gpu) (0.2.8)\n",
      "Requirement already satisfied: requests-oauthlib>=0.7.0 in /home/andressa.amaral/.local/lib/python3.7/site-packages (from google-auth-oauthlib<0.5,>=0.4.1->tensorboard<2.11,>=2.10->tensorflow-gpu) (1.3.1)\n",
      "Requirement already satisfied: importlib-metadata>=4.4 in /home/andressa.amaral/.local/lib/python3.7/site-packages (from markdown>=2.6.8->tensorboard<2.11,>=2.10->tensorflow-gpu) (4.11.3)\n",
      "Requirement already satisfied: idna<4,>=2.5 in /usr/lib/python3/dist-packages (from requests<3,>=2.21.0->tensorboard<2.11,>=2.10->tensorflow-gpu) (2.6)\n",
      "Requirement already satisfied: urllib3<1.27,>=1.21.1 in /usr/lib/python3/dist-packages (from requests<3,>=2.21.0->tensorboard<2.11,>=2.10->tensorflow-gpu) (1.22)\n",
      "Requirement already satisfied: certifi>=2017.4.17 in /usr/lib/python3/dist-packages (from requests<3,>=2.21.0->tensorboard<2.11,>=2.10->tensorflow-gpu) (2018.1.18)\n",
      "Requirement already satisfied: charset-normalizer~=2.0.0 in /home/andressa.amaral/.local/lib/python3.7/site-packages (from requests<3,>=2.21.0->tensorboard<2.11,>=2.10->tensorflow-gpu) (2.0.12)\n",
      "Requirement already satisfied: zipp>=0.5 in /home/andressa.amaral/.local/lib/python3.7/site-packages (from importlib-metadata>=4.4->markdown>=2.6.8->tensorboard<2.11,>=2.10->tensorflow-gpu) (3.7.0)\n",
      "Requirement already satisfied: pyasn1<0.5.0,>=0.4.6 in /home/andressa.amaral/.local/lib/python3.7/site-packages (from pyasn1-modules>=0.2.1->google-auth<3,>=1.6.3->tensorboard<2.11,>=2.10->tensorflow-gpu) (0.4.8)\n",
      "Requirement already satisfied: oauthlib>=3.0.0 in /home/andressa.amaral/.local/lib/python3.7/site-packages (from requests-oauthlib>=0.7.0->google-auth-oauthlib<0.5,>=0.4.1->tensorboard<2.11,>=2.10->tensorflow-gpu) (3.2.0)\n",
      "\u001b[33mWARNING: You are using pip version 22.0.4; however, version 22.3 is available.\n",
      "You should consider upgrading via the '/usr/bin/python3 -m pip install --upgrade pip' command.\u001b[0m\u001b[33m\n",
      "\u001b[0m"
     ]
    }
   ],
   "source": [
    "!pip3 install pandas\n",
    "!pip3 install seaborn\n",
    "!pip3 install --upgrade tensorflow-gpu\n",
    "!pip3 install import-ipynb\n",
    "!pip3 install cuda-python\n",
    "\n",
    "import os\n",
    "os.environ['TF_CPP_MIN_LOG_LEVEL'] = '3' \n",
    "\n",
    "import matplotlib.pyplot as plt\n",
    "import seaborn as sns\n",
    "import numpy as np\n",
    "import pandas as pd\n",
    "import glob\n",
    "import math\n",
    "import pickle\n",
    "import time\n",
    "import sys\n",
    "\n",
    "import import_ipynb\n",
    "import AttackClassificationModel\n",
    "\n",
    "import tensorflow as tf\n",
    "tf.compat.v1.disable_eager_execution()\n",
    "from tensorflow.keras import optimizers\n",
    "from tensorflow.keras.callbacks import ReduceLROnPlateau\n",
    "\n",
    "from sklearn.pipeline import Pipeline\n",
    "from sklearn.preprocessing import MinMaxScaler\n",
    "from sklearn.metrics import confusion_matrix\n",
    "from sklearn.neighbors import KNeighborsClassifier\n",
    "from sklearn.naive_bayes import GaussianNB\n",
    "\n",
    "from bayes_opt import BayesianOptimization\n",
    "\n",
    "%matplotlib inline"
   ]
  },
  {
   "cell_type": "code",
   "execution_count": 2,
   "id": "b97c548a",
   "metadata": {},
   "outputs": [],
   "source": [
    "gpu_options = tf.compat.v1.GPUOptions(per_process_gpu_memory_fraction = 0.333)\n",
    "sess = tf.compat.v1.Session(config = tf.compat.v1.ConfigProto(gpu_options = gpu_options))"
   ]
  },
  {
   "cell_type": "markdown",
   "id": "5a29cd16",
   "metadata": {},
   "source": [
    "# Data Pre-Processing"
   ]
  },
  {
   "cell_type": "code",
   "execution_count": 3,
   "id": "92e07a9a",
   "metadata": {},
   "outputs": [],
   "source": [
    "df_gafgyt = AttackClassificationModel.get_files_nbaiot_gafgyt_edsw('../../nbaiot/Samsung_SNH_1011_N_Webcam/gafgyt')\n",
    "\n",
    "# Gafgyt Combo\n",
    "df_gafgyt_combo, label_gafgyt_combo = AttackClassificationModel.get_attack(0, df_gafgyt)\n",
    "\n",
    "# Gafgyt Junk\n",
    "df_gafgyt_junk, label_gafgyt_junk = AttackClassificationModel.get_attack(1, df_gafgyt)\n",
    "\n",
    "# Gafgyt Scan\n",
    "df_gafgyt_scan, label_gafgyt_scan = AttackClassificationModel.get_attack(2, df_gafgyt)\n",
    "\n",
    "# Gafgyt Tcp\n",
    "df_gafgyt_tcp, label_gafgyt_tcp = AttackClassificationModel.get_attack(3, df_gafgyt)\n",
    "\n",
    "# Gafgyt Udp\n",
    "df_gafgyt_udp, label_gafgyt_udp = AttackClassificationModel.get_attack(4, df_gafgyt)"
   ]
  },
  {
   "cell_type": "code",
   "execution_count": 4,
   "id": "47050dbf",
   "metadata": {},
   "outputs": [],
   "source": [
    "# Normalize with the min-max scaler\n",
    "scaler = MinMaxScaler()\n",
    "df_gafgyt_combo_norm = scaler.fit_transform(df_gafgyt_combo)\n",
    "df_gafgyt_junk_norm = scaler.fit_transform(df_gafgyt_junk)\n",
    "df_gafgyt_scan_norm = scaler.fit_transform(df_gafgyt_scan)\n",
    "df_gafgyt_tcp_norm = scaler.fit_transform(df_gafgyt_tcp)\n",
    "df_gafgyt_udp_norm = scaler.fit_transform(df_gafgyt_udp)"
   ]
  },
  {
   "cell_type": "markdown",
   "id": "5c4f1a2a",
   "metadata": {},
   "source": [
    "# Sets"
   ]
  },
  {
   "cell_type": "code",
   "execution_count": 5,
   "id": "28b9e5ee",
   "metadata": {},
   "outputs": [],
   "source": [
    "# Train\n",
    "len_gafgyt_combo_train = int(0.7 * len(df_gafgyt_combo_norm))\n",
    "X_gafgyt_combo_train = df_gafgyt_combo_norm[:len_gafgyt_combo_train]\n",
    "\n",
    "len_gafgyt_junk_train = int(0.7 * len(df_gafgyt_junk_norm))\n",
    "X_gafgyt_junk_train = df_gafgyt_junk_norm[:len_gafgyt_junk_train]\n",
    "\n",
    "len_gafgyt_scan_train = int(0.7 * len(df_gafgyt_scan_norm))\n",
    "X_gafgyt_scan_train = df_gafgyt_scan_norm[:len_gafgyt_scan_train]\n",
    "\n",
    "len_gafgyt_tcp_train = int(0.7 * len(df_gafgyt_tcp_norm))\n",
    "X_gafgyt_tcp_train = df_gafgyt_tcp_norm[:len_gafgyt_tcp_train]\n",
    "\n",
    "len_gafgyt_udp_train = int(0.7 * len(df_gafgyt_udp_norm))\n",
    "X_gafgyt_udp_train = df_gafgyt_udp_norm[:len_gafgyt_udp_train]\n",
    "\n",
    "X_train = np.concatenate([X_gafgyt_combo_train, X_gafgyt_junk_train, X_gafgyt_scan_train, X_gafgyt_tcp_train, X_gafgyt_udp_train])\n",
    "Y_train = np.concatenate([label_gafgyt_combo[:len_gafgyt_combo_train], label_gafgyt_junk[:len_gafgyt_junk_train], \n",
    "                          label_gafgyt_scan[:len_gafgyt_scan_train], label_gafgyt_tcp[:len_gafgyt_tcp_train], label_gafgyt_udp[:len_gafgyt_udp_train]])"
   ]
  },
  {
   "cell_type": "code",
   "execution_count": 6,
   "id": "dbbf49b0",
   "metadata": {},
   "outputs": [],
   "source": [
    "#Test\n",
    "len_gafgyt_combo_test = len_gafgyt_combo_train + int(0.15 * len(df_gafgyt_combo_norm))\n",
    "X_gafgyt_combo_test = df_gafgyt_combo_norm[len_gafgyt_combo_train : len_gafgyt_combo_test]\n",
    "\n",
    "len_gafgyt_junk_test = len_gafgyt_junk_train + int(0.15 * len(df_gafgyt_junk_norm))\n",
    "X_gafgyt_junk_test = df_gafgyt_junk_norm[len_gafgyt_junk_train : len_gafgyt_junk_test]\n",
    "\n",
    "len_gafgyt_scan_test = len_gafgyt_scan_train + int(0.15 * len(df_gafgyt_scan_norm))\n",
    "X_gafgyt_scan_test = df_gafgyt_scan_norm[len_gafgyt_scan_train : len_gafgyt_scan_test]\n",
    "\n",
    "len_gafgyt_tcp_test = len_gafgyt_tcp_train + int(0.15 * len(df_gafgyt_tcp_norm))\n",
    "X_gafgyt_tcp_test = df_gafgyt_tcp_norm[len_gafgyt_tcp_train : len_gafgyt_tcp_test]\n",
    "\n",
    "len_gafgyt_udp_test = len_gafgyt_udp_train + int(0.15 * len(df_gafgyt_udp_norm))\n",
    "X_gafgyt_udp_test = df_gafgyt_udp_norm[len_gafgyt_udp_train : len_gafgyt_udp_test]\n",
    "\n",
    "X_test = np.concatenate([X_gafgyt_combo_test, X_gafgyt_junk_test, X_gafgyt_scan_test, X_gafgyt_tcp_test, X_gafgyt_udp_test])\n",
    "Y_test = np.concatenate([label_gafgyt_combo[len_gafgyt_combo_train : len_gafgyt_combo_test], label_gafgyt_junk[len_gafgyt_junk_train : len_gafgyt_junk_test], \n",
    "                         label_gafgyt_scan[len_gafgyt_scan_train : len_gafgyt_scan_test], label_gafgyt_tcp[len_gafgyt_tcp_train : len_gafgyt_tcp_test], label_gafgyt_udp[len_gafgyt_udp_train : len_gafgyt_udp_test]])\n"
   ]
  },
  {
   "cell_type": "code",
   "execution_count": 7,
   "id": "b97de007",
   "metadata": {},
   "outputs": [],
   "source": [
    "# Validation\n",
    "X_gafgyt_combo_val = df_gafgyt_combo_norm[len_gafgyt_combo_test:]\n",
    "X_gafgyt_junk_val = df_gafgyt_junk_norm[len_gafgyt_junk_test:]\n",
    "X_gafgyt_scan_val = df_gafgyt_scan_norm[len_gafgyt_scan_test:]\n",
    "X_gafgyt_tcp_val = df_gafgyt_tcp_norm[len_gafgyt_tcp_test:]\n",
    "X_gafgyt_udp_val = df_gafgyt_udp_norm[len_gafgyt_udp_test:]\n",
    "\n",
    "X_val = np.concatenate([X_gafgyt_combo_val, X_gafgyt_junk_val, X_gafgyt_scan_val, X_gafgyt_tcp_val, X_gafgyt_udp_val])\n",
    "Y_val = np.concatenate([label_gafgyt_combo[len_gafgyt_combo_test:], label_gafgyt_junk[len_gafgyt_junk_test:], \n",
    "                        label_gafgyt_scan[len_gafgyt_scan_test:], label_gafgyt_tcp[len_gafgyt_tcp_test:], label_gafgyt_udp[len_gafgyt_udp_test:]])"
   ]
  },
  {
   "cell_type": "code",
   "execution_count": 8,
   "id": "50dbe28a",
   "metadata": {},
   "outputs": [],
   "source": [
    "X_train_CNN = np.reshape(X_train, (X_train.shape[0], X_train.shape[1], 1))\n",
    "X_test_CNN = np.reshape(X_test, (X_test.shape[0], X_test.shape[1], 1))\n",
    "X_val_CNN = np.reshape(X_val, (X_val.shape[0], X_val.shape[1], 1))\n",
    "\n",
    "samples, feature, depth = X_train_CNN.shape"
   ]
  },
  {
   "cell_type": "markdown",
   "id": "c6edd916",
   "metadata": {},
   "source": [
    "# Model"
   ]
  },
  {
   "cell_type": "code",
   "execution_count": 9,
   "id": "e4658e37",
   "metadata": {},
   "outputs": [],
   "source": [
    "# Initial values\n",
    "batch_size = 32\n",
    "learning_rate = 0.008\n",
    "epochs = 5\n",
    "\n",
    "# Dictionary\n",
    "dict_params = { 'learning_rate': learning_rate, 'batch_size': round(batch_size), 'epochs': round(epochs) }\n",
    "pbounds = { 'learning_rate': (0.000001, 0.001), 'batch_size': (10, 23), 'epochs': (1, 100) }"
   ]
  },
  {
   "cell_type": "code",
   "execution_count": 10,
   "id": "004a30f6",
   "metadata": {},
   "outputs": [],
   "source": [
    "cnn_model = AttackClassificationModel.CNN(feature, depth, 5)\n",
    "reduce_lr = ReduceLROnPlateau(moniter = 'val_loss', factor = 0.1, patience = 10)"
   ]
  },
  {
   "cell_type": "markdown",
   "id": "b80303be",
   "metadata": {},
   "source": [
    "# Hyperparameter Optimization"
   ]
  },
  {
   "cell_type": "code",
   "execution_count": 11,
   "id": "fe76f619",
   "metadata": {},
   "outputs": [],
   "source": [
    "def maximize_training(X_train = X_train_CNN,\n",
    "                      Y_train = Y_train, \n",
    "                      X_val = X_val_CNN, \n",
    "                      Y_val = Y_val, \n",
    "                      X_test = X_test_CNN, \n",
    "                      Y_test = Y_test, \n",
    "                      learning_rate = learning_rate, \n",
    "                      epochs = epochs, \n",
    "                      batch_size = batch_size,\n",
    "                      reduce_lr = reduce_lr):\n",
    "    \n",
    "    nadam = optimizers.Nadam(learning_rate = dict_params['learning_rate'], beta_1 = 0.9, beta_2 = 0.999, epsilon = 1e-08, schedule_decay = 0.004)\n",
    "    model = AttackClassificationModel.CNN_nbaiot(feature, depth)\n",
    "    model.compile(loss = \"sparse_categorical_crossentropy\", optimizer = \"nadam\", metrics = [\"accuracy\"])\n",
    "    \n",
    "    history = model.fit(X_train, Y_train, \n",
    "                        epochs = dict_params['epochs'], \n",
    "                        batch_size = dict_params['batch_size'], \n",
    "                        validation_data = (X_val, Y_val),\n",
    "                        callbacks = [reduce_lr],\n",
    "                        verbose = 0)\n",
    "\n",
    "    scores = model.evaluate(X_test, Y_test)\n",
    "    return scores[1]"
   ]
  },
  {
   "cell_type": "code",
   "execution_count": 12,
   "id": "a017323e",
   "metadata": {},
   "outputs": [
    {
     "name": "stdout",
     "output_type": "stream",
     "text": [
      "|   iter    |  target   | batch_... |  epochs   | learni... |\n",
      "-------------------------------------------------------------\n"
     ]
    },
    {
     "name": "stderr",
     "output_type": "stream",
     "text": [
      "/home/andressa.amaral/.local/lib/python3.7/site-packages/keras/engine/training_v1.py:2332: UserWarning: `Model.state_updates` will be removed in a future version. This property should not be used in TensorFlow 2.0, as `updates` are applied automatically.\n",
      "  updates = self.state_updates\n"
     ]
    },
    {
     "name": "stdout",
     "output_type": "stream",
     "text": [
      "| \u001b[0m 1       \u001b[0m | \u001b[0m 0.9599  \u001b[0m | \u001b[0m 15.42   \u001b[0m | \u001b[0m 72.31   \u001b[0m | \u001b[0m 1.114e-0\u001b[0m |\n",
      "| \u001b[0m 2       \u001b[0m | \u001b[0m 0.9597  \u001b[0m | \u001b[0m 13.93   \u001b[0m | \u001b[0m 15.53   \u001b[0m | \u001b[0m 9.325e-0\u001b[0m |\n",
      "| \u001b[0m 3       \u001b[0m | \u001b[0m 0.9598  \u001b[0m | \u001b[0m 12.42   \u001b[0m | \u001b[0m 35.21   \u001b[0m | \u001b[0m 0.000397\u001b[0m |\n",
      "| \u001b[95m 4       \u001b[0m | \u001b[95m 0.9599  \u001b[0m | \u001b[95m 17.0    \u001b[0m | \u001b[95m 42.5    \u001b[0m | \u001b[95m 0.000685\u001b[0m |\n",
      "| \u001b[0m 5       \u001b[0m | \u001b[0m 0.9598  \u001b[0m | \u001b[0m 12.66   \u001b[0m | \u001b[0m 87.93   \u001b[0m | \u001b[0m 2.836e-0\u001b[0m |\n"
     ]
    },
    {
     "name": "stderr",
     "output_type": "stream",
     "text": [
      "/home/andressa.amaral/.local/lib/python3.7/site-packages/keras/engine/training_v1.py:2332: UserWarning: `Model.state_updates` will be removed in a future version. This property should not be used in TensorFlow 2.0, as `updates` are applied automatically.\n",
      "  updates = self.state_updates\n"
     ]
    },
    {
     "name": "stdout",
     "output_type": "stream",
     "text": [
      "| \u001b[0m 6       \u001b[0m | \u001b[0m 0.9598  \u001b[0m | \u001b[0m 16.94   \u001b[0m | \u001b[0m 42.28   \u001b[0m | \u001b[0m 8.998e-0\u001b[0m |\n"
     ]
    },
    {
     "name": "stderr",
     "output_type": "stream",
     "text": [
      "/home/andressa.amaral/.local/lib/python3.7/site-packages/keras/engine/training_v1.py:2332: UserWarning: `Model.state_updates` will be removed in a future version. This property should not be used in TensorFlow 2.0, as `updates` are applied automatically.\n",
      "  updates = self.state_updates\n"
     ]
    },
    {
     "name": "stdout",
     "output_type": "stream",
     "text": [
      "| \u001b[0m 7       \u001b[0m | \u001b[0m 0.9598  \u001b[0m | \u001b[0m 16.92   \u001b[0m | \u001b[0m 78.95   \u001b[0m | \u001b[0m 0.000175\u001b[0m |\n"
     ]
    },
    {
     "name": "stderr",
     "output_type": "stream",
     "text": [
      "/home/andressa.amaral/.local/lib/python3.7/site-packages/keras/engine/training_v1.py:2332: UserWarning: `Model.state_updates` will be removed in a future version. This property should not be used in TensorFlow 2.0, as `updates` are applied automatically.\n",
      "  updates = self.state_updates\n"
     ]
    },
    {
     "name": "stdout",
     "output_type": "stream",
     "text": [
      "| \u001b[0m 8       \u001b[0m | \u001b[0m 0.9599  \u001b[0m | \u001b[0m 17.75   \u001b[0m | \u001b[0m 26.84   \u001b[0m | \u001b[0m 0.000747\u001b[0m |\n"
     ]
    },
    {
     "name": "stderr",
     "output_type": "stream",
     "text": [
      "/home/andressa.amaral/.local/lib/python3.7/site-packages/keras/engine/training_v1.py:2332: UserWarning: `Model.state_updates` will be removed in a future version. This property should not be used in TensorFlow 2.0, as `updates` are applied automatically.\n",
      "  updates = self.state_updates\n"
     ]
    },
    {
     "name": "stdout",
     "output_type": "stream",
     "text": [
      "| \u001b[0m 9       \u001b[0m | \u001b[0m 0.9598  \u001b[0m | \u001b[0m 12.96   \u001b[0m | \u001b[0m 16.4    \u001b[0m | \u001b[0m 0.000947\u001b[0m |\n"
     ]
    },
    {
     "name": "stderr",
     "output_type": "stream",
     "text": [
      "/home/andressa.amaral/.local/lib/python3.7/site-packages/keras/engine/training_v1.py:2332: UserWarning: `Model.state_updates` will be removed in a future version. This property should not be used in TensorFlow 2.0, as `updates` are applied automatically.\n",
      "  updates = self.state_updates\n"
     ]
    },
    {
     "name": "stdout",
     "output_type": "stream",
     "text": [
      "| \u001b[95m 10      \u001b[0m | \u001b[95m 0.96    \u001b[0m | \u001b[95m 19.44   \u001b[0m | \u001b[95m 73.13   \u001b[0m | \u001b[95m 0.000195\u001b[0m |\n",
      "=============================================================\n",
      "Optimization time: 2016.9435238838196\n"
     ]
    }
   ],
   "source": [
    "'''\n",
    "# Apply Bayesian optimization to choose the best hyperparameters\n",
    "\n",
    "opt = BayesianOptimization(f = maximize_training,\n",
    "                           pbounds = pbounds,\n",
    "                           verbose = 2, \n",
    "                           random_state = 1)\n",
    "\n",
    "opt_start = time.time()\n",
    "\n",
    "opt.maximize(init_points = 5, n_iter = 5)\n",
    "\n",
    "opt_end = time.time()\n",
    "opt_time = opt_end - opt_start\n",
    "print(\"Optimization time:\", opt_time)\n",
    "\n",
    "learning_rate = opt.max['params']['learning_rate']\n",
    "epochs = round(opt.max['params']['epochs'])\n",
    "batch_size = round(opt.max['params']['batch_size'])\n",
    "'''"
   ]
  },
  {
   "cell_type": "markdown",
   "id": "b1cc24ca",
   "metadata": {},
   "source": [
    "# Classify Attacks"
   ]
  },
  {
   "cell_type": "code",
   "execution_count": 13,
   "id": "bc738ebe",
   "metadata": {},
   "outputs": [],
   "source": [
    "# Training step with the best hyperparameters\n",
    "learning_rate = 0.03967735065559277\n",
    "epochs = 35\n",
    "batch_size = 49\n",
    "opt_time = 2016.9435238838196"
   ]
  },
  {
   "cell_type": "code",
   "execution_count": 14,
   "id": "a1c8e73a",
   "metadata": {},
   "outputs": [
    {
     "name": "stdout",
     "output_type": "stream",
     "text": [
      "Iteration 0\n",
      "Train on 226148 samples, validate on 48466 samples\n",
      "Epoch 1/73\n",
      "226148/226148 [==============================] - 61s 271us/sample - loss: 0.1267 - accuracy: 0.9598 - val_loss: 0.1252 - val_accuracy: 0.9599 - lr: 0.0010\n",
      "Epoch 2/73\n",
      "226148/226148 [==============================] - 60s 266us/sample - loss: 0.1235 - accuracy: 0.9603 - val_loss: 0.1262 - val_accuracy: 0.9599 - lr: 0.0010\n",
      "Epoch 3/73\n",
      "226148/226148 [==============================] - 61s 271us/sample - loss: 0.1232 - accuracy: 0.9603 - val_loss: 0.1288 - val_accuracy: 0.9598 - lr: 0.0010\n",
      "Epoch 4/73\n",
      "226148/226148 [==============================] - 61s 268us/sample - loss: 0.1231 - accuracy: 0.9603 - val_loss: 0.1287 - val_accuracy: 0.9598 - lr: 0.0010\n",
      "Epoch 5/73\n",
      "226148/226148 [==============================] - 60s 266us/sample - loss: 0.1229 - accuracy: 0.9603 - val_loss: 0.1327 - val_accuracy: 0.9596 - lr: 0.0010\n",
      "Epoch 6/73\n",
      "226148/226148 [==============================] - 63s 277us/sample - loss: 0.1232 - accuracy: 0.9603 - val_loss: 0.1569 - val_accuracy: 0.9589 - lr: 0.0010\n",
      "Epoch 7/73\n",
      "226148/226148 [==============================] - 66s 291us/sample - loss: 0.1229 - accuracy: 0.9603 - val_loss: 0.1458 - val_accuracy: 0.9596 - lr: 0.0010\n",
      "Epoch 8/73\n",
      "226148/226148 [==============================] - 64s 285us/sample - loss: 0.1228 - accuracy: 0.9603 - val_loss: 0.1847 - val_accuracy: 0.9560 - lr: 0.0010\n",
      "Epoch 9/73\n",
      "226148/226148 [==============================] - 65s 287us/sample - loss: 0.1228 - accuracy: 0.9604 - val_loss: 0.1676 - val_accuracy: 0.9567 - lr: 0.0010\n",
      "Epoch 10/73\n",
      "226148/226148 [==============================] - 66s 291us/sample - loss: 0.1229 - accuracy: 0.9603 - val_loss: 0.1410 - val_accuracy: 0.9598 - lr: 0.0010\n",
      "Epoch 11/73\n",
      "226148/226148 [==============================] - 65s 288us/sample - loss: 0.1228 - accuracy: 0.9603 - val_loss: 0.1371 - val_accuracy: 0.9598 - lr: 0.0010\n",
      "Epoch 12/73\n",
      "226148/226148 [==============================] - 66s 292us/sample - loss: 0.1228 - accuracy: 0.9603 - val_loss: 0.1410 - val_accuracy: 0.9598 - lr: 1.0000e-04\n",
      "Epoch 13/73\n",
      "226148/226148 [==============================] - 66s 290us/sample - loss: 0.1227 - accuracy: 0.9604 - val_loss: 0.1442 - val_accuracy: 0.9598 - lr: 1.0000e-04\n",
      "Epoch 14/73\n",
      "226148/226148 [==============================] - 63s 279us/sample - loss: 0.1227 - accuracy: 0.9604 - val_loss: 0.1455 - val_accuracy: 0.9598 - lr: 1.0000e-04\n",
      "Epoch 15/73\n",
      "226148/226148 [==============================] - 63s 279us/sample - loss: 0.1227 - accuracy: 0.9604 - val_loss: 0.1486 - val_accuracy: 0.9598 - lr: 1.0000e-04\n",
      "Epoch 16/73\n",
      "226148/226148 [==============================] - 67s 295us/sample - loss: 0.1227 - accuracy: 0.9604 - val_loss: 0.1498 - val_accuracy: 0.9598 - lr: 1.0000e-04\n",
      "Epoch 17/73\n",
      "226148/226148 [==============================] - 65s 286us/sample - loss: 0.1227 - accuracy: 0.9604 - val_loss: 0.1507 - val_accuracy: 0.9598 - lr: 1.0000e-04\n",
      "Epoch 18/73\n",
      "226148/226148 [==============================] - 63s 278us/sample - loss: 0.1227 - accuracy: 0.9604 - val_loss: 0.1519 - val_accuracy: 0.9598 - lr: 1.0000e-04\n",
      "Epoch 19/73\n",
      "226148/226148 [==============================] - 63s 278us/sample - loss: 0.1227 - accuracy: 0.9604 - val_loss: 0.1520 - val_accuracy: 0.9598 - lr: 1.0000e-04\n",
      "Epoch 20/73\n",
      "226148/226148 [==============================] - 65s 287us/sample - loss: 0.1227 - accuracy: 0.9604 - val_loss: 0.1521 - val_accuracy: 0.9598 - lr: 1.0000e-04\n",
      "Epoch 21/73\n",
      "226148/226148 [==============================] - 63s 279us/sample - loss: 0.1227 - accuracy: 0.9604 - val_loss: 0.1533 - val_accuracy: 0.9598 - lr: 1.0000e-04\n",
      "Epoch 22/73\n",
      "226148/226148 [==============================] - 66s 290us/sample - loss: 0.1227 - accuracy: 0.9604 - val_loss: 0.1534 - val_accuracy: 0.9598 - lr: 1.0000e-05\n",
      "Epoch 23/73\n",
      "226148/226148 [==============================] - 65s 289us/sample - loss: 0.1227 - accuracy: 0.9604 - val_loss: 0.1535 - val_accuracy: 0.9598 - lr: 1.0000e-05\n",
      "Epoch 24/73\n",
      "226148/226148 [==============================] - 65s 287us/sample - loss: 0.1227 - accuracy: 0.9604 - val_loss: 0.1536 - val_accuracy: 0.9598 - lr: 1.0000e-05\n",
      "Epoch 25/73\n",
      "226148/226148 [==============================] - 66s 293us/sample - loss: 0.1227 - accuracy: 0.9604 - val_loss: 0.1537 - val_accuracy: 0.9598 - lr: 1.0000e-05\n",
      "Epoch 26/73\n",
      "226148/226148 [==============================] - 64s 283us/sample - loss: 0.1227 - accuracy: 0.9604 - val_loss: 0.1537 - val_accuracy: 0.9598 - lr: 1.0000e-05\n",
      "Epoch 27/73\n",
      "226148/226148 [==============================] - 61s 272us/sample - loss: 0.1227 - accuracy: 0.9604 - val_loss: 0.1538 - val_accuracy: 0.9598 - lr: 1.0000e-05\n",
      "Epoch 28/73\n",
      "226148/226148 [==============================] - 69s 306us/sample - loss: 0.1227 - accuracy: 0.9604 - val_loss: 0.1539 - val_accuracy: 0.9598 - lr: 1.0000e-05\n",
      "Epoch 29/73\n",
      "226148/226148 [==============================] - 62s 273us/sample - loss: 0.1227 - accuracy: 0.9604 - val_loss: 0.1539 - val_accuracy: 0.9598 - lr: 1.0000e-05\n",
      "Epoch 30/73\n",
      "226148/226148 [==============================] - 61s 269us/sample - loss: 0.1227 - accuracy: 0.9604 - val_loss: 0.1539 - val_accuracy: 0.9598 - lr: 1.0000e-05\n",
      "Epoch 31/73\n",
      "226148/226148 [==============================] - 59s 262us/sample - loss: 0.1227 - accuracy: 0.9604 - val_loss: 0.1540 - val_accuracy: 0.9598 - lr: 1.0000e-05\n",
      "Epoch 32/73\n",
      "226148/226148 [==============================] - 59s 263us/sample - loss: 0.1227 - accuracy: 0.9604 - val_loss: 0.1540 - val_accuracy: 0.9598 - lr: 1.0000e-06\n",
      "Epoch 33/73\n",
      "226148/226148 [==============================] - 63s 279us/sample - loss: 0.1227 - accuracy: 0.9604 - val_loss: 0.1540 - val_accuracy: 0.9598 - lr: 1.0000e-06\n",
      "Epoch 34/73\n",
      "226148/226148 [==============================] - 61s 271us/sample - loss: 0.1227 - accuracy: 0.9604 - val_loss: 0.1540 - val_accuracy: 0.9598 - lr: 1.0000e-06\n",
      "Epoch 35/73\n",
      "226148/226148 [==============================] - 61s 269us/sample - loss: 0.1227 - accuracy: 0.9604 - val_loss: 0.1540 - val_accuracy: 0.9598 - lr: 1.0000e-06\n",
      "Epoch 36/73\n",
      "226148/226148 [==============================] - 60s 265us/sample - loss: 0.1227 - accuracy: 0.9604 - val_loss: 0.1540 - val_accuracy: 0.9598 - lr: 1.0000e-06\n",
      "Epoch 37/73\n",
      "226148/226148 [==============================] - 60s 263us/sample - loss: 0.1227 - accuracy: 0.9604 - val_loss: 0.1540 - val_accuracy: 0.9598 - lr: 1.0000e-06\n",
      "Epoch 38/73\n",
      "226148/226148 [==============================] - 65s 287us/sample - loss: 0.1227 - accuracy: 0.9604 - val_loss: 0.1540 - val_accuracy: 0.9598 - lr: 1.0000e-06\n",
      "Epoch 39/73\n",
      "226148/226148 [==============================] - 65s 285us/sample - loss: 0.1227 - accuracy: 0.9604 - val_loss: 0.1540 - val_accuracy: 0.9598 - lr: 1.0000e-06\n",
      "Epoch 40/73\n",
      "226148/226148 [==============================] - 60s 265us/sample - loss: 0.1227 - accuracy: 0.9604 - val_loss: 0.1540 - val_accuracy: 0.9598 - lr: 1.0000e-06\n",
      "Epoch 41/73\n",
      "226148/226148 [==============================] - 60s 266us/sample - loss: 0.1227 - accuracy: 0.9604 - val_loss: 0.1540 - val_accuracy: 0.9598 - lr: 1.0000e-06\n",
      "Epoch 42/73\n",
      "226148/226148 [==============================] - 61s 269us/sample - loss: 0.1227 - accuracy: 0.9604 - val_loss: 0.1540 - val_accuracy: 0.9598 - lr: 1.0000e-07\n",
      "Epoch 43/73\n",
      "226148/226148 [==============================] - 60s 266us/sample - loss: 0.1227 - accuracy: 0.9604 - val_loss: 0.1540 - val_accuracy: 0.9598 - lr: 1.0000e-07\n",
      "Epoch 44/73\n",
      "226148/226148 [==============================] - 59s 261us/sample - loss: 0.1227 - accuracy: 0.9604 - val_loss: 0.1540 - val_accuracy: 0.9598 - lr: 1.0000e-07\n",
      "Epoch 45/73\n",
      "226148/226148 [==============================] - 59s 262us/sample - loss: 0.1227 - accuracy: 0.9604 - val_loss: 0.1540 - val_accuracy: 0.9598 - lr: 1.0000e-07\n",
      "Epoch 46/73\n",
      "226148/226148 [==============================] - 59s 259us/sample - loss: 0.1227 - accuracy: 0.9604 - val_loss: 0.1540 - val_accuracy: 0.9598 - lr: 1.0000e-07\n",
      "Epoch 47/73\n",
      "226148/226148 [==============================] - 60s 267us/sample - loss: 0.1227 - accuracy: 0.9604 - val_loss: 0.1540 - val_accuracy: 0.9598 - lr: 1.0000e-07\n",
      "Epoch 48/73\n",
      "226148/226148 [==============================] - 65s 289us/sample - loss: 0.1227 - accuracy: 0.9604 - val_loss: 0.1540 - val_accuracy: 0.9598 - lr: 1.0000e-07\n"
     ]
    },
    {
     "name": "stdout",
     "output_type": "stream",
     "text": [
      "Epoch 49/73\n",
      "226148/226148 [==============================] - 68s 299us/sample - loss: 0.1227 - accuracy: 0.9604 - val_loss: 0.1540 - val_accuracy: 0.9598 - lr: 1.0000e-07\n",
      "Epoch 50/73\n",
      "226148/226148 [==============================] - 67s 297us/sample - loss: 0.1227 - accuracy: 0.9604 - val_loss: 0.1540 - val_accuracy: 0.9598 - lr: 1.0000e-07\n",
      "Epoch 51/73\n",
      "226148/226148 [==============================] - 66s 291us/sample - loss: 0.1227 - accuracy: 0.9604 - val_loss: 0.1540 - val_accuracy: 0.9598 - lr: 1.0000e-07\n",
      "Epoch 52/73\n",
      "226148/226148 [==============================] - 65s 286us/sample - loss: 0.1227 - accuracy: 0.9604 - val_loss: 0.1540 - val_accuracy: 0.9598 - lr: 1.0000e-08\n",
      "Epoch 53/73\n",
      "226148/226148 [==============================] - 63s 276us/sample - loss: 0.1227 - accuracy: 0.9604 - val_loss: 0.1540 - val_accuracy: 0.9598 - lr: 1.0000e-08\n",
      "Epoch 54/73\n",
      "226148/226148 [==============================] - 63s 279us/sample - loss: 0.1227 - accuracy: 0.9604 - val_loss: 0.1540 - val_accuracy: 0.9598 - lr: 1.0000e-08\n",
      "Epoch 55/73\n",
      "226148/226148 [==============================] - 63s 281us/sample - loss: 0.1227 - accuracy: 0.9604 - val_loss: 0.1540 - val_accuracy: 0.9598 - lr: 1.0000e-08\n",
      "Epoch 56/73\n",
      "226148/226148 [==============================] - 63s 278us/sample - loss: 0.1227 - accuracy: 0.9604 - val_loss: 0.1540 - val_accuracy: 0.9598 - lr: 1.0000e-08\n",
      "Epoch 57/73\n",
      "226148/226148 [==============================] - 63s 279us/sample - loss: 0.1227 - accuracy: 0.9604 - val_loss: 0.1540 - val_accuracy: 0.9598 - lr: 1.0000e-08\n",
      "Epoch 58/73\n",
      "226148/226148 [==============================] - 59s 263us/sample - loss: 0.1227 - accuracy: 0.9604 - val_loss: 0.1540 - val_accuracy: 0.9598 - lr: 1.0000e-08\n",
      "Epoch 59/73\n",
      "226148/226148 [==============================] - 58s 255us/sample - loss: 0.1227 - accuracy: 0.9604 - val_loss: 0.1540 - val_accuracy: 0.9598 - lr: 1.0000e-08\n",
      "Epoch 60/73\n",
      "226148/226148 [==============================] - 60s 264us/sample - loss: 0.1227 - accuracy: 0.9604 - val_loss: 0.1540 - val_accuracy: 0.9598 - lr: 1.0000e-08\n",
      "Epoch 61/73\n",
      "226148/226148 [==============================] - 58s 256us/sample - loss: 0.1227 - accuracy: 0.9604 - val_loss: 0.1540 - val_accuracy: 0.9598 - lr: 1.0000e-08\n",
      "Epoch 62/73\n",
      "226148/226148 [==============================] - 69s 303us/sample - loss: 0.1227 - accuracy: 0.9604 - val_loss: 0.1540 - val_accuracy: 0.9598 - lr: 1.0000e-09\n",
      "Epoch 63/73\n",
      "226148/226148 [==============================] - 62s 273us/sample - loss: 0.1227 - accuracy: 0.9604 - val_loss: 0.1540 - val_accuracy: 0.9598 - lr: 1.0000e-09\n",
      "Epoch 64/73\n",
      "226148/226148 [==============================] - 59s 261us/sample - loss: 0.1227 - accuracy: 0.9604 - val_loss: 0.1540 - val_accuracy: 0.9598 - lr: 1.0000e-09\n",
      "Epoch 65/73\n",
      "226148/226148 [==============================] - 69s 306us/sample - loss: 0.1227 - accuracy: 0.9604 - val_loss: 0.1540 - val_accuracy: 0.9598 - lr: 1.0000e-09\n",
      "Epoch 66/73\n",
      "226148/226148 [==============================] - 73s 322us/sample - loss: 0.1227 - accuracy: 0.9604 - val_loss: 0.1540 - val_accuracy: 0.9598 - lr: 1.0000e-09\n",
      "Epoch 67/73\n",
      "226148/226148 [==============================] - 63s 277us/sample - loss: 0.1227 - accuracy: 0.9604 - val_loss: 0.1540 - val_accuracy: 0.9598 - lr: 1.0000e-09\n",
      "Epoch 68/73\n",
      "226148/226148 [==============================] - 67s 298us/sample - loss: 0.1227 - accuracy: 0.9604 - val_loss: 0.1540 - val_accuracy: 0.9598 - lr: 1.0000e-09\n",
      "Epoch 69/73\n",
      "226148/226148 [==============================] - 72s 317us/sample - loss: 0.1227 - accuracy: 0.9604 - val_loss: 0.1540 - val_accuracy: 0.9598 - lr: 1.0000e-09\n",
      "Epoch 70/73\n",
      "226148/226148 [==============================] - 66s 292us/sample - loss: 0.1227 - accuracy: 0.9604 - val_loss: 0.1540 - val_accuracy: 0.9598 - lr: 1.0000e-09\n",
      "Epoch 71/73\n",
      "226148/226148 [==============================] - 72s 319us/sample - loss: 0.1227 - accuracy: 0.9604 - val_loss: 0.1540 - val_accuracy: 0.9598 - lr: 1.0000e-09\n",
      "Epoch 72/73\n",
      "226148/226148 [==============================] - 94s 418us/sample - loss: 0.1227 - accuracy: 0.9604 - val_loss: 0.1540 - val_accuracy: 0.9598 - lr: 1.0000e-10\n",
      "Epoch 73/73\n",
      "226148/226148 [==============================] - 79s 348us/sample - loss: 0.1227 - accuracy: 0.9604 - val_loss: 0.1540 - val_accuracy: 0.9598 - lr: 1.0000e-10\n",
      "Training time: 4672.014643907547\n"
     ]
    },
    {
     "name": "stderr",
     "output_type": "stream",
     "text": [
      "/home/andressa.amaral/.local/lib/python3.7/site-packages/keras/engine/training_v1.py:2356: UserWarning: `Model.state_updates` will be removed in a future version. This property should not be used in TensorFlow 2.0, as `updates` are applied automatically.\n",
      "  updates=self.state_updates,\n"
     ]
    },
    {
     "name": "stdout",
     "output_type": "stream",
     "text": [
      "Testing time: 5.6571595668792725\n",
      "[5 5 5 ... 9 9 9]\n",
      "[5 5 5 ... 9 9 9]\n",
      "\n"
     ]
    }
   ],
   "source": [
    "nadam = optimizers.Nadam(learning_rate = learning_rate, beta_1 = 0.9, beta_2 = 0.999, epsilon = 1e-08, schedule_decay = 0.004)\n",
    "cnn_model.compile(loss = \"sparse_categorical_crossentropy\", optimizer = \"nadam\", metrics = [\"accuracy\"])\n",
    "\n",
    "for i in range(1):\n",
    "    print(\"Iteration \" + str(i))\n",
    "    \n",
    "    # Train\n",
    "    cnn_model, train_time = AttackClassificationModel.train(X_train_CNN, Y_train, X_val_CNN, Y_val, epochs, batch_size, reduce_lr, cnn_model)\n",
    "    \n",
    "    # Test\n",
    "    Y_pred, test_time = AttackClassificationModel.test(X_test_CNN, cnn_model)\n",
    "    print(Y_pred)\n",
    "    print(Y_test)\n",
    "    \n",
    "    # Multi classification metrics\n",
    "    labels = ['Bashlite_Junk','Bashlite_Scan','Bashlite_Udp', 'Bashlite_Tcp']\n",
    "    acc, f1, pre, rec = AttackClassificationModel.get_scores(Y_test, Y_pred, labels)\n",
    "    \n",
    "    # Print results\n",
    "    AttackClassificationModel.print_results(learning_rate,\n",
    "                                            epochs,\n",
    "                                            batch_size,\n",
    "                                            X_train,\n",
    "                                            X_val,\n",
    "                                            X_test,\n",
    "                                            opt_time,\n",
    "                                            train_time,\n",
    "                                            test_time,\n",
    "                                            acc,\n",
    "                                            f1,\n",
    "                                            pre,\n",
    "                                            rec,\n",
    "                                            Y_test,\n",
    "                                            Y_pred,\n",
    "                                            \"CNN\",\n",
    "                                            \"Results/samsung_webcam.txt\")\n",
    "    \n",
    "    print(\"\")"
   ]
  },
  {
   "cell_type": "code",
   "execution_count": 15,
   "id": "6689bd49",
   "metadata": {},
   "outputs": [
    {
     "data": {
      "image/png": "[encoded data removed]",
      "text/plain": [
       "<Figure size 288x288 with 1 Axes>"
      ]
     },
     "metadata": {
      "needs_background": "light"
     },
     "output_type": "display_data"
    }
   ],
   "source": [
    "conf_matrix = confusion_matrix(Y_test, Y_pred)\n",
    "\n",
    "fig, ax = plt.subplots(figsize = (6, 6))\n",
    "ax.matshow(conf_matrix, cmap = plt.cm.Blues, alpha = 0.3)\n",
    "for i in range(conf_matrix.shape[0]):\n",
    "    for j in range(conf_matrix.shape[1]):\n",
    "        ax.text(x = j, y = i,s = conf_matrix[i, j], va = 'center', ha = 'center', size = 'large')\n",
    " \n",
    "plt.xlabel('Predictions', fontsize=12)\n",
    "plt.ylabel('Actuals', fontsize=12)\n",
    "plt.title('Confusion Matrix', fontsize=14)\n",
    "plt.savefig(\"Results/Confusion Matrix/SW CNN\")\n",
    "plt.show()"
   ]
  },
  {
   "cell_type": "markdown",
   "id": "5d10a499",
   "metadata": {},
   "source": [
    "# NB Model"
   ]
  },
  {
   "cell_type": "code",
   "execution_count": 16,
   "id": "b3663c30",
   "metadata": {},
   "outputs": [
    {
     "ename": "SyntaxError",
     "evalue": "EOL while scanning string literal (2586053211.py, line 34)",
     "output_type": "error",
     "traceback": [
      "\u001b[0;36m  File \u001b[0;32m\"/tmp/ipykernel_14194/2586053211.py\"\u001b[0;36m, line \u001b[0;32m34\u001b[0m\n\u001b[0;31m    \"Results/samsung_webcam.txt)\u001b[0m\n\u001b[0m                                ^\u001b[0m\n\u001b[0;31mSyntaxError\u001b[0m\u001b[0;31m:\u001b[0m EOL while scanning string literal\n"
     ]
    }
   ],
   "source": [
    "# Model\n",
    "nb_model = GaussianNB()\n",
    "\n",
    "for i in range(1):\n",
    "    print(\"Iteration \" + str(i))\n",
    "    \n",
    "    # Train\n",
    "    nb_model, train_time = AttackClassificationModel.train_nb_knn(X_train, Y_train, nb_model)\n",
    "    \n",
    "    # Test\n",
    "    Y_pred, test_time = AttackClassificationModel.test(X_test, nb_model)\n",
    "    \n",
    "    # Multi classification metrics\n",
    "    labels = ['Bashlite_Combo','Bashlite_Junk','Bashlite_Scan','Bashlite_Udp', 'Bashlite_Tcp']\n",
    "    acc, f1, pre, rec = AttackClassificationModel.get_scores(Y_test, Y_pred, labels)\n",
    "    \n",
    "    # Print results\n",
    "    AttackClassificationModel.print_results(learning_rate,\n",
    "                                            epochs,\n",
    "                                            batch_size,\n",
    "                                            X_train,\n",
    "                                            X_val,\n",
    "                                            X_test,\n",
    "                                            opt_time,\n",
    "                                            train_time,\n",
    "                                            test_time,\n",
    "                                            acc,\n",
    "                                            f1,\n",
    "                                            pre,\n",
    "                                            rec,\n",
    "                                            Y_test,\n",
    "                                            Y_pred,\n",
    "                                            \"NB\",\n",
    "                                            \"Results/samsung_webcam.txt\")\n",
    "    \n",
    "    print(\"\")"
   ]
  },
  {
   "cell_type": "code",
   "execution_count": null,
   "id": "0081f24f",
   "metadata": {},
   "outputs": [],
   "source": [
    "conf_matrix = confusion_matrix(Y_test, Y_pred)\n",
    "\n",
    "fig, ax = plt.subplots(figsize = (6, 6))\n",
    "ax.matshow(conf_matrix, cmap = plt.cm.Blues, alpha = 0.3)\n",
    "for i in range(conf_matrix.shape[0]):\n",
    "    for j in range(conf_matrix.shape[1]):\n",
    "        ax.text(x = j, y = i,s = conf_matrix[i, j], va = 'center', ha = 'center', size = 'large')\n",
    " \n",
    "plt.xlabel('Predictions', fontsize=12)\n",
    "plt.ylabel('Actuals', fontsize=12)\n",
    "plt.title('Confusion Matrix', fontsize=14)\n",
    "plt.savefig(\"Results/Confusion Matrix/SW NB\")\n",
    "plt.show()"
   ]
  },
  {
   "cell_type": "markdown",
   "id": "76fa0006",
   "metadata": {},
   "source": [
    "# KNN Model"
   ]
  },
  {
   "cell_type": "code",
   "execution_count": null,
   "id": "bf4d9ef6",
   "metadata": {},
   "outputs": [],
   "source": [
    "# Model\n",
    "knn_model = KNeighborsClassifier(n_neighbors = 50)\n",
    "\n",
    "for i in range(1):\n",
    "    print(\"Iteration \" + str(i))\n",
    "    \n",
    "    # Train\n",
    "    knn_model, train_time = AttackClassificationModel.train_nb_knn(X_train, Y_train, knn_model)\n",
    "    \n",
    "    # Test\n",
    "    Y_pred, test_time = AttackClassificationModel.test(X_test, knn_model)\n",
    "    \n",
    "    # Multi classification metrics\n",
    "    labels = ['Bashlite_Combo','Bashlite_Junk','Bashlite_Scan','Bashlite_Udp', 'Bashlite_Tcp']\n",
    "    acc, f1, pre, rec = AttackClassificationModel.get_scores(Y_test, Y_pred, labels)\n",
    "    \n",
    "    # Print results\n",
    "    AttackClassificationModel.print_results(learning_rate,\n",
    "                                            epochs,\n",
    "                                            batch_size,\n",
    "                                            X_train,\n",
    "                                            X_val,\n",
    "                                            X_test,\n",
    "                                            opt_time,\n",
    "                                            train_time,\n",
    "                                            test_time,\n",
    "                                            acc,\n",
    "                                            f1,\n",
    "                                            pre,\n",
    "                                            rec,\n",
    "                                            Y_test,\n",
    "                                            Y_pred,\n",
    "                                            \"KNN\",\n",
    "                                            \"Results/samsung_webcam.txt\")\n",
    "    \n",
    "    print(\"\")"
   ]
  },
  {
   "cell_type": "code",
   "execution_count": null,
   "id": "dce84748",
   "metadata": {},
   "outputs": [],
   "source": [
    "conf_matrix = confusion_matrix(Y_test, Y_pred)\n",
    "\n",
    "fig, ax = plt.subplots(figsize = (6, 6))\n",
    "ax.matshow(conf_matrix, cmap = plt.cm.Blues, alpha = 0.3)\n",
    "for i in range(conf_matrix.shape[0]):\n",
    "    for j in range(conf_matrix.shape[1]):\n",
    "        ax.text(x = j, y = i,s = conf_matrix[i, j], va = 'center', ha = 'center', size = 'large')\n",
    " \n",
    "plt.xlabel('Predictions', fontsize=12)\n",
    "plt.ylabel('Actuals', fontsize=12)\n",
    "plt.title('Confusion Matrix', fontsize=14)\n",
    "plt.savefig(\"Results/Confusion Matrix/SW KNN\")\n",
    "plt.show()"
   ]
  }
 ],
 "metadata": {
  "kernelspec": {
   "display_name": "Python 3 (ipykernel)",
   "language": "python",
   "name": "python3"
  },
  "language_info": {
   "codemirror_mode": {
    "name": "ipython",
    "version": 3
   },
   "file_extension": ".py",
   "mimetype": "text/x-python",
   "name": "python",
   "nbconvert_exporter": "python",
   "pygments_lexer": "ipython3",
   "version": "3.7.5"
  }
 },
 "nbformat": 4,
 "nbformat_minor": 5
}
