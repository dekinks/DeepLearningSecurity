{
 "cells": [
  {
   "cell_type": "code",
   "execution_count": 1,
   "id": "0292919c",
   "metadata": {},
   "outputs": [
    {
     "name": "stdout",
     "output_type": "stream",
     "text": [
      "Defaulting to user installation because normal site-packages is not writeable\n",
      "Requirement already satisfied: matplotlib in /home/andressa.amaral/.local/lib/python3.8/site-packages (3.6.2)\n",
      "Requirement already satisfied: fonttools>=4.22.0 in /home/andressa.amaral/.local/lib/python3.8/site-packages (from matplotlib) (4.38.0)\n",
      "Requirement already satisfied: packaging>=20.0 in /home/andressa.amaral/.local/lib/python3.8/site-packages (from matplotlib) (21.3)\n",
      "Requirement already satisfied: kiwisolver>=1.0.1 in /home/andressa.amaral/.local/lib/python3.8/site-packages (from matplotlib) (1.4.4)\n",
      "Requirement already satisfied: cycler>=0.10 in /home/andressa.amaral/.local/lib/python3.8/site-packages (from matplotlib) (0.11.0)\n",
      "Requirement already satisfied: pyparsing>=2.2.1 in /home/andressa.amaral/.local/lib/python3.8/site-packages (from matplotlib) (3.0.9)\n",
      "Requirement already satisfied: contourpy>=1.0.1 in /home/andressa.amaral/.local/lib/python3.8/site-packages (from matplotlib) (1.0.6)\n",
      "Requirement already satisfied: pillow>=6.2.0 in /home/andressa.amaral/.local/lib/python3.8/site-packages (from matplotlib) (9.3.0)\n",
      "Requirement already satisfied: python-dateutil>=2.7 in /home/andressa.amaral/.local/lib/python3.8/site-packages (from matplotlib) (2.8.2)\n",
      "Requirement already satisfied: numpy>=1.19 in /home/andressa.amaral/.local/lib/python3.8/site-packages (from matplotlib) (1.23.4)\n",
      "Requirement already satisfied: six>=1.5 in /home/andressa.amaral/.local/lib/python3.8/site-packages (from python-dateutil>=2.7->matplotlib) (1.16.0)\n",
      "Defaulting to user installation because normal site-packages is not writeable\n",
      "Requirement already satisfied: pandas in /home/andressa.amaral/.local/lib/python3.8/site-packages (1.5.1)\n",
      "Requirement already satisfied: pytz>=2020.1 in /home/andressa.amaral/.local/lib/python3.8/site-packages (from pandas) (2022.6)\n",
      "Requirement already satisfied: numpy>=1.20.3 in /home/andressa.amaral/.local/lib/python3.8/site-packages (from pandas) (1.23.4)\n",
      "Requirement already satisfied: python-dateutil>=2.8.1 in /home/andressa.amaral/.local/lib/python3.8/site-packages (from pandas) (2.8.2)\n",
      "Requirement already satisfied: six>=1.5 in /home/andressa.amaral/.local/lib/python3.8/site-packages (from python-dateutil>=2.8.1->pandas) (1.16.0)\n",
      "Defaulting to user installation because normal site-packages is not writeable\n",
      "Requirement already satisfied: seaborn in /home/andressa.amaral/.local/lib/python3.8/site-packages (0.12.1)\n",
      "Requirement already satisfied: matplotlib!=3.6.1,>=3.1 in /home/andressa.amaral/.local/lib/python3.8/site-packages (from seaborn) (3.6.2)\n",
      "Requirement already satisfied: pandas>=0.25 in /home/andressa.amaral/.local/lib/python3.8/site-packages (from seaborn) (1.5.1)\n",
      "Requirement already satisfied: numpy>=1.17 in /home/andressa.amaral/.local/lib/python3.8/site-packages (from seaborn) (1.23.4)\n",
      "Requirement already satisfied: contourpy>=1.0.1 in /home/andressa.amaral/.local/lib/python3.8/site-packages (from matplotlib!=3.6.1,>=3.1->seaborn) (1.0.6)\n",
      "Requirement already satisfied: pyparsing>=2.2.1 in /home/andressa.amaral/.local/lib/python3.8/site-packages (from matplotlib!=3.6.1,>=3.1->seaborn) (3.0.9)\n",
      "Requirement already satisfied: pillow>=6.2.0 in /home/andressa.amaral/.local/lib/python3.8/site-packages (from matplotlib!=3.6.1,>=3.1->seaborn) (9.3.0)\n",
      "Requirement already satisfied: python-dateutil>=2.7 in /home/andressa.amaral/.local/lib/python3.8/site-packages (from matplotlib!=3.6.1,>=3.1->seaborn) (2.8.2)\n",
      "Requirement already satisfied: fonttools>=4.22.0 in /home/andressa.amaral/.local/lib/python3.8/site-packages (from matplotlib!=3.6.1,>=3.1->seaborn) (4.38.0)\n",
      "Requirement already satisfied: cycler>=0.10 in /home/andressa.amaral/.local/lib/python3.8/site-packages (from matplotlib!=3.6.1,>=3.1->seaborn) (0.11.0)\n",
      "Requirement already satisfied: packaging>=20.0 in /home/andressa.amaral/.local/lib/python3.8/site-packages (from matplotlib!=3.6.1,>=3.1->seaborn) (21.3)\n",
      "Requirement already satisfied: kiwisolver>=1.0.1 in /home/andressa.amaral/.local/lib/python3.8/site-packages (from matplotlib!=3.6.1,>=3.1->seaborn) (1.4.4)\n",
      "Requirement already satisfied: pytz>=2020.1 in /home/andressa.amaral/.local/lib/python3.8/site-packages (from pandas>=0.25->seaborn) (2022.6)\n",
      "Requirement already satisfied: six>=1.5 in /home/andressa.amaral/.local/lib/python3.8/site-packages (from python-dateutil>=2.7->matplotlib!=3.6.1,>=3.1->seaborn) (1.16.0)\n",
      "Defaulting to user installation because normal site-packages is not writeable\n",
      "Requirement already satisfied: tensorflow-gpu in /home/andressa.amaral/.local/lib/python3.8/site-packages (2.11.0)\n",
      "Requirement already satisfied: absl-py>=1.0.0 in /home/andressa.amaral/.local/lib/python3.8/site-packages (from tensorflow-gpu) (1.3.0)\n",
      "Requirement already satisfied: libclang>=13.0.0 in /home/andressa.amaral/.local/lib/python3.8/site-packages (from tensorflow-gpu) (14.0.6)\n",
      "Requirement already satisfied: setuptools in /home/andressa.amaral/.local/lib/python3.8/site-packages (from tensorflow-gpu) (65.5.1)\n",
      "Requirement already satisfied: typing-extensions>=3.6.6 in /home/andressa.amaral/.local/lib/python3.8/site-packages (from tensorflow-gpu) (4.4.0)\n",
      "Requirement already satisfied: termcolor>=1.1.0 in /home/andressa.amaral/.local/lib/python3.8/site-packages (from tensorflow-gpu) (2.1.0)\n",
      "Requirement already satisfied: tensorboard<2.12,>=2.11 in /home/andressa.amaral/.local/lib/python3.8/site-packages (from tensorflow-gpu) (2.11.0)\n",
      "Requirement already satisfied: tensorflow-estimator<2.12,>=2.11.0 in /home/andressa.amaral/.local/lib/python3.8/site-packages (from tensorflow-gpu) (2.11.0)\n",
      "Requirement already satisfied: google-pasta>=0.1.1 in /home/andressa.amaral/.local/lib/python3.8/site-packages (from tensorflow-gpu) (0.2.0)\n",
      "Requirement already satisfied: wrapt>=1.11.0 in /home/andressa.amaral/.local/lib/python3.8/site-packages (from tensorflow-gpu) (1.14.1)\n",
      "Requirement already satisfied: keras<2.12,>=2.11.0 in /home/andressa.amaral/.local/lib/python3.8/site-packages (from tensorflow-gpu) (2.11.0)\n",
      "Requirement already satisfied: opt-einsum>=2.3.2 in /home/andressa.amaral/.local/lib/python3.8/site-packages (from tensorflow-gpu) (3.3.0)\n",
      "Requirement already satisfied: six>=1.12.0 in /home/andressa.amaral/.local/lib/python3.8/site-packages (from tensorflow-gpu) (1.16.0)\n",
      "Requirement already satisfied: packaging in /home/andressa.amaral/.local/lib/python3.8/site-packages (from tensorflow-gpu) (21.3)\n",
      "Requirement already satisfied: astunparse>=1.6.0 in /home/andressa.amaral/.local/lib/python3.8/site-packages (from tensorflow-gpu) (1.6.3)\n",
      "Requirement already satisfied: h5py>=2.9.0 in /home/andressa.amaral/.local/lib/python3.8/site-packages (from tensorflow-gpu) (3.7.0)\n",
      "Requirement already satisfied: numpy>=1.20 in /home/andressa.amaral/.local/lib/python3.8/site-packages (from tensorflow-gpu) (1.23.4)\n",
      "Requirement already satisfied: flatbuffers>=2.0 in /home/andressa.amaral/.local/lib/python3.8/site-packages (from tensorflow-gpu) (22.10.26)\n",
      "Requirement already satisfied: tensorflow-io-gcs-filesystem>=0.23.1 in /home/andressa.amaral/.local/lib/python3.8/site-packages (from tensorflow-gpu) (0.27.0)\n",
      "Requirement already satisfied: gast<=0.4.0,>=0.2.1 in /home/andressa.amaral/.local/lib/python3.8/site-packages (from tensorflow-gpu) (0.4.0)\n",
      "Requirement already satisfied: grpcio<2.0,>=1.24.3 in /home/andressa.amaral/.local/lib/python3.8/site-packages (from tensorflow-gpu) (1.50.0)\n",
      "Requirement already satisfied: protobuf<3.20,>=3.9.2 in /home/andressa.amaral/.local/lib/python3.8/site-packages (from tensorflow-gpu) (3.19.6)\n",
      "Requirement already satisfied: wheel<1.0,>=0.23.0 in /usr/lib/python3/dist-packages (from astunparse>=1.6.0->tensorflow-gpu) (0.30.0)\n",
      "Requirement already satisfied: requests<3,>=2.21.0 in /home/andressa.amaral/.local/lib/python3.8/site-packages (from tensorboard<2.12,>=2.11->tensorflow-gpu) (2.28.1)\n",
      "Requirement already satisfied: markdown>=2.6.8 in /home/andressa.amaral/.local/lib/python3.8/site-packages (from tensorboard<2.12,>=2.11->tensorflow-gpu) (3.4.1)\n",
      "Requirement already satisfied: google-auth-oauthlib<0.5,>=0.4.1 in /home/andressa.amaral/.local/lib/python3.8/site-packages (from tensorboard<2.12,>=2.11->tensorflow-gpu) (0.4.6)\n",
      "Requirement already satisfied: tensorboard-plugin-wit>=1.6.0 in /home/andressa.amaral/.local/lib/python3.8/site-packages (from tensorboard<2.12,>=2.11->tensorflow-gpu) (1.8.1)\n",
      "Requirement already satisfied: tensorboard-data-server<0.7.0,>=0.6.0 in /home/andressa.amaral/.local/lib/python3.8/site-packages (from tensorboard<2.12,>=2.11->tensorflow-gpu) (0.6.1)\n",
      "Requirement already satisfied: google-auth<3,>=1.6.3 in /home/andressa.amaral/.local/lib/python3.8/site-packages (from tensorboard<2.12,>=2.11->tensorflow-gpu) (2.14.1)\n",
      "Requirement already satisfied: werkzeug>=1.0.1 in /home/andressa.amaral/.local/lib/python3.8/site-packages (from tensorboard<2.12,>=2.11->tensorflow-gpu) (2.2.2)\n"
     ]
    },
    {
     "name": "stdout",
     "output_type": "stream",
     "text": [
      "Requirement already satisfied: pyparsing!=3.0.5,>=2.0.2 in /home/andressa.amaral/.local/lib/python3.8/site-packages (from packaging->tensorflow-gpu) (3.0.9)\n",
      "Requirement already satisfied: pyasn1-modules>=0.2.1 in /home/andressa.amaral/.local/lib/python3.8/site-packages (from google-auth<3,>=1.6.3->tensorboard<2.12,>=2.11->tensorflow-gpu) (0.2.8)\n",
      "Requirement already satisfied: cachetools<6.0,>=2.0.0 in /home/andressa.amaral/.local/lib/python3.8/site-packages (from google-auth<3,>=1.6.3->tensorboard<2.12,>=2.11->tensorflow-gpu) (5.2.0)\n",
      "Requirement already satisfied: rsa<5,>=3.1.4 in /home/andressa.amaral/.local/lib/python3.8/site-packages (from google-auth<3,>=1.6.3->tensorboard<2.12,>=2.11->tensorflow-gpu) (4.9)\n",
      "Requirement already satisfied: requests-oauthlib>=0.7.0 in /home/andressa.amaral/.local/lib/python3.8/site-packages (from google-auth-oauthlib<0.5,>=0.4.1->tensorboard<2.12,>=2.11->tensorflow-gpu) (1.3.1)\n",
      "Requirement already satisfied: importlib-metadata>=4.4 in /home/andressa.amaral/.local/lib/python3.8/site-packages (from markdown>=2.6.8->tensorboard<2.12,>=2.11->tensorflow-gpu) (5.0.0)\n",
      "Requirement already satisfied: certifi>=2017.4.17 in /usr/lib/python3/dist-packages (from requests<3,>=2.21.0->tensorboard<2.12,>=2.11->tensorflow-gpu) (2018.1.18)\n",
      "Requirement already satisfied: idna<4,>=2.5 in /home/andressa.amaral/.local/lib/python3.8/site-packages (from requests<3,>=2.21.0->tensorboard<2.12,>=2.11->tensorflow-gpu) (3.4)\n",
      "Requirement already satisfied: charset-normalizer<3,>=2 in /home/andressa.amaral/.local/lib/python3.8/site-packages (from requests<3,>=2.21.0->tensorboard<2.12,>=2.11->tensorflow-gpu) (2.1.1)\n",
      "Requirement already satisfied: urllib3<1.27,>=1.21.1 in /usr/lib/python3/dist-packages (from requests<3,>=2.21.0->tensorboard<2.12,>=2.11->tensorflow-gpu) (1.22)\n",
      "Requirement already satisfied: MarkupSafe>=2.1.1 in /home/andressa.amaral/.local/lib/python3.8/site-packages (from werkzeug>=1.0.1->tensorboard<2.12,>=2.11->tensorflow-gpu) (2.1.1)\n",
      "Requirement already satisfied: zipp>=0.5 in /home/andressa.amaral/.local/lib/python3.8/site-packages (from importlib-metadata>=4.4->markdown>=2.6.8->tensorboard<2.12,>=2.11->tensorflow-gpu) (3.10.0)\n",
      "Requirement already satisfied: pyasn1<0.5.0,>=0.4.6 in /home/andressa.amaral/.local/lib/python3.8/site-packages (from pyasn1-modules>=0.2.1->google-auth<3,>=1.6.3->tensorboard<2.12,>=2.11->tensorflow-gpu) (0.4.8)\n",
      "Requirement already satisfied: oauthlib>=3.0.0 in /home/andressa.amaral/.local/lib/python3.8/site-packages (from requests-oauthlib>=0.7.0->google-auth-oauthlib<0.5,>=0.4.1->tensorboard<2.12,>=2.11->tensorflow-gpu) (3.2.2)\n",
      "Defaulting to user installation because normal site-packages is not writeable\n",
      "Requirement already satisfied: import-ipynb in /home/andressa.amaral/.local/lib/python3.8/site-packages (0.1.4)\n",
      "Requirement already satisfied: IPython in /home/andressa.amaral/.local/lib/python3.8/site-packages (from import-ipynb) (8.6.0)\n",
      "Requirement already satisfied: nbformat in /home/andressa.amaral/.local/lib/python3.8/site-packages (from import-ipynb) (5.7.0)\n",
      "Requirement already satisfied: decorator in /usr/lib/python3/dist-packages (from IPython->import-ipynb) (4.1.2)\n",
      "Requirement already satisfied: pexpect>4.3 in /home/andressa.amaral/.local/lib/python3.8/site-packages (from IPython->import-ipynb) (4.8.0)\n",
      "Requirement already satisfied: traitlets>=5 in /home/andressa.amaral/.local/lib/python3.8/site-packages (from IPython->import-ipynb) (5.5.0)\n",
      "Requirement already satisfied: prompt-toolkit<3.1.0,>3.0.1 in /home/andressa.amaral/.local/lib/python3.8/site-packages (from IPython->import-ipynb) (3.0.32)\n",
      "Requirement already satisfied: stack-data in /home/andressa.amaral/.local/lib/python3.8/site-packages (from IPython->import-ipynb) (0.6.1)\n",
      "Requirement already satisfied: backcall in /home/andressa.amaral/.local/lib/python3.8/site-packages (from IPython->import-ipynb) (0.2.0)\n",
      "Requirement already satisfied: pygments>=2.4.0 in /home/andressa.amaral/.local/lib/python3.8/site-packages (from IPython->import-ipynb) (2.13.0)\n",
      "Requirement already satisfied: jedi>=0.16 in /home/andressa.amaral/.local/lib/python3.8/site-packages (from IPython->import-ipynb) (0.18.1)\n",
      "Requirement already satisfied: matplotlib-inline in /home/andressa.amaral/.local/lib/python3.8/site-packages (from IPython->import-ipynb) (0.1.6)\n",
      "Requirement already satisfied: pickleshare in /home/andressa.amaral/.local/lib/python3.8/site-packages (from IPython->import-ipynb) (0.7.5)\n",
      "Requirement already satisfied: jupyter-core in /home/andressa.amaral/.local/lib/python3.8/site-packages (from nbformat->import-ipynb) (5.0.0)\n",
      "Requirement already satisfied: fastjsonschema in /home/andressa.amaral/.local/lib/python3.8/site-packages (from nbformat->import-ipynb) (2.16.2)\n",
      "Requirement already satisfied: jsonschema>=2.6 in /home/andressa.amaral/.local/lib/python3.8/site-packages (from nbformat->import-ipynb) (4.17.0)\n",
      "Requirement already satisfied: parso<0.9.0,>=0.8.0 in /home/andressa.amaral/.local/lib/python3.8/site-packages (from jedi>=0.16->IPython->import-ipynb) (0.8.3)\n",
      "Requirement already satisfied: pkgutil-resolve-name>=1.3.10 in /home/andressa.amaral/.local/lib/python3.8/site-packages (from jsonschema>=2.6->nbformat->import-ipynb) (1.3.10)\n",
      "Requirement already satisfied: importlib-resources>=1.4.0 in /home/andressa.amaral/.local/lib/python3.8/site-packages (from jsonschema>=2.6->nbformat->import-ipynb) (5.10.0)\n",
      "Requirement already satisfied: pyrsistent!=0.17.0,!=0.17.1,!=0.17.2,>=0.14.0 in /home/andressa.amaral/.local/lib/python3.8/site-packages (from jsonschema>=2.6->nbformat->import-ipynb) (0.19.2)\n",
      "Requirement already satisfied: attrs>=17.4.0 in /home/andressa.amaral/.local/lib/python3.8/site-packages (from jsonschema>=2.6->nbformat->import-ipynb) (22.1.0)\n",
      "Requirement already satisfied: ptyprocess>=0.5 in /home/andressa.amaral/.local/lib/python3.8/site-packages (from pexpect>4.3->IPython->import-ipynb) (0.7.0)\n",
      "Requirement already satisfied: wcwidth in /home/andressa.amaral/.local/lib/python3.8/site-packages (from prompt-toolkit<3.1.0,>3.0.1->IPython->import-ipynb) (0.2.5)\n",
      "Requirement already satisfied: platformdirs in /home/andressa.amaral/.local/lib/python3.8/site-packages (from jupyter-core->nbformat->import-ipynb) (2.5.4)\n",
      "Requirement already satisfied: executing>=1.2.0 in /home/andressa.amaral/.local/lib/python3.8/site-packages (from stack-data->IPython->import-ipynb) (1.2.0)\n",
      "Requirement already satisfied: asttokens>=2.1.0 in /home/andressa.amaral/.local/lib/python3.8/site-packages (from stack-data->IPython->import-ipynb) (2.1.0)\n",
      "Requirement already satisfied: pure-eval in /home/andressa.amaral/.local/lib/python3.8/site-packages (from stack-data->IPython->import-ipynb) (0.2.2)\n",
      "Requirement already satisfied: six in /home/andressa.amaral/.local/lib/python3.8/site-packages (from asttokens>=2.1.0->stack-data->IPython->import-ipynb) (1.16.0)\n",
      "Requirement already satisfied: zipp>=3.1.0 in /home/andressa.amaral/.local/lib/python3.8/site-packages (from importlib-resources>=1.4.0->jsonschema>=2.6->nbformat->import-ipynb) (3.10.0)\n",
      "Defaulting to user installation because normal site-packages is not writeable\n",
      "Requirement already satisfied: cuda-python in /home/andressa.amaral/.local/lib/python3.8/site-packages (11.8.1)\n",
      "Requirement already satisfied: cython in /home/andressa.amaral/.local/lib/python3.8/site-packages (from cuda-python) (0.29.32)\n",
      "Defaulting to user installation because normal site-packages is not writeable\n",
      "Requirement already satisfied: scikit-learn in /home/andressa.amaral/.local/lib/python3.8/site-packages (1.1.3)\n",
      "Requirement already satisfied: joblib>=1.0.0 in /home/andressa.amaral/.local/lib/python3.8/site-packages (from scikit-learn) (1.2.0)\n",
      "Requirement already satisfied: numpy>=1.17.3 in /home/andressa.amaral/.local/lib/python3.8/site-packages (from scikit-learn) (1.23.4)\n",
      "Requirement already satisfied: scipy>=1.3.2 in /home/andressa.amaral/.local/lib/python3.8/site-packages (from scikit-learn) (1.9.3)\n",
      "Requirement already satisfied: threadpoolctl>=2.0.0 in /home/andressa.amaral/.local/lib/python3.8/site-packages (from scikit-learn) (3.1.0)\n",
      "Defaulting to user installation because normal site-packages is not writeable\n",
      "Requirement already satisfied: bayesian-optimization in /home/andressa.amaral/.local/lib/python3.8/site-packages (1.3.1)\n"
     ]
    },
    {
     "name": "stdout",
     "output_type": "stream",
     "text": [
      "Requirement already satisfied: scipy>=1.0.0 in /home/andressa.amaral/.local/lib/python3.8/site-packages (from bayesian-optimization) (1.9.3)\n",
      "Requirement already satisfied: numpy>=1.9.0 in /home/andressa.amaral/.local/lib/python3.8/site-packages (from bayesian-optimization) (1.23.4)\n",
      "Requirement already satisfied: scikit-learn>=0.18.0 in /home/andressa.amaral/.local/lib/python3.8/site-packages (from bayesian-optimization) (1.1.3)\n",
      "Requirement already satisfied: threadpoolctl>=2.0.0 in /home/andressa.amaral/.local/lib/python3.8/site-packages (from scikit-learn>=0.18.0->bayesian-optimization) (3.1.0)\n",
      "Requirement already satisfied: joblib>=1.0.0 in /home/andressa.amaral/.local/lib/python3.8/site-packages (from scikit-learn>=0.18.0->bayesian-optimization) (1.2.0)\n",
      "importing Jupyter notebook from AttackClassificationModel.ipynb\n",
      "Defaulting to user installation because normal site-packages is not writeable\n",
      "Requirement already satisfied: pandas in /home/andressa.amaral/.local/lib/python3.8/site-packages (1.5.1)\n",
      "Requirement already satisfied: numpy>=1.20.3 in /home/andressa.amaral/.local/lib/python3.8/site-packages (from pandas) (1.23.4)\n",
      "Requirement already satisfied: pytz>=2020.1 in /home/andressa.amaral/.local/lib/python3.8/site-packages (from pandas) (2022.6)\n",
      "Requirement already satisfied: python-dateutil>=2.8.1 in /home/andressa.amaral/.local/lib/python3.8/site-packages (from pandas) (2.8.2)\n",
      "Requirement already satisfied: six>=1.5 in /home/andressa.amaral/.local/lib/python3.8/site-packages (from python-dateutil>=2.8.1->pandas) (1.16.0)\n",
      "Defaulting to user installation because normal site-packages is not writeable\n",
      "Requirement already satisfied: tensorflow-gpu in /home/andressa.amaral/.local/lib/python3.8/site-packages (2.11.0)\n",
      "Requirement already satisfied: protobuf<3.20,>=3.9.2 in /home/andressa.amaral/.local/lib/python3.8/site-packages (from tensorflow-gpu) (3.19.6)\n",
      "Requirement already satisfied: tensorboard<2.12,>=2.11 in /home/andressa.amaral/.local/lib/python3.8/site-packages (from tensorflow-gpu) (2.11.0)\n",
      "Requirement already satisfied: grpcio<2.0,>=1.24.3 in /home/andressa.amaral/.local/lib/python3.8/site-packages (from tensorflow-gpu) (1.50.0)\n",
      "Requirement already satisfied: google-pasta>=0.1.1 in /home/andressa.amaral/.local/lib/python3.8/site-packages (from tensorflow-gpu) (0.2.0)\n",
      "Requirement already satisfied: six>=1.12.0 in /home/andressa.amaral/.local/lib/python3.8/site-packages (from tensorflow-gpu) (1.16.0)\n",
      "Requirement already satisfied: libclang>=13.0.0 in /home/andressa.amaral/.local/lib/python3.8/site-packages (from tensorflow-gpu) (14.0.6)\n",
      "Requirement already satisfied: setuptools in /home/andressa.amaral/.local/lib/python3.8/site-packages (from tensorflow-gpu) (65.5.1)\n",
      "Requirement already satisfied: opt-einsum>=2.3.2 in /home/andressa.amaral/.local/lib/python3.8/site-packages (from tensorflow-gpu) (3.3.0)\n",
      "Requirement already satisfied: tensorflow-estimator<2.12,>=2.11.0 in /home/andressa.amaral/.local/lib/python3.8/site-packages (from tensorflow-gpu) (2.11.0)\n",
      "Requirement already satisfied: packaging in /home/andressa.amaral/.local/lib/python3.8/site-packages (from tensorflow-gpu) (21.3)\n",
      "Requirement already satisfied: absl-py>=1.0.0 in /home/andressa.amaral/.local/lib/python3.8/site-packages (from tensorflow-gpu) (1.3.0)\n",
      "Requirement already satisfied: h5py>=2.9.0 in /home/andressa.amaral/.local/lib/python3.8/site-packages (from tensorflow-gpu) (3.7.0)\n",
      "Requirement already satisfied: flatbuffers>=2.0 in /home/andressa.amaral/.local/lib/python3.8/site-packages (from tensorflow-gpu) (22.10.26)\n",
      "Requirement already satisfied: wrapt>=1.11.0 in /home/andressa.amaral/.local/lib/python3.8/site-packages (from tensorflow-gpu) (1.14.1)\n",
      "Requirement already satisfied: gast<=0.4.0,>=0.2.1 in /home/andressa.amaral/.local/lib/python3.8/site-packages (from tensorflow-gpu) (0.4.0)\n",
      "Requirement already satisfied: keras<2.12,>=2.11.0 in /home/andressa.amaral/.local/lib/python3.8/site-packages (from tensorflow-gpu) (2.11.0)\n",
      "Requirement already satisfied: tensorflow-io-gcs-filesystem>=0.23.1 in /home/andressa.amaral/.local/lib/python3.8/site-packages (from tensorflow-gpu) (0.27.0)\n",
      "Requirement already satisfied: numpy>=1.20 in /home/andressa.amaral/.local/lib/python3.8/site-packages (from tensorflow-gpu) (1.23.4)\n",
      "Requirement already satisfied: typing-extensions>=3.6.6 in /home/andressa.amaral/.local/lib/python3.8/site-packages (from tensorflow-gpu) (4.4.0)\n",
      "Requirement already satisfied: termcolor>=1.1.0 in /home/andressa.amaral/.local/lib/python3.8/site-packages (from tensorflow-gpu) (2.1.0)\n",
      "Requirement already satisfied: astunparse>=1.6.0 in /home/andressa.amaral/.local/lib/python3.8/site-packages (from tensorflow-gpu) (1.6.3)\n",
      "Requirement already satisfied: wheel<1.0,>=0.23.0 in /usr/lib/python3/dist-packages (from astunparse>=1.6.0->tensorflow-gpu) (0.30.0)\n",
      "Requirement already satisfied: tensorboard-plugin-wit>=1.6.0 in /home/andressa.amaral/.local/lib/python3.8/site-packages (from tensorboard<2.12,>=2.11->tensorflow-gpu) (1.8.1)\n",
      "Requirement already satisfied: requests<3,>=2.21.0 in /home/andressa.amaral/.local/lib/python3.8/site-packages (from tensorboard<2.12,>=2.11->tensorflow-gpu) (2.28.1)\n",
      "Requirement already satisfied: werkzeug>=1.0.1 in /home/andressa.amaral/.local/lib/python3.8/site-packages (from tensorboard<2.12,>=2.11->tensorflow-gpu) (2.2.2)\n",
      "Requirement already satisfied: google-auth-oauthlib<0.5,>=0.4.1 in /home/andressa.amaral/.local/lib/python3.8/site-packages (from tensorboard<2.12,>=2.11->tensorflow-gpu) (0.4.6)\n",
      "Requirement already satisfied: tensorboard-data-server<0.7.0,>=0.6.0 in /home/andressa.amaral/.local/lib/python3.8/site-packages (from tensorboard<2.12,>=2.11->tensorflow-gpu) (0.6.1)\n",
      "Requirement already satisfied: google-auth<3,>=1.6.3 in /home/andressa.amaral/.local/lib/python3.8/site-packages (from tensorboard<2.12,>=2.11->tensorflow-gpu) (2.14.1)\n",
      "Requirement already satisfied: markdown>=2.6.8 in /home/andressa.amaral/.local/lib/python3.8/site-packages (from tensorboard<2.12,>=2.11->tensorflow-gpu) (3.4.1)\n",
      "Requirement already satisfied: pyparsing!=3.0.5,>=2.0.2 in /home/andressa.amaral/.local/lib/python3.8/site-packages (from packaging->tensorflow-gpu) (3.0.9)\n",
      "Requirement already satisfied: pyasn1-modules>=0.2.1 in /home/andressa.amaral/.local/lib/python3.8/site-packages (from google-auth<3,>=1.6.3->tensorboard<2.12,>=2.11->tensorflow-gpu) (0.2.8)\n",
      "Requirement already satisfied: cachetools<6.0,>=2.0.0 in /home/andressa.amaral/.local/lib/python3.8/site-packages (from google-auth<3,>=1.6.3->tensorboard<2.12,>=2.11->tensorflow-gpu) (5.2.0)\n",
      "Requirement already satisfied: rsa<5,>=3.1.4 in /home/andressa.amaral/.local/lib/python3.8/site-packages (from google-auth<3,>=1.6.3->tensorboard<2.12,>=2.11->tensorflow-gpu) (4.9)\n",
      "Requirement already satisfied: requests-oauthlib>=0.7.0 in /home/andressa.amaral/.local/lib/python3.8/site-packages (from google-auth-oauthlib<0.5,>=0.4.1->tensorboard<2.12,>=2.11->tensorflow-gpu) (1.3.1)\n",
      "Requirement already satisfied: importlib-metadata>=4.4 in /home/andressa.amaral/.local/lib/python3.8/site-packages (from markdown>=2.6.8->tensorboard<2.12,>=2.11->tensorflow-gpu) (5.0.0)\n",
      "Requirement already satisfied: idna<4,>=2.5 in /home/andressa.amaral/.local/lib/python3.8/site-packages (from requests<3,>=2.21.0->tensorboard<2.12,>=2.11->tensorflow-gpu) (3.4)\n",
      "Requirement already satisfied: urllib3<1.27,>=1.21.1 in /usr/lib/python3/dist-packages (from requests<3,>=2.21.0->tensorboard<2.12,>=2.11->tensorflow-gpu) (1.22)\n",
      "Requirement already satisfied: charset-normalizer<3,>=2 in /home/andressa.amaral/.local/lib/python3.8/site-packages (from requests<3,>=2.21.0->tensorboard<2.12,>=2.11->tensorflow-gpu) (2.1.1)\n",
      "Requirement already satisfied: certifi>=2017.4.17 in /usr/lib/python3/dist-packages (from requests<3,>=2.21.0->tensorboard<2.12,>=2.11->tensorflow-gpu) (2018.1.18)\n",
      "Requirement already satisfied: MarkupSafe>=2.1.1 in /home/andressa.amaral/.local/lib/python3.8/site-packages (from werkzeug>=1.0.1->tensorboard<2.12,>=2.11->tensorflow-gpu) (2.1.1)\n",
      "Requirement already satisfied: zipp>=0.5 in /home/andressa.amaral/.local/lib/python3.8/site-packages (from importlib-metadata>=4.4->markdown>=2.6.8->tensorboard<2.12,>=2.11->tensorflow-gpu) (3.10.0)\n",
      "Requirement already satisfied: pyasn1<0.5.0,>=0.4.6 in /home/andressa.amaral/.local/lib/python3.8/site-packages (from pyasn1-modules>=0.2.1->google-auth<3,>=1.6.3->tensorboard<2.12,>=2.11->tensorflow-gpu) (0.4.8)\n",
      "Requirement already satisfied: oauthlib>=3.0.0 in /home/andressa.amaral/.local/lib/python3.8/site-packages (from requests-oauthlib>=0.7.0->google-auth-oauthlib<0.5,>=0.4.1->tensorboard<2.12,>=2.11->tensorflow-gpu) (3.2.2)\n"
     ]
    }
   ],
   "source": [
    "import sys\n",
    "!pip3 install matplotlib\n",
    "!pip3 install pandas\n",
    "!pip3 install seaborn\n",
    "!pip3 install --upgrade tensorflow-gpu\n",
    "!pip3 install import-ipynb\n",
    "!pip3 install cuda-python\n",
    "!pip3 install -U scikit-learn\n",
    "!pip3 install bayesian-optimization\n",
    "\n",
    "import os\n",
    "os.environ['TF_CPP_MIN_LOG_LEVEL'] = '3' \n",
    "\n",
    "import matplotlib.pyplot as plt\n",
    "import seaborn as sns\n",
    "import numpy as np\n",
    "import pandas as pd\n",
    "import glob\n",
    "import math\n",
    "import pickle\n",
    "import time\n",
    "\n",
    "import import_ipynb\n",
    "import AttackClassificationModel\n",
    "\n",
    "import tensorflow as tf\n",
    "tf.compat.v1.disable_eager_execution()\n",
    "from tensorflow.keras.optimizers.legacy import Nadam\n",
    "from tensorflow.keras.callbacks import ReduceLROnPlateau\n",
    "\n",
    "from sklearn.pipeline import Pipeline\n",
    "from sklearn.preprocessing import MinMaxScaler\n",
    "from sklearn.metrics import confusion_matrix\n",
    "from sklearn.neighbors import KNeighborsClassifier\n",
    "from sklearn.naive_bayes import GaussianNB\n",
    "\n",
    "from bayes_opt import BayesianOptimization\n",
    "\n",
    "%matplotlib inline"
   ]
  },
  {
   "cell_type": "code",
   "execution_count": 2,
   "id": "edea824f",
   "metadata": {},
   "outputs": [],
   "source": [
    "gpu_options = tf.compat.v1.GPUOptions(per_process_gpu_memory_fraction = 0.333)\n",
    "sess = tf.compat.v1.Session(config = tf.compat.v1.ConfigProto(gpu_options = gpu_options))"
   ]
  },
  {
   "cell_type": "markdown",
   "id": "95fd928e",
   "metadata": {},
   "source": [
    "# Data Pre-Processing"
   ]
  },
  {
   "cell_type": "code",
   "execution_count": 3,
   "id": "9b93bc4b",
   "metadata": {},
   "outputs": [],
   "source": [
    "df_traffic = AttackClassificationModel.get_files(\"../../botiot\")\n",
    "\n",
    "# Get DDoS\n",
    "df_ddos, label_ddos = AttackClassificationModel.get_attack(0, df_traffic)\n",
    "\n",
    "# Get DoS\n",
    "df_dos, label_dos = AttackClassificationModel.get_attack(1, df_traffic)\n",
    "\n",
    "# Get Reconaissance\n",
    "df_rec, label_rec = AttackClassificationModel.get_attack(2, df_traffic)\n",
    "\n",
    "# Get Theft\n",
    "df_theft, label_theft = AttackClassificationModel.get_attack(3, df_traffic)\n",
    "#df_theft = np.concatenate([df_theft, df_theft, df_theft, df_theft, df_theft, df_theft, df_theft,\n",
    "#                           df_theft, df_theft, df_theft, df_theft, df_theft, df_theft, df_theft])\n",
    "#label_theft = np.concatenate([label_theft, label_theft, label_theft, label_theft, label_theft, label_theft, label_theft,\n",
    "#                              label_theft, label_theft, label_theft, label_theft, label_theft, label_theft, label_theft])"
   ]
  },
  {
   "cell_type": "code",
   "execution_count": 4,
   "id": "013fc29e",
   "metadata": {},
   "outputs": [],
   "source": [
    "# Normalize with the min-max scaler\n",
    "scaler = MinMaxScaler()\n",
    "df_ddos_norm = scaler.fit_transform(df_ddos)\n",
    "df_dos_norm = scaler.fit_transform(df_dos)\n",
    "df_rec_norm = scaler.fit_transform(df_rec)\n",
    "df_theft_norm = scaler.fit_transform(df_theft)"
   ]
  },
  {
   "cell_type": "markdown",
   "id": "4c24877a",
   "metadata": {},
   "source": [
    "# Sets"
   ]
  },
  {
   "cell_type": "code",
   "execution_count": 5,
   "id": "e1a6eb55",
   "metadata": {},
   "outputs": [
    {
     "name": "stderr",
     "output_type": "stream",
     "text": [
      "/tmp/ipykernel_15969/4009843007.py:15: FutureWarning: The behavior of `series[i:j]` with an integer-dtype index is deprecated. In a future version, this will be treated as *label-based* indexing, consistent with e.g. `series[i]` lookups. To retain the old behavior, use `series.iloc[i:j]`. To get the future behavior, use `series.loc[i:j]`.\n",
      "  Y_train = np.concatenate([label_ddos[:len_ddos_train], label_dos[:len_dos_train], label_rec[:len_rec_train], label_theft[:len_theft_train]])\n"
     ]
    }
   ],
   "source": [
    "# Train\n",
    "len_ddos_train = int(0.7 * len(df_ddos_norm))\n",
    "X_ddos_train = df_ddos_norm[:len_ddos_train]\n",
    "\n",
    "len_dos_train = int(0.7 * len(df_dos_norm))\n",
    "X_dos_train = df_dos_norm[:len_dos_train]\n",
    "\n",
    "len_rec_train = int(0.7 * len(df_rec_norm))\n",
    "X_rec_train = df_rec_norm[:len_rec_train]\n",
    "\n",
    "len_theft_train = int(0.7 * len(df_theft_norm))\n",
    "X_theft_train = df_theft_norm[:len_theft_train]\n",
    "\n",
    "X_train = np.concatenate([X_ddos_train, X_dos_train, X_rec_train, X_theft_train])\n",
    "Y_train = np.concatenate([label_ddos[:len_ddos_train], label_dos[:len_dos_train], label_rec[:len_rec_train], label_theft[:len_theft_train]])"
   ]
  },
  {
   "cell_type": "code",
   "execution_count": 6,
   "id": "dd5d8006",
   "metadata": {},
   "outputs": [
    {
     "name": "stderr",
     "output_type": "stream",
     "text": [
      "/tmp/ipykernel_15969/623701611.py:15: FutureWarning: The behavior of `series[i:j]` with an integer-dtype index is deprecated. In a future version, this will be treated as *label-based* indexing, consistent with e.g. `series[i]` lookups. To retain the old behavior, use `series.iloc[i:j]`. To get the future behavior, use `series.loc[i:j]`.\n",
      "  Y_test = np.concatenate([label_ddos[len_ddos_train : len_ddos_test], label_dos[len_dos_train : len_dos_test], label_rec[len_rec_train : len_rec_test], label_theft[len_theft_train : len_theft_test]])\n"
     ]
    }
   ],
   "source": [
    "# Test\n",
    "len_ddos_test = len_ddos_train + int(0.15 * len(df_ddos_norm))\n",
    "X_ddos_test = df_ddos_norm[len_ddos_train : len_ddos_test]\n",
    "\n",
    "len_dos_test = len_ddos_train + int(0.15 * len(df_dos_norm))\n",
    "X_dos_test = df_dos_norm[len_dos_train : len_dos_test]\n",
    "\n",
    "len_rec_test = len_rec_train + int(0.15 * len(df_rec_norm))\n",
    "X_rec_test = df_rec_norm[len_rec_train : len_rec_test]\n",
    "\n",
    "len_theft_test = len_theft_train + int(0.15 * len(df_theft_norm))\n",
    "X_theft_test = df_theft_norm[len_theft_train : len_theft_test]\n",
    "\n",
    "X_test = np.concatenate([X_ddos_test, X_dos_test, X_rec_test, X_theft_test])\n",
    "Y_test = np.concatenate([label_ddos[len_ddos_train : len_ddos_test], label_dos[len_dos_train : len_dos_test], label_rec[len_rec_train : len_rec_test], label_theft[len_theft_train : len_theft_test]])"
   ]
  },
  {
   "cell_type": "code",
   "execution_count": 7,
   "id": "9db62c70",
   "metadata": {},
   "outputs": [
    {
     "name": "stderr",
     "output_type": "stream",
     "text": [
      "/tmp/ipykernel_15969/1841741387.py:8: FutureWarning: The behavior of `series[i:j]` with an integer-dtype index is deprecated. In a future version, this will be treated as *label-based* indexing, consistent with e.g. `series[i]` lookups. To retain the old behavior, use `series.iloc[i:j]`. To get the future behavior, use `series.loc[i:j]`.\n",
      "  Y_val = np.concatenate([label_ddos[len_ddos_test:], label_dos[len_dos_test:], label_rec[len_rec_test:], label_theft[len_theft_test:]])\n"
     ]
    }
   ],
   "source": [
    "# Validation\n",
    "X_ddos_val = df_ddos_norm[len_ddos_test:]\n",
    "X_dos_val = df_dos_norm[len_dos_test:]\n",
    "X_rec_val = df_rec_norm[len_rec_test:]\n",
    "X_theft_val = df_theft_norm[len_theft_test:]\n",
    "\n",
    "X_val = np.concatenate([X_ddos_val, X_dos_val, X_rec_val, X_theft_val])\n",
    "Y_val = np.concatenate([label_ddos[len_ddos_test:], label_dos[len_dos_test:], label_rec[len_rec_test:], label_theft[len_theft_test:]])"
   ]
  },
  {
   "cell_type": "code",
   "execution_count": 8,
   "id": "7beac3ab",
   "metadata": {},
   "outputs": [],
   "source": [
    "X_train_CNN = np.reshape(X_train, (X_train.shape[0], X_train.shape[1], 1))\n",
    "X_test_CNN = np.reshape(X_test, (X_test.shape[0], X_test.shape[1], 1))\n",
    "X_val_CNN = np.reshape(X_val, (X_val.shape[0], X_val.shape[1], 1))\n",
    "\n",
    "samples, feature, depth = X_train_CNN.shape"
   ]
  },
  {
   "cell_type": "markdown",
   "id": "bb0fed11",
   "metadata": {},
   "source": [
    "# Model"
   ]
  },
  {
   "cell_type": "code",
   "execution_count": 9,
   "id": "9e3e83e4",
   "metadata": {},
   "outputs": [],
   "source": [
    "# Initial values\n",
    "batch_size = 50\n",
    "number_features = 35\n",
    "learning_rate = 0.008\n",
    "epochs = 5\n",
    "\n",
    "# Dictionary\n",
    "dict_params = { 'learning_rate': learning_rate, 'batch_size': round(batch_size), 'epochs': round(epochs) }\n",
    "pbounds = { 'learning_rate': (0.000001, 0.001), 'batch_size': (10, 30), 'epochs': (1, 50) }"
   ]
  },
  {
   "cell_type": "code",
   "execution_count": 10,
   "id": "bf3635d4",
   "metadata": {},
   "outputs": [],
   "source": [
    "cnn_model = AttackClassificationModel.CNN(feature, depth, 4)\n",
    "reduce_lr = ReduceLROnPlateau(moniter = 'val_loss', factor = 0.1, patience = 10)"
   ]
  },
  {
   "cell_type": "markdown",
   "id": "5ae1189e",
   "metadata": {},
   "source": [
    "# Hyperparameter Optimization"
   ]
  },
  {
   "cell_type": "code",
   "execution_count": 11,
   "id": "69d46a9b",
   "metadata": {},
   "outputs": [],
   "source": [
    "def maximize_training(X_train = X_train_CNN,\n",
    "                      Y_train = Y_train, \n",
    "                      X_val = X_val_CNN, \n",
    "                      Y_val = Y_val, \n",
    "                      X_test = X_test_CNN, \n",
    "                      Y_test = Y_test, \n",
    "                      learning_rate = learning_rate, \n",
    "                      epochs = epochs, \n",
    "                      batch_size = batch_size,\n",
    "                      reduce_lr = reduce_lr):\n",
    "    \n",
    "    nadam = Nadam(learning_rate = dict_params['learning_rate'], beta_1 = 0.9, beta_2 = 0.999, epsilon = 1e-08, schedule_decay = 0.004)\n",
    "    model = AttackClassificationModel.CNN(feature, depth, 4)\n",
    "    model.compile(loss = \"sparse_categorical_crossentropy\", optimizer = \"nadam\", metrics = [\"accuracy\"])\n",
    "    \n",
    "    history = model.fit(X_train, Y_train, \n",
    "                        epochs = dict_params['epochs'], \n",
    "                        batch_size = dict_params['batch_size'], \n",
    "                        validation_data = (X_val, Y_val),\n",
    "                        callbacks = [reduce_lr],\n",
    "                        verbose = 0)\n",
    "\n",
    "    scores = model.evaluate(X_test, Y_test)\n",
    "    return scores[1]"
   ]
  },
  {
   "cell_type": "code",
   "execution_count": 12,
   "id": "bcbb0ea9",
   "metadata": {},
   "outputs": [
    {
     "data": {
      "text/plain": [
       "'\\n# Apply Bayesian optimization to choose the best hyperparameters\\n\\nopt = BayesianOptimization(f = maximize_training,\\n                           pbounds = pbounds,\\n                           verbose = 2, \\n                           random_state = 1)\\n\\nopt_start = time.time()\\n\\nopt.maximize(init_points = 5, n_iter = 5)\\n\\nopt_end = time.time()\\nopt_time = opt_end - opt_start\\nprint(\"Optimization time:\", opt_time)\\n\\nlearning_rate = opt.max[\\'params\\'][\\'learning_rate\\']\\nepochs = round(opt.max[\\'params\\'][\\'epochs\\'])\\nbatch_size = round(opt.max[\\'params\\'][\\'batch_size\\'])\\n'"
      ]
     },
     "execution_count": 12,
     "metadata": {},
     "output_type": "execute_result"
    }
   ],
   "source": [
    "'''\n",
    "# Apply Bayesian optimization to choose the best hyperparameters\n",
    "\n",
    "opt = BayesianOptimization(f = maximize_training,\n",
    "                           pbounds = pbounds,\n",
    "                           verbose = 2, \n",
    "                           random_state = 1)\n",
    "\n",
    "opt_start = time.time()\n",
    "\n",
    "opt.maximize(init_points = 5, n_iter = 5)\n",
    "\n",
    "opt_end = time.time()\n",
    "opt_time = opt_end - opt_start\n",
    "print(\"Optimization time:\", opt_time)\n",
    "\n",
    "learning_rate = opt.max['params']['learning_rate']\n",
    "epochs = round(opt.max['params']['epochs'])\n",
    "batch_size = round(opt.max['params']['batch_size'])\n",
    "'''"
   ]
  },
  {
   "cell_type": "markdown",
   "id": "57bf9934",
   "metadata": {},
   "source": [
    "# Classify Attacks"
   ]
  },
  {
   "cell_type": "code",
   "execution_count": 13,
   "id": "36416416",
   "metadata": {},
   "outputs": [],
   "source": [
    "# Training step with the best hyperparameters\n",
    "learning_rate = 0.0009473561476260903\n",
    "epochs = 9\n",
    "batch_size = 19\n",
    "opt_time = 10794.952757835388"
   ]
  },
  {
   "cell_type": "code",
   "execution_count": 14,
   "id": "962212a5",
   "metadata": {},
   "outputs": [
    {
     "name": "stdout",
     "output_type": "stream",
     "text": [
      "Iteration 0\n",
      "Train on 2567630 samples, validate on 356756 samples\n",
      "Epoch 1/9\n",
      "2567603/2567630 [============================>.] - ETA: 0s - loss: 0.0011 - accuracy: 0.9998"
     ]
    },
    {
     "name": "stderr",
     "output_type": "stream",
     "text": [
      "/home/andressa.amaral/.local/lib/python3.8/site-packages/keras/engine/training_v1.py:2333: UserWarning: `Model.state_updates` will be removed in a future version. This property should not be used in TensorFlow 2.0, as `updates` are applied automatically.\n",
      "  updates = self.state_updates\n"
     ]
    },
    {
     "name": "stdout",
     "output_type": "stream",
     "text": [
      "2567630/2567630 [==============================] - 728s 283us/sample - loss: 0.0011 - accuracy: 0.9998 - val_loss: 0.0019 - val_accuracy: 0.9998 - lr: 0.0010\n",
      "Epoch 2/9\n",
      "2567630/2567630 [==============================] - 723s 282us/sample - loss: 4.4463e-04 - accuracy: 1.0000 - val_loss: 2.0594e-04 - val_accuracy: 1.0000 - lr: 0.0010\n",
      "Epoch 3/9\n",
      "2567630/2567630 [==============================] - 722s 281us/sample - loss: 3.2883e-04 - accuracy: 1.0000 - val_loss: 8.9627e-05 - val_accuracy: 1.0000 - lr: 0.0010\n",
      "Epoch 4/9\n",
      "2567630/2567630 [==============================] - 724s 282us/sample - loss: 4.0278e-04 - accuracy: 1.0000 - val_loss: 1.1935e-04 - val_accuracy: 1.0000 - lr: 0.0010\n",
      "Epoch 5/9\n",
      "2567630/2567630 [==============================] - 721s 281us/sample - loss: 2.9998e-04 - accuracy: 1.0000 - val_loss: 9.4550e-04 - val_accuracy: 1.0000 - lr: 0.0010\n",
      "Epoch 6/9\n",
      "2567630/2567630 [==============================] - 721s 281us/sample - loss: 4.2474e-04 - accuracy: 1.0000 - val_loss: 4.4927e-05 - val_accuracy: 1.0000 - lr: 0.0010\n",
      "Epoch 7/9\n",
      "2567630/2567630 [==============================] - 720s 280us/sample - loss: 1.1961e-04 - accuracy: 1.0000 - val_loss: 1.5392e-04 - val_accuracy: 1.0000 - lr: 0.0010\n",
      "Epoch 8/9\n",
      "2567630/2567630 [==============================] - 720s 280us/sample - loss: 1.2296e-04 - accuracy: 1.0000 - val_loss: 9.1892e-04 - val_accuracy: 1.0000 - lr: 0.0010\n",
      "Epoch 9/9\n",
      "2567630/2567630 [==============================] - 718s 280us/sample - loss: 1.5543e-04 - accuracy: 1.0000 - val_loss: 2.8168e-05 - val_accuracy: 1.0000 - lr: 0.0010\n",
      "Training time: 6498.129759788513\n"
     ]
    },
    {
     "name": "stderr",
     "output_type": "stream",
     "text": [
      "/home/andressa.amaral/.local/lib/python3.8/site-packages/keras/engine/training_v1.py:2357: UserWarning: `Model.state_updates` will be removed in a future version. This property should not be used in TensorFlow 2.0, as `updates` are applied automatically.\n",
      "  updates=self.state_updates,\n"
     ]
    },
    {
     "name": "stdout",
     "output_type": "stream",
     "text": [
      "Testing time: 48.919934034347534\n",
      "\n"
     ]
    }
   ],
   "source": [
    "nadam = Nadam(learning_rate = learning_rate, beta_1 = 0.9, beta_2 = 0.999, epsilon = 1e-08, schedule_decay = 0.004)\n",
    "cnn_model.compile(loss = \"sparse_categorical_crossentropy\", optimizer = \"nadam\", metrics = [\"accuracy\"])\n",
    "\n",
    "for i in range(1):\n",
    "    print(\"Iteration \" + str(i))\n",
    "    \n",
    "    # Train\n",
    "    cnn_model, train_time = AttackClassificationModel.train(X_train_CNN, Y_train, X_val_CNN, Y_val, epochs, batch_size, reduce_lr, cnn_model)\n",
    "    \n",
    "    # Test\n",
    "    Y_pred, test_time = AttackClassificationModel.test(X_test_CNN, cnn_model)\n",
    "    \n",
    "    # Multi classification metrics\n",
    "    labels = ['DDoS', 'DoS', 'Reconaissance', 'Theft']\n",
    "    acc, f1, pre, rec = AttackClassificationModel.get_scores(Y_test, Y_pred, labels)\n",
    "    \n",
    "    # Print results\n",
    "    AttackClassificationModel.print_results(learning_rate,\n",
    "                                            epochs,\n",
    "                                            batch_size,\n",
    "                                            X_train,\n",
    "                                            X_val,\n",
    "                                            X_test,\n",
    "                                            opt_time,\n",
    "                                            train_time,\n",
    "                                            test_time,\n",
    "                                            acc,\n",
    "                                            f1,\n",
    "                                            pre,\n",
    "                                            rec,\n",
    "                                            Y_test,\n",
    "                                            Y_pred,\n",
    "                                            \"CNN\",\n",
    "                                            \"Results/botiot.txt\")\n",
    "    \n",
    "    print(\"\")"
   ]
  },
  {
   "cell_type": "code",
   "execution_count": 15,
   "id": "2f96420f",
   "metadata": {},
   "outputs": [
    {
     "data": {
      "image/png": "[encoded data removed]",
      "text/plain": [
       "<Figure size 400x400 with 1 Axes>"
      ]
     },
     "metadata": {},
     "output_type": "display_data"
    }
   ],
   "source": [
    "conf_matrix = confusion_matrix(Y_test, Y_pred)\n",
    "\n",
    "fig, ax = plt.subplots(figsize = (4, 4))\n",
    "ax.matshow(conf_matrix, cmap = plt.cm.Blues, alpha = 0.3)\n",
    "for i in range(conf_matrix.shape[0]):\n",
    "    for j in range(conf_matrix.shape[1]):\n",
    "        ax.text(x = j, y = i,s = conf_matrix[i, j], va = 'center', ha = 'center', size = 'large')\n",
    " \n",
    "plt.xlabel('Predictions', fontsize=12)\n",
    "plt.ylabel('Actuals', fontsize=12)\n",
    "plt.title('Confusion Matrix', fontsize=14)\n",
    "plt.savefig(\"Results/Confusion Matrix/Botiot CNN\")\n",
    "plt.show()"
   ]
  },
  {
   "cell_type": "markdown",
   "id": "90cd1483",
   "metadata": {},
   "source": [
    "# NB Model"
   ]
  },
  {
   "cell_type": "code",
   "execution_count": 16,
   "id": "6a1ba710",
   "metadata": {},
   "outputs": [
    {
     "name": "stdout",
     "output_type": "stream",
     "text": [
      "Iteration 0\n",
      "Testing time: 0.600801944732666\n",
      "\n"
     ]
    }
   ],
   "source": [
    "# Model\n",
    "nb_model = GaussianNB()\n",
    "\n",
    "for i in range(1):\n",
    "    print(\"Iteration \" + str(i))\n",
    "    \n",
    "    # Train\n",
    "    nb_model, train_time = AttackClassificationModel.train_nb_knn(X_train, Y_train, nb_model)\n",
    "    \n",
    "    # Test\n",
    "    Y_pred, test_time = AttackClassificationModel.test_nb_knn(X_test, nb_model)\n",
    "    \n",
    "    # Multi classification metrics\n",
    "    labels = ['DDoS', 'DoS', 'Reconaissance', 'Theft']\n",
    "    acc, f1, pre, rec = AttackClassificationModel.get_scores(Y_test, Y_pred, labels)\n",
    "    \n",
    "    # Print results\n",
    "    AttackClassificationModel.print_results(learning_rate,\n",
    "                                            epochs,\n",
    "                                            batch_size,\n",
    "                                            X_train,\n",
    "                                            X_val,\n",
    "                                            X_test,\n",
    "                                            opt_time,\n",
    "                                            train_time,\n",
    "                                            test_time,\n",
    "                                            acc,\n",
    "                                            f1,\n",
    "                                            pre,\n",
    "                                            rec,\n",
    "                                            Y_test,\n",
    "                                            Y_pred,\n",
    "                                            \"NB\",\n",
    "                                            \"Results/botiot.txt\")\n",
    "    \n",
    "    print(\"\")"
   ]
  },
  {
   "cell_type": "code",
   "execution_count": 17,
   "id": "fa85b22c",
   "metadata": {},
   "outputs": [
    {
     "data": {
      "image/png": "[encoded data removed]",
      "text/plain": [
       "<Figure size 400x400 with 1 Axes>"
      ]
     },
     "metadata": {},
     "output_type": "display_data"
    }
   ],
   "source": [
    "conf_matrix = confusion_matrix(Y_test, Y_pred)\n",
    "\n",
    "fig, ax = plt.subplots(figsize = (4, 4))\n",
    "ax.matshow(conf_matrix, cmap = plt.cm.Blues, alpha = 0.3)\n",
    "for i in range(conf_matrix.shape[0]):\n",
    "    for j in range(conf_matrix.shape[1]):\n",
    "        ax.text(x = j, y = i,s = conf_matrix[i, j], va = 'center', ha = 'center', size = 'large')\n",
    " \n",
    "plt.xlabel('Predictions', fontsize=12)\n",
    "plt.ylabel('Actuals', fontsize=12)\n",
    "plt.title('Confusion Matrix', fontsize=14)\n",
    "plt.savefig(\"Results/Confusion Matrix/Botiot NB\")\n",
    "plt.show()"
   ]
  },
  {
   "cell_type": "markdown",
   "id": "857f74c5",
   "metadata": {},
   "source": [
    "# KNN Model"
   ]
  },
  {
   "cell_type": "code",
   "execution_count": 18,
   "id": "1147810d",
   "metadata": {},
   "outputs": [
    {
     "name": "stdout",
     "output_type": "stream",
     "text": [
      "Iteration 0\n",
      "Testing time: 798.4920859336853\n",
      "\n"
     ]
    }
   ],
   "source": [
    "# Model\n",
    "knn_model = KNeighborsClassifier(n_neighbors = 50)\n",
    "\n",
    "for i in range(1):\n",
    "    print(\"Iteration \" + str(i))\n",
    "    \n",
    "    # Train\n",
    "    knn_model, train_time = AttackClassificationModel.train_nb_knn(X_train, Y_train, knn_model)\n",
    "    \n",
    "    # Test\n",
    "    Y_pred, test_time = AttackClassificationModel.test_nb_knn(X_test, knn_model)\n",
    "    \n",
    "    # Multi classification metrics\n",
    "    labels = ['DDoS', 'DoS', 'Reconaissance', 'Theft']\n",
    "    acc, f1, pre, rec = AttackClassificationModel.get_scores(Y_test, Y_pred, labels)\n",
    "    \n",
    "    # Print results\n",
    "    AttackClassificationModel.print_results(learning_rate,\n",
    "                                            epochs,\n",
    "                                            batch_size,\n",
    "                                            X_train,\n",
    "                                            X_val,\n",
    "                                            X_test,\n",
    "                                            opt_time,\n",
    "                                            train_time,\n",
    "                                            test_time,\n",
    "                                            acc,\n",
    "                                            f1,\n",
    "                                            pre,\n",
    "                                            rec,\n",
    "                                            Y_test,\n",
    "                                            Y_pred,\n",
    "                                            \"KNN\",\n",
    "                                            \"Results/botiot.txt\")\n",
    "    \n",
    "    print(\"\")"
   ]
  },
  {
   "cell_type": "code",
   "execution_count": 19,
   "id": "409bfe21",
   "metadata": {},
   "outputs": [
    {
     "data": {
      "image/png": "[encoded data removed]",
      "text/plain": [
       "<Figure size 400x400 with 1 Axes>"
      ]
     },
     "metadata": {},
     "output_type": "display_data"
    }
   ],
   "source": [
    "conf_matrix = confusion_matrix(Y_test, Y_pred)\n",
    "\n",
    "fig, ax = plt.subplots(figsize = (4, 4))\n",
    "ax.matshow(conf_matrix, cmap = plt.cm.Blues, alpha = 0.3)\n",
    "for i in range(conf_matrix.shape[0]):\n",
    "    for j in range(conf_matrix.shape[1]):\n",
    "        ax.text(x = j, y = i,s = conf_matrix[i, j], va = 'center', ha = 'center', size = 'large')\n",
    " \n",
    "plt.xlabel('Predictions', fontsize=12)\n",
    "plt.ylabel('Actuals', fontsize=12)\n",
    "plt.title('Confusion Matrix', fontsize=14)\n",
    "plt.savefig(\"Results/Confusion Matrix/Botiot KNN\")\n",
    "plt.show()"
   ]
  }
 ],
 "metadata": {
  "kernelspec": {
   "display_name": "Python 3 (ipykernel)",
   "language": "python",
   "name": "python3"
  },
  "language_info": {
   "codemirror_mode": {
    "name": "ipython",
    "version": 3
   },
   "file_extension": ".py",
   "mimetype": "text/x-python",
   "name": "python",
   "nbconvert_exporter": "python",
   "pygments_lexer": "ipython3",
   "version": "3.8.0"
  }
 },
 "nbformat": 4,
 "nbformat_minor": 5
}
