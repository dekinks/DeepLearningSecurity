{
 "cells": [
  {
   "cell_type": "code",
   "execution_count": 1,
   "id": "491647a8",
   "metadata": {},
   "outputs": [
    {
     "name": "stdout",
     "output_type": "stream",
     "text": [
      "Defaulting to user installation because normal site-packages is not writeable\n",
      "Requirement already satisfied: pandas in /home/andressa.amaral/.local/lib/python3.7/site-packages (1.3.5)\n",
      "Requirement already satisfied: pytz>=2017.3 in /home/andressa.amaral/.local/lib/python3.7/site-packages (from pandas) (2022.1)\n",
      "Requirement already satisfied: numpy>=1.17.3 in /home/andressa.amaral/.local/lib/python3.7/site-packages (from pandas) (1.21.5)\n",
      "Requirement already satisfied: python-dateutil>=2.7.3 in /home/andressa.amaral/.local/lib/python3.7/site-packages (from pandas) (2.8.2)\n",
      "Requirement already satisfied: six>=1.5 in /home/andressa.amaral/.local/lib/python3.7/site-packages (from python-dateutil>=2.7.3->pandas) (1.16.0)\n",
      "Defaulting to user installation because normal site-packages is not writeable\n",
      "Requirement already satisfied: seaborn in /home/andressa.amaral/.local/lib/python3.7/site-packages (0.11.2)\n",
      "Requirement already satisfied: numpy>=1.15 in /home/andressa.amaral/.local/lib/python3.7/site-packages (from seaborn) (1.21.5)\n",
      "Requirement already satisfied: scipy>=1.0 in /home/andressa.amaral/.local/lib/python3.7/site-packages (from seaborn) (1.7.3)\n",
      "Requirement already satisfied: pandas>=0.23 in /home/andressa.amaral/.local/lib/python3.7/site-packages (from seaborn) (1.3.5)\n",
      "Requirement already satisfied: matplotlib>=2.2 in /home/andressa.amaral/.local/lib/python3.7/site-packages (from seaborn) (3.5.1)\n",
      "Requirement already satisfied: fonttools>=4.22.0 in /home/andressa.amaral/.local/lib/python3.7/site-packages (from matplotlib>=2.2->seaborn) (4.31.1)\n",
      "Requirement already satisfied: kiwisolver>=1.0.1 in /home/andressa.amaral/.local/lib/python3.7/site-packages (from matplotlib>=2.2->seaborn) (1.4.0)\n",
      "Requirement already satisfied: python-dateutil>=2.7 in /home/andressa.amaral/.local/lib/python3.7/site-packages (from matplotlib>=2.2->seaborn) (2.8.2)\n",
      "Requirement already satisfied: cycler>=0.10 in /home/andressa.amaral/.local/lib/python3.7/site-packages (from matplotlib>=2.2->seaborn) (0.11.0)\n",
      "Requirement already satisfied: packaging>=20.0 in /home/andressa.amaral/.local/lib/python3.7/site-packages (from matplotlib>=2.2->seaborn) (21.3)\n",
      "Requirement already satisfied: pyparsing>=2.2.1 in /home/andressa.amaral/.local/lib/python3.7/site-packages (from matplotlib>=2.2->seaborn) (3.0.7)\n",
      "Requirement already satisfied: pillow>=6.2.0 in /home/andressa.amaral/.local/lib/python3.7/site-packages (from matplotlib>=2.2->seaborn) (9.0.1)\n",
      "Requirement already satisfied: pytz>=2017.3 in /home/andressa.amaral/.local/lib/python3.7/site-packages (from pandas>=0.23->seaborn) (2022.1)\n",
      "Requirement already satisfied: typing-extensions in /home/andressa.amaral/.local/lib/python3.7/site-packages (from kiwisolver>=1.0.1->matplotlib>=2.2->seaborn) (4.1.1)\n",
      "Requirement already satisfied: six>=1.5 in /home/andressa.amaral/.local/lib/python3.7/site-packages (from python-dateutil>=2.7->matplotlib>=2.2->seaborn) (1.16.0)\n",
      "Defaulting to user installation because normal site-packages is not writeable\n",
      "Requirement already satisfied: tensorflow-gpu in /home/andressa.amaral/.local/lib/python3.7/site-packages (2.8.0)\n",
      "Requirement already satisfied: setuptools in /home/andressa.amaral/.local/lib/python3.7/site-packages (from tensorflow-gpu) (60.10.0)\n",
      "Requirement already satisfied: opt-einsum>=2.3.2 in /home/andressa.amaral/.local/lib/python3.7/site-packages (from tensorflow-gpu) (3.3.0)\n",
      "Requirement already satisfied: keras-preprocessing>=1.1.1 in /home/andressa.amaral/.local/lib/python3.7/site-packages (from tensorflow-gpu) (1.1.2)\n",
      "Requirement already satisfied: keras<2.9,>=2.8.0rc0 in /home/andressa.amaral/.local/lib/python3.7/site-packages (from tensorflow-gpu) (2.8.0)\n",
      "Requirement already satisfied: tf-estimator-nightly==2.8.0.dev2021122109 in /home/andressa.amaral/.local/lib/python3.7/site-packages (from tensorflow-gpu) (2.8.0.dev2021122109)\n",
      "Requirement already satisfied: wrapt>=1.11.0 in /home/andressa.amaral/.local/lib/python3.7/site-packages (from tensorflow-gpu) (1.14.0)\n",
      "Requirement already satisfied: protobuf>=3.9.2 in /home/andressa.amaral/.local/lib/python3.7/site-packages (from tensorflow-gpu) (3.19.4)\n",
      "Requirement already satisfied: flatbuffers>=1.12 in /home/andressa.amaral/.local/lib/python3.7/site-packages (from tensorflow-gpu) (2.0)\n",
      "Requirement already satisfied: absl-py>=0.4.0 in /home/andressa.amaral/.local/lib/python3.7/site-packages (from tensorflow-gpu) (1.0.0)\n",
      "Requirement already satisfied: tensorflow-io-gcs-filesystem>=0.23.1 in /home/andressa.amaral/.local/lib/python3.7/site-packages (from tensorflow-gpu) (0.24.0)\n",
      "Requirement already satisfied: libclang>=9.0.1 in /home/andressa.amaral/.local/lib/python3.7/site-packages (from tensorflow-gpu) (13.0.0)\n",
      "Requirement already satisfied: typing-extensions>=3.6.6 in /home/andressa.amaral/.local/lib/python3.7/site-packages (from tensorflow-gpu) (4.1.1)\n",
      "Requirement already satisfied: tensorboard<2.9,>=2.8 in /home/andressa.amaral/.local/lib/python3.7/site-packages (from tensorflow-gpu) (2.8.0)\n",
      "Requirement already satisfied: grpcio<2.0,>=1.24.3 in /home/andressa.amaral/.local/lib/python3.7/site-packages (from tensorflow-gpu) (1.44.0)\n",
      "Requirement already satisfied: six>=1.12.0 in /home/andressa.amaral/.local/lib/python3.7/site-packages (from tensorflow-gpu) (1.16.0)\n",
      "Requirement already satisfied: astunparse>=1.6.0 in /home/andressa.amaral/.local/lib/python3.7/site-packages (from tensorflow-gpu) (1.6.3)\n",
      "Requirement already satisfied: numpy>=1.20 in /home/andressa.amaral/.local/lib/python3.7/site-packages (from tensorflow-gpu) (1.21.5)\n",
      "Requirement already satisfied: gast>=0.2.1 in /home/andressa.amaral/.local/lib/python3.7/site-packages (from tensorflow-gpu) (0.5.3)\n",
      "Requirement already satisfied: termcolor>=1.1.0 in /home/andressa.amaral/.local/lib/python3.7/site-packages (from tensorflow-gpu) (1.1.0)\n",
      "Requirement already satisfied: google-pasta>=0.1.1 in /home/andressa.amaral/.local/lib/python3.7/site-packages (from tensorflow-gpu) (0.2.0)\n",
      "Requirement already satisfied: h5py>=2.9.0 in /home/andressa.amaral/.local/lib/python3.7/site-packages (from tensorflow-gpu) (3.6.0)\n",
      "Requirement already satisfied: wheel<1.0,>=0.23.0 in /usr/lib/python3/dist-packages (from astunparse>=1.6.0->tensorflow-gpu) (0.30.0)\n",
      "Requirement already satisfied: cached-property in /home/andressa.amaral/.local/lib/python3.7/site-packages (from h5py>=2.9.0->tensorflow-gpu) (1.5.2)\n",
      "Requirement already satisfied: tensorboard-data-server<0.7.0,>=0.6.0 in /home/andressa.amaral/.local/lib/python3.7/site-packages (from tensorboard<2.9,>=2.8->tensorflow-gpu) (0.6.1)\n",
      "Requirement already satisfied: markdown>=2.6.8 in /home/andressa.amaral/.local/lib/python3.7/site-packages (from tensorboard<2.9,>=2.8->tensorflow-gpu) (3.3.6)\n",
      "Requirement already satisfied: google-auth<3,>=1.6.3 in /home/andressa.amaral/.local/lib/python3.7/site-packages (from tensorboard<2.9,>=2.8->tensorflow-gpu) (2.6.2)\n",
      "Requirement already satisfied: google-auth-oauthlib<0.5,>=0.4.1 in /home/andressa.amaral/.local/lib/python3.7/site-packages (from tensorboard<2.9,>=2.8->tensorflow-gpu) (0.4.6)\n",
      "Requirement already satisfied: tensorboard-plugin-wit>=1.6.0 in /home/andressa.amaral/.local/lib/python3.7/site-packages (from tensorboard<2.9,>=2.8->tensorflow-gpu) (1.8.1)\n",
      "Requirement already satisfied: requests<3,>=2.21.0 in /home/andressa.amaral/.local/lib/python3.7/site-packages (from tensorboard<2.9,>=2.8->tensorflow-gpu) (2.27.1)\n",
      "Requirement already satisfied: werkzeug>=0.11.15 in /home/andressa.amaral/.local/lib/python3.7/site-packages (from tensorboard<2.9,>=2.8->tensorflow-gpu) (2.0.3)\n",
      "Requirement already satisfied: pyasn1-modules>=0.2.1 in /home/andressa.amaral/.local/lib/python3.7/site-packages (from google-auth<3,>=1.6.3->tensorboard<2.9,>=2.8->tensorflow-gpu) (0.2.8)\n",
      "Requirement already satisfied: cachetools<6.0,>=2.0.0 in /home/andressa.amaral/.local/lib/python3.7/site-packages (from google-auth<3,>=1.6.3->tensorboard<2.9,>=2.8->tensorflow-gpu) (5.0.0)\n",
      "Requirement already satisfied: rsa<5,>=3.1.4 in /home/andressa.amaral/.local/lib/python3.7/site-packages (from google-auth<3,>=1.6.3->tensorboard<2.9,>=2.8->tensorflow-gpu) (4.8)\n",
      "Requirement already satisfied: requests-oauthlib>=0.7.0 in /home/andressa.amaral/.local/lib/python3.7/site-packages (from google-auth-oauthlib<0.5,>=0.4.1->tensorboard<2.9,>=2.8->tensorflow-gpu) (1.3.1)\n",
      "Requirement already satisfied: importlib-metadata>=4.4 in /home/andressa.amaral/.local/lib/python3.7/site-packages (from markdown>=2.6.8->tensorboard<2.9,>=2.8->tensorflow-gpu) (4.11.3)\n"
     ]
    },
    {
     "name": "stdout",
     "output_type": "stream",
     "text": [
      "Requirement already satisfied: urllib3<1.27,>=1.21.1 in /usr/lib/python3/dist-packages (from requests<3,>=2.21.0->tensorboard<2.9,>=2.8->tensorflow-gpu) (1.22)\n",
      "Requirement already satisfied: certifi>=2017.4.17 in /usr/lib/python3/dist-packages (from requests<3,>=2.21.0->tensorboard<2.9,>=2.8->tensorflow-gpu) (2018.1.18)\n",
      "Requirement already satisfied: charset-normalizer~=2.0.0 in /home/andressa.amaral/.local/lib/python3.7/site-packages (from requests<3,>=2.21.0->tensorboard<2.9,>=2.8->tensorflow-gpu) (2.0.12)\n",
      "Requirement already satisfied: idna<4,>=2.5 in /usr/lib/python3/dist-packages (from requests<3,>=2.21.0->tensorboard<2.9,>=2.8->tensorflow-gpu) (2.6)\n",
      "Requirement already satisfied: zipp>=0.5 in /home/andressa.amaral/.local/lib/python3.7/site-packages (from importlib-metadata>=4.4->markdown>=2.6.8->tensorboard<2.9,>=2.8->tensorflow-gpu) (3.7.0)\n",
      "Requirement already satisfied: pyasn1<0.5.0,>=0.4.6 in /home/andressa.amaral/.local/lib/python3.7/site-packages (from pyasn1-modules>=0.2.1->google-auth<3,>=1.6.3->tensorboard<2.9,>=2.8->tensorflow-gpu) (0.4.8)\n",
      "Requirement already satisfied: oauthlib>=3.0.0 in /home/andressa.amaral/.local/lib/python3.7/site-packages (from requests-oauthlib>=0.7.0->google-auth-oauthlib<0.5,>=0.4.1->tensorboard<2.9,>=2.8->tensorflow-gpu) (3.2.0)\n",
      "Defaulting to user installation because normal site-packages is not writeable\n",
      "Requirement already satisfied: import-ipynb in /home/andressa.amaral/.local/lib/python3.7/site-packages (0.1.3)\n",
      "importing Jupyter notebook from VariationalAutoencoderModel.ipynb\n",
      "Defaulting to user installation because normal site-packages is not writeable\n",
      "Requirement already satisfied: pandas in /home/andressa.amaral/.local/lib/python3.7/site-packages (1.3.5)\n",
      "Requirement already satisfied: numpy>=1.17.3 in /home/andressa.amaral/.local/lib/python3.7/site-packages (from pandas) (1.21.5)\n",
      "Requirement already satisfied: python-dateutil>=2.7.3 in /home/andressa.amaral/.local/lib/python3.7/site-packages (from pandas) (2.8.2)\n",
      "Requirement already satisfied: pytz>=2017.3 in /home/andressa.amaral/.local/lib/python3.7/site-packages (from pandas) (2022.1)\n",
      "Requirement already satisfied: six>=1.5 in /home/andressa.amaral/.local/lib/python3.7/site-packages (from python-dateutil>=2.7.3->pandas) (1.16.0)\n",
      "Defaulting to user installation because normal site-packages is not writeable\n",
      "Requirement already satisfied: seaborn in /home/andressa.amaral/.local/lib/python3.7/site-packages (0.11.2)\n",
      "Requirement already satisfied: pandas>=0.23 in /home/andressa.amaral/.local/lib/python3.7/site-packages (from seaborn) (1.3.5)\n",
      "Requirement already satisfied: numpy>=1.15 in /home/andressa.amaral/.local/lib/python3.7/site-packages (from seaborn) (1.21.5)\n",
      "Requirement already satisfied: matplotlib>=2.2 in /home/andressa.amaral/.local/lib/python3.7/site-packages (from seaborn) (3.5.1)\n",
      "Requirement already satisfied: scipy>=1.0 in /home/andressa.amaral/.local/lib/python3.7/site-packages (from seaborn) (1.7.3)\n",
      "Requirement already satisfied: kiwisolver>=1.0.1 in /home/andressa.amaral/.local/lib/python3.7/site-packages (from matplotlib>=2.2->seaborn) (1.4.0)\n",
      "Requirement already satisfied: python-dateutil>=2.7 in /home/andressa.amaral/.local/lib/python3.7/site-packages (from matplotlib>=2.2->seaborn) (2.8.2)\n",
      "Requirement already satisfied: cycler>=0.10 in /home/andressa.amaral/.local/lib/python3.7/site-packages (from matplotlib>=2.2->seaborn) (0.11.0)\n",
      "Requirement already satisfied: fonttools>=4.22.0 in /home/andressa.amaral/.local/lib/python3.7/site-packages (from matplotlib>=2.2->seaborn) (4.31.1)\n",
      "Requirement already satisfied: pyparsing>=2.2.1 in /home/andressa.amaral/.local/lib/python3.7/site-packages (from matplotlib>=2.2->seaborn) (3.0.7)\n",
      "Requirement already satisfied: packaging>=20.0 in /home/andressa.amaral/.local/lib/python3.7/site-packages (from matplotlib>=2.2->seaborn) (21.3)\n",
      "Requirement already satisfied: pillow>=6.2.0 in /home/andressa.amaral/.local/lib/python3.7/site-packages (from matplotlib>=2.2->seaborn) (9.0.1)\n",
      "Requirement already satisfied: pytz>=2017.3 in /home/andressa.amaral/.local/lib/python3.7/site-packages (from pandas>=0.23->seaborn) (2022.1)\n",
      "Requirement already satisfied: typing-extensions in /home/andressa.amaral/.local/lib/python3.7/site-packages (from kiwisolver>=1.0.1->matplotlib>=2.2->seaborn) (4.1.1)\n",
      "Requirement already satisfied: six>=1.5 in /home/andressa.amaral/.local/lib/python3.7/site-packages (from python-dateutil>=2.7->matplotlib>=2.2->seaborn) (1.16.0)\n",
      "Defaulting to user installation because normal site-packages is not writeable\n",
      "Requirement already satisfied: tensorflow-gpu in /home/andressa.amaral/.local/lib/python3.7/site-packages (2.8.0)\n",
      "Requirement already satisfied: grpcio<2.0,>=1.24.3 in /home/andressa.amaral/.local/lib/python3.7/site-packages (from tensorflow-gpu) (1.44.0)\n",
      "Requirement already satisfied: tf-estimator-nightly==2.8.0.dev2021122109 in /home/andressa.amaral/.local/lib/python3.7/site-packages (from tensorflow-gpu) (2.8.0.dev2021122109)\n",
      "Requirement already satisfied: keras-preprocessing>=1.1.1 in /home/andressa.amaral/.local/lib/python3.7/site-packages (from tensorflow-gpu) (1.1.2)\n",
      "Requirement already satisfied: h5py>=2.9.0 in /home/andressa.amaral/.local/lib/python3.7/site-packages (from tensorflow-gpu) (3.6.0)\n",
      "Requirement already satisfied: numpy>=1.20 in /home/andressa.amaral/.local/lib/python3.7/site-packages (from tensorflow-gpu) (1.21.5)\n",
      "Requirement already satisfied: astunparse>=1.6.0 in /home/andressa.amaral/.local/lib/python3.7/site-packages (from tensorflow-gpu) (1.6.3)\n",
      "Requirement already satisfied: typing-extensions>=3.6.6 in /home/andressa.amaral/.local/lib/python3.7/site-packages (from tensorflow-gpu) (4.1.1)\n",
      "Requirement already satisfied: tensorflow-io-gcs-filesystem>=0.23.1 in /home/andressa.amaral/.local/lib/python3.7/site-packages (from tensorflow-gpu) (0.24.0)\n",
      "Requirement already satisfied: flatbuffers>=1.12 in /home/andressa.amaral/.local/lib/python3.7/site-packages (from tensorflow-gpu) (2.0)\n",
      "Requirement already satisfied: gast>=0.2.1 in /home/andressa.amaral/.local/lib/python3.7/site-packages (from tensorflow-gpu) (0.5.3)\n",
      "Requirement already satisfied: google-pasta>=0.1.1 in /home/andressa.amaral/.local/lib/python3.7/site-packages (from tensorflow-gpu) (0.2.0)\n",
      "Requirement already satisfied: protobuf>=3.9.2 in /home/andressa.amaral/.local/lib/python3.7/site-packages (from tensorflow-gpu) (3.19.4)\n",
      "Requirement already satisfied: tensorboard<2.9,>=2.8 in /home/andressa.amaral/.local/lib/python3.7/site-packages (from tensorflow-gpu) (2.8.0)\n",
      "Requirement already satisfied: termcolor>=1.1.0 in /home/andressa.amaral/.local/lib/python3.7/site-packages (from tensorflow-gpu) (1.1.0)\n",
      "Requirement already satisfied: wrapt>=1.11.0 in /home/andressa.amaral/.local/lib/python3.7/site-packages (from tensorflow-gpu) (1.14.0)\n",
      "Requirement already satisfied: libclang>=9.0.1 in /home/andressa.amaral/.local/lib/python3.7/site-packages (from tensorflow-gpu) (13.0.0)\n",
      "Requirement already satisfied: absl-py>=0.4.0 in /home/andressa.amaral/.local/lib/python3.7/site-packages (from tensorflow-gpu) (1.0.0)\n",
      "Requirement already satisfied: opt-einsum>=2.3.2 in /home/andressa.amaral/.local/lib/python3.7/site-packages (from tensorflow-gpu) (3.3.0)\n",
      "Requirement already satisfied: six>=1.12.0 in /home/andressa.amaral/.local/lib/python3.7/site-packages (from tensorflow-gpu) (1.16.0)\n",
      "Requirement already satisfied: setuptools in /home/andressa.amaral/.local/lib/python3.7/site-packages (from tensorflow-gpu) (60.10.0)\n",
      "Requirement already satisfied: keras<2.9,>=2.8.0rc0 in /home/andressa.amaral/.local/lib/python3.7/site-packages (from tensorflow-gpu) (2.8.0)\n",
      "Requirement already satisfied: wheel<1.0,>=0.23.0 in /usr/lib/python3/dist-packages (from astunparse>=1.6.0->tensorflow-gpu) (0.30.0)\n",
      "Requirement already satisfied: cached-property in /home/andressa.amaral/.local/lib/python3.7/site-packages (from h5py>=2.9.0->tensorflow-gpu) (1.5.2)\n",
      "Requirement already satisfied: tensorboard-plugin-wit>=1.6.0 in /home/andressa.amaral/.local/lib/python3.7/site-packages (from tensorboard<2.9,>=2.8->tensorflow-gpu) (1.8.1)\n",
      "Requirement already satisfied: google-auth<3,>=1.6.3 in /home/andressa.amaral/.local/lib/python3.7/site-packages (from tensorboard<2.9,>=2.8->tensorflow-gpu) (2.6.2)\n",
      "Requirement already satisfied: google-auth-oauthlib<0.5,>=0.4.1 in /home/andressa.amaral/.local/lib/python3.7/site-packages (from tensorboard<2.9,>=2.8->tensorflow-gpu) (0.4.6)\n",
      "Requirement already satisfied: requests<3,>=2.21.0 in /home/andressa.amaral/.local/lib/python3.7/site-packages (from tensorboard<2.9,>=2.8->tensorflow-gpu) (2.27.1)\n"
     ]
    },
    {
     "name": "stdout",
     "output_type": "stream",
     "text": [
      "Requirement already satisfied: tensorboard-data-server<0.7.0,>=0.6.0 in /home/andressa.amaral/.local/lib/python3.7/site-packages (from tensorboard<2.9,>=2.8->tensorflow-gpu) (0.6.1)\n",
      "Requirement already satisfied: markdown>=2.6.8 in /home/andressa.amaral/.local/lib/python3.7/site-packages (from tensorboard<2.9,>=2.8->tensorflow-gpu) (3.3.6)\n",
      "Requirement already satisfied: werkzeug>=0.11.15 in /home/andressa.amaral/.local/lib/python3.7/site-packages (from tensorboard<2.9,>=2.8->tensorflow-gpu) (2.0.3)\n",
      "Requirement already satisfied: cachetools<6.0,>=2.0.0 in /home/andressa.amaral/.local/lib/python3.7/site-packages (from google-auth<3,>=1.6.3->tensorboard<2.9,>=2.8->tensorflow-gpu) (5.0.0)\n",
      "Requirement already satisfied: rsa<5,>=3.1.4 in /home/andressa.amaral/.local/lib/python3.7/site-packages (from google-auth<3,>=1.6.3->tensorboard<2.9,>=2.8->tensorflow-gpu) (4.8)\n",
      "Requirement already satisfied: pyasn1-modules>=0.2.1 in /home/andressa.amaral/.local/lib/python3.7/site-packages (from google-auth<3,>=1.6.3->tensorboard<2.9,>=2.8->tensorflow-gpu) (0.2.8)\n",
      "Requirement already satisfied: requests-oauthlib>=0.7.0 in /home/andressa.amaral/.local/lib/python3.7/site-packages (from google-auth-oauthlib<0.5,>=0.4.1->tensorboard<2.9,>=2.8->tensorflow-gpu) (1.3.1)\n",
      "Requirement already satisfied: importlib-metadata>=4.4 in /home/andressa.amaral/.local/lib/python3.7/site-packages (from markdown>=2.6.8->tensorboard<2.9,>=2.8->tensorflow-gpu) (4.11.3)\n",
      "Requirement already satisfied: idna<4,>=2.5 in /usr/lib/python3/dist-packages (from requests<3,>=2.21.0->tensorboard<2.9,>=2.8->tensorflow-gpu) (2.6)\n",
      "Requirement already satisfied: urllib3<1.27,>=1.21.1 in /usr/lib/python3/dist-packages (from requests<3,>=2.21.0->tensorboard<2.9,>=2.8->tensorflow-gpu) (1.22)\n",
      "Requirement already satisfied: charset-normalizer~=2.0.0 in /home/andressa.amaral/.local/lib/python3.7/site-packages (from requests<3,>=2.21.0->tensorboard<2.9,>=2.8->tensorflow-gpu) (2.0.12)\n",
      "Requirement already satisfied: certifi>=2017.4.17 in /usr/lib/python3/dist-packages (from requests<3,>=2.21.0->tensorboard<2.9,>=2.8->tensorflow-gpu) (2018.1.18)\n",
      "Requirement already satisfied: zipp>=0.5 in /home/andressa.amaral/.local/lib/python3.7/site-packages (from importlib-metadata>=4.4->markdown>=2.6.8->tensorboard<2.9,>=2.8->tensorflow-gpu) (3.7.0)\n",
      "Requirement already satisfied: pyasn1<0.5.0,>=0.4.6 in /home/andressa.amaral/.local/lib/python3.7/site-packages (from pyasn1-modules>=0.2.1->google-auth<3,>=1.6.3->tensorboard<2.9,>=2.8->tensorflow-gpu) (0.4.8)\n",
      "Requirement already satisfied: oauthlib>=3.0.0 in /home/andressa.amaral/.local/lib/python3.7/site-packages (from requests-oauthlib>=0.7.0->google-auth-oauthlib<0.5,>=0.4.1->tensorboard<2.9,>=2.8->tensorflow-gpu) (3.2.0)\n"
     ]
    },
    {
     "name": "stderr",
     "output_type": "stream",
     "text": [
      "2022-04-26 21:52:01.798771: W tensorflow/stream_executor/platform/default/dso_loader.cc:64] Could not load dynamic library 'libcudart.so.11.0'; dlerror: libcudart.so.11.0: cannot open shared object file: No such file or directory\n",
      "2022-04-26 21:52:01.798792: I tensorflow/stream_executor/cuda/cudart_stub.cc:29] Ignore above cudart dlerror if you do not have a GPU set up on your machine.\n"
     ]
    }
   ],
   "source": [
    "!pip3 install pandas\n",
    "!pip3 install seaborn\n",
    "!pip3 install --upgrade tensorflow-gpu\n",
    "!pip3 install import-ipynb\n",
    "\n",
    "from datetime import datetime\n",
    "import matplotlib.pyplot as plt\n",
    "import seaborn as sns\n",
    "import numpy as np\n",
    "import pandas as pd\n",
    "import math\n",
    "import pickle\n",
    "import time \n",
    "import sys\n",
    "\n",
    "import import_ipynb\n",
    "import VariationalAutoencoderModel\n",
    "\n",
    "import tensorflow as tf\n",
    "tf.compat.v1.disable_eager_execution()\n",
    "from tensorflow.keras.models import Model\n",
    "from tensorflow.keras.layers import Lambda, Input, Dense\n",
    "from tensorflow.keras.losses import mse\n",
    "from tensorflow.keras import optimizers\n",
    "from tensorflow.keras import backend as K\n",
    "\n",
    "from sklearn.pipeline import Pipeline\n",
    "from sklearn.preprocessing import MinMaxScaler\n",
    "from sklearn.decomposition import PCA\n",
    "from sklearn.metrics import classification_report, mean_squared_error, confusion_matrix, accuracy_score, f1_score, precision_score, recall_score\n",
    "\n",
    "%matplotlib inline"
   ]
  },
  {
   "cell_type": "code",
   "execution_count": 2,
   "id": "6bdaae80",
   "metadata": {},
   "outputs": [
    {
     "name": "stderr",
     "output_type": "stream",
     "text": [
      "2022-04-26 21:52:03.415292: I tensorflow/core/platform/cpu_feature_guard.cc:151] This TensorFlow binary is optimized with oneAPI Deep Neural Network Library (oneDNN) to use the following CPU instructions in performance-critical operations:  AVX2 AVX512F FMA\n",
      "To enable them in other operations, rebuild TensorFlow with the appropriate compiler flags.\n",
      "2022-04-26 21:52:03.445115: W tensorflow/stream_executor/platform/default/dso_loader.cc:64] Could not load dynamic library 'libcudart.so.11.0'; dlerror: libcudart.so.11.0: cannot open shared object file: No such file or directory\n",
      "2022-04-26 21:52:03.445235: W tensorflow/stream_executor/platform/default/dso_loader.cc:64] Could not load dynamic library 'libcublas.so.11'; dlerror: libcublas.so.11: cannot open shared object file: No such file or directory\n",
      "2022-04-26 21:52:03.445311: W tensorflow/stream_executor/platform/default/dso_loader.cc:64] Could not load dynamic library 'libcublasLt.so.11'; dlerror: libcublasLt.so.11: cannot open shared object file: No such file or directory\n",
      "2022-04-26 21:52:03.447496: W tensorflow/stream_executor/platform/default/dso_loader.cc:64] Could not load dynamic library 'libcusolver.so.11'; dlerror: libcusolver.so.11: cannot open shared object file: No such file or directory\n",
      "2022-04-26 21:52:03.447583: W tensorflow/stream_executor/platform/default/dso_loader.cc:64] Could not load dynamic library 'libcusparse.so.11'; dlerror: libcusparse.so.11: cannot open shared object file: No such file or directory\n",
      "2022-04-26 21:52:03.447650: W tensorflow/stream_executor/platform/default/dso_loader.cc:64] Could not load dynamic library 'libcudnn.so.8'; dlerror: libcudnn.so.8: cannot open shared object file: No such file or directory\n",
      "2022-04-26 21:52:03.447660: W tensorflow/core/common_runtime/gpu/gpu_device.cc:1850] Cannot dlopen some GPU libraries. Please make sure the missing libraries mentioned above are installed properly if you would like to use GPU. Follow the guide at https://www.tensorflow.org/install/gpu for how to download and setup the required libraries for your platform.\n",
      "Skipping registering GPU devices...\n"
     ]
    }
   ],
   "source": [
    "gpu_options = tf.compat.v1.GPUOptions(per_process_gpu_memory_fraction = 0.333)\n",
    "sess = tf.compat.v1.Session(config = tf.compat.v1.ConfigProto(gpu_options = gpu_options))"
   ]
  },
  {
   "cell_type": "markdown",
   "id": "95d159a4",
   "metadata": {},
   "source": [
    "# Philips Baby Monitor Data Pre-Processing"
   ]
  },
  {
   "cell_type": "code",
   "execution_count": 3,
   "id": "3d07ce33",
   "metadata": {},
   "outputs": [],
   "source": [
    "# Benign traffic\n",
    "\n",
    "pb_benign = pd.read_csv('../nbaiot/Philips_B120N10_Baby_Monitor/benign_traffic.csv', encoding = \"utf-8\", sep = ',' ) \n",
    "df_pb_benign = pb_benign.copy(deep=True)\n",
    "\n",
    "columns = list(df_pb_benign.columns)\n",
    "chosen_columns = []\n",
    "for column in columns:\n",
    "    if column.find('L5') != -1:\n",
    "        chosen_columns.append(column)\n",
    "\n",
    "df_pb_benign = pd.DataFrame(df_pb_benign, columns = chosen_columns)        \n",
    "        \n",
    "# Mirai\n",
    "\n",
    "pb_mirai_ack = pd.read_csv('../nbaiot/Philips_B120N10_Baby_Monitor/mirai/ack.csv', encoding = \"utf-8\", sep = ',' ) \n",
    "df_pb_mirai_ack = pb_mirai_ack.copy(deep=True)\n",
    "df_pb_mirai_ack = pd.DataFrame(df_pb_mirai_ack, columns = chosen_columns)\n",
    "\n",
    "pb_mirai_scan = pd.read_csv('../nbaiot/Philips_B120N10_Baby_Monitor/mirai/scan.csv', encoding = \"utf-8\", sep = ',' ) \n",
    "df_pb_mirai_scan = pb_mirai_scan.copy(deep=True)\n",
    "df_pb_mirai_scan = pd.DataFrame(df_pb_mirai_scan, columns = chosen_columns)\n",
    "\n",
    "pb_mirai_syn = pd.read_csv('../nbaiot/Philips_B120N10_Baby_Monitor/mirai/syn.csv', encoding = \"utf-8\", sep = ',' ) \n",
    "df_pb_mirai_syn = pb_mirai_syn.copy(deep=True)\n",
    "df_pb_mirai_syn = pd.DataFrame(df_pb_mirai_syn, columns = chosen_columns)\n",
    "\n",
    "pb_mirai_udp = pd.read_csv('../nbaiot/Philips_B120N10_Baby_Monitor/mirai/udp.csv', encoding = \"utf-8\", sep = ',' ) \n",
    "df_pb_mirai_udp = pb_mirai_udp.copy(deep=True)\n",
    "df_pb_mirai_udp = pd.DataFrame(df_pb_mirai_udp, columns = chosen_columns)\n",
    "\n",
    "pb_mirai_udpplain = pd.read_csv('../nbaiot/Philips_B120N10_Baby_Monitor/mirai/udpplain.csv', encoding = \"utf-8\", sep = ',' ) \n",
    "df_pb_mirai_udpplain = pb_mirai_udpplain.copy(deep=True)\n",
    "df_pb_mirai_udpplain = pd.DataFrame(df_pb_mirai_udpplain, columns = chosen_columns)\n",
    "\n",
    "# Bashlite\n",
    "\n",
    "pb_bashlite_combo = pd.read_csv('../nbaiot/Philips_B120N10_Baby_Monitor/gafgyt/combo.csv', encoding = \"utf-8\", sep = ',' ) \n",
    "df_pb_bashlite_combo = pb_bashlite_combo.copy(deep=True)\n",
    "df_pb_bashlite_combo = pd.DataFrame(df_pb_bashlite_combo, columns = chosen_columns)\n",
    "\n",
    "pb_bashlite_junk = pd.read_csv('../nbaiot/Philips_B120N10_Baby_Monitor/gafgyt/junk.csv', encoding = \"utf-8\", sep = ',' ) \n",
    "df_pb_bashlite_junk = pb_bashlite_junk.copy(deep=True)\n",
    "df_pb_bashlite_junk = pd.DataFrame(df_pb_bashlite_junk, columns = chosen_columns)\n",
    "\n",
    "pb_bashlite_scan = pd.read_csv('../nbaiot/Philips_B120N10_Baby_Monitor/gafgyt/scan.csv', encoding = \"utf-8\", sep = ',' ) \n",
    "df_pb_bashlite_scan = pb_bashlite_scan.copy(deep=True)\n",
    "df_pb_bashlite_scan = pd.DataFrame(df_pb_bashlite_scan, columns = chosen_columns)\n",
    "\n",
    "pb_bashlite_udp = pd.read_csv('../nbaiot/Philips_B120N10_Baby_Monitor/gafgyt/udp.csv', encoding = \"utf-8\", sep = ',' ) \n",
    "df_pb_bashlite_udp = pb_bashlite_udp.copy(deep=True)\n",
    "df_pb_bashlite_udp = pd.DataFrame(df_pb_bashlite_udp, columns = chosen_columns)\n",
    "\n",
    "pb_bashlite_tcp = pd.read_csv('../nbaiot/Philips_B120N10_Baby_Monitor/gafgyt/tcp.csv', encoding = \"utf-8\", sep = ',' ) \n",
    "df_pb_bashlite_tcp = pb_bashlite_tcp.copy(deep=True)\n",
    "df_pb_bashlite_tcp = pd.DataFrame(df_pb_bashlite_tcp, columns = chosen_columns)"
   ]
  },
  {
   "cell_type": "code",
   "execution_count": 4,
   "id": "bd0f32fd",
   "metadata": {},
   "outputs": [],
   "source": [
    "scaler = MinMaxScaler()\n",
    "df_pb_benign_norm = scaler.fit_transform(df_pb_benign)\n",
    "\n",
    "df_pb_miraiack_norm = scaler.fit_transform(df_pb_mirai_ack)\n",
    "df_pb_miraiscan_norm = scaler.fit_transform(df_pb_mirai_scan)\n",
    "df_pb_miraisyn_norm = scaler.fit_transform(df_pb_mirai_syn)\n",
    "df_pb_miraiudp_norm = scaler.fit_transform(df_pb_mirai_udp)\n",
    "df_pb_miraiudpplain_norm = scaler.fit_transform(df_pb_mirai_udpplain)\n",
    "\n",
    "df_pb_bashlitecombo_norm = scaler.fit_transform(df_pb_bashlite_combo)\n",
    "df_pb_bashlitejunk_norm = scaler.fit_transform(df_pb_bashlite_junk)\n",
    "df_pb_bashlitescan_norm = scaler.fit_transform(df_pb_bashlite_scan)\n",
    "df_pb_bashliteudp_norm = scaler.fit_transform(df_pb_bashlite_udp)\n",
    "df_pb_bashlitetcp_norm = scaler.fit_transform(df_pb_bashlite_tcp)"
   ]
  },
  {
   "cell_type": "markdown",
   "id": "c2a37b57",
   "metadata": {},
   "source": [
    "# Variational Autoencoder - Attack Detection"
   ]
  },
  {
   "cell_type": "markdown",
   "id": "0aa90ef7",
   "metadata": {},
   "source": [
    "## Model"
   ]
  },
  {
   "cell_type": "code",
   "execution_count": 5,
   "id": "8788c6f0",
   "metadata": {},
   "outputs": [],
   "source": [
    "# Train set\n",
    "\n",
    "len_benign = len(df_pb_benign_norm)\n",
    "len_benign_train = int(0.7 * len_benign)\n",
    "X_train_VAE = df_pb_benign_norm[:len_benign_train]\n",
    "\n",
    "# Test set - 30% benign and the rest is attack\n",
    "\n",
    "X_test_benign = df_pb_benign_norm[len_benign_train:]\n",
    "\n",
    "len_attack_test = len(X_test_benign)\n",
    "X_test_mirai_ack = df_pb_miraiack_norm\n",
    "X_test_mirai_scan = df_pb_miraiscan_norm\n",
    "X_test_mirai_syn = df_pb_miraisyn_norm\n",
    "X_test_mirai_udp = df_pb_miraiudp_norm\n",
    "X_test_mirai_udpplain = df_pb_miraiudpplain_norm\n",
    "X_test_bashlite_combo = df_pb_bashlitecombo_norm\n",
    "X_test_bashlite_junk = df_pb_bashlitejunk_norm\n",
    "X_test_bashlite_scan = df_pb_bashlitescan_norm\n",
    "X_test_bashlite_tcp = df_pb_bashlitetcp_norm\n",
    "X_test_bashlite_udp = df_pb_bashliteudp_norm\n",
    "\n",
    "X_test_VAE = np.concatenate([X_test_benign, X_test_mirai_ack, X_test_mirai_scan, X_test_mirai_syn, X_test_mirai_udp,\n",
    "                             X_test_mirai_udpplain, X_test_bashlite_combo, X_test_bashlite_junk, X_test_bashlite_scan,\n",
    "                             X_test_bashlite_tcp, X_test_bashlite_udp])\n",
    "\n",
    "Y_test_VAE = np.ones(len(X_test_VAE))\n",
    "Y_test_VAE[:len(X_test_benign)] = 0"
   ]
  },
  {
   "cell_type": "code",
   "execution_count": 6,
   "id": "9da2e456",
   "metadata": {},
   "outputs": [],
   "source": [
    "# KL Loss function\n",
    "\n",
    "def vae_loss(x, x_decoded_mean):\n",
    "    # Compute the average MSE error, then scale it up (sum on all axes)\n",
    "    \n",
    "    reconstruction_loss = K.sum(K.square(x - x_decoded_mean))\n",
    "    \n",
    "    # Compute the KL loss\n",
    "    \n",
    "    kl_loss = - 0.5 * K.sum(1 + z_var - K.square(z_mean) - K.square(K.exp(z_var)), axis=-1)\n",
    "    \n",
    "    # Return the average loss over all \n",
    "    \n",
    "    total_loss = K.mean(reconstruction_loss + kl_loss) # Total_loss = reconstruction_loss + kl_loss \n",
    "    return total_loss\n",
    "\n",
    "# (1) Reconstruction Loss - Forces the encoder to generate latent features that minimize the reconstruction error, or else is\n",
    "# penalized\n",
    "# (2) KL Loss - Forces the distribution generated by the encoder to be similar to the prior probability of the input vector, \n",
    "# pushing latent feature space to normality"
   ]
  },
  {
   "cell_type": "code",
   "execution_count": 7,
   "id": "117c67a6",
   "metadata": {},
   "outputs": [],
   "source": [
    "# Parameters\n",
    "\n",
    "original_dim = X_train_VAE.shape[1]\n",
    "input_shape = (original_dim,)\n",
    "intermediate_dim = int(original_dim / 2)\n",
    "latent_dim = int(original_dim / 3)\n",
    "\n",
    "epochs = 100\n",
    "learning_rate = 0.0001\n",
    "batch_size = 65\n",
    "anomaly_threshold = 0.030\n",
    "number_features = 23"
   ]
  },
  {
   "cell_type": "code",
   "execution_count": 8,
   "id": "c7a8c643",
   "metadata": {},
   "outputs": [
    {
     "name": "stdout",
     "output_type": "stream",
     "text": [
      "Model: \"encoder\"\n",
      "__________________________________________________________________________________________________\n",
      " Layer (type)                   Output Shape         Param #     Connected to                     \n",
      "==================================================================================================\n",
      " encoder_input (InputLayer)     [(None, 23)]         0           []                               \n",
      "                                                                                                  \n",
      " dense (Dense)                  (None, 11)           264         ['encoder_input[0][0]']          \n",
      "                                                                                                  \n",
      " z_mean (Dense)                 (None, 7)            84          ['dense[0][0]']                  \n",
      "                                                                                                  \n",
      " z_var (Dense)                  (None, 7)            84          ['dense[0][0]']                  \n",
      "                                                                                                  \n",
      " z (Lambda)                     (None, 7)            0           ['z_mean[0][0]',                 \n",
      "                                                                  'z_var[0][0]']                  \n",
      "                                                                                                  \n",
      "==================================================================================================\n",
      "Total params: 432\n",
      "Trainable params: 432\n",
      "Non-trainable params: 0\n",
      "__________________________________________________________________________________________________\n"
     ]
    }
   ],
   "source": [
    "# Encoder\n",
    "\n",
    "inputs, encoder, z_var, z_mean = VariationalAutoencoderModel.vae_encoder(\n",
    "    input_shape, \n",
    "    intermediate_dim, \n",
    "    latent_dim, \n",
    "    VariationalAutoencoderModel.sample)\n",
    "\n",
    "encoder.summary()"
   ]
  },
  {
   "cell_type": "code",
   "execution_count": 9,
   "id": "4684e156",
   "metadata": {},
   "outputs": [
    {
     "name": "stdout",
     "output_type": "stream",
     "text": [
      "Model: \"decoder\"\n",
      "_________________________________________________________________\n",
      " Layer (type)                Output Shape              Param #   \n",
      "=================================================================\n",
      " z_sampling (InputLayer)     [(None, 7)]               0         \n",
      "                                                                 \n",
      " dense_1 (Dense)             (None, 11)                88        \n",
      "                                                                 \n",
      " dense_2 (Dense)             (None, 23)                276       \n",
      "                                                                 \n",
      "=================================================================\n",
      "Total params: 364\n",
      "Trainable params: 364\n",
      "Non-trainable params: 0\n",
      "_________________________________________________________________\n"
     ]
    }
   ],
   "source": [
    "# Decoder\n",
    "\n",
    "decoder = VariationalAutoencoderModel.vae_decoder(\n",
    "    intermediate_dim,\n",
    "    latent_dim,\n",
    "    original_dim)\n",
    "\n",
    "decoder.summary()"
   ]
  },
  {
   "cell_type": "code",
   "execution_count": 10,
   "id": "684f3f0f",
   "metadata": {},
   "outputs": [
    {
     "name": "stdout",
     "output_type": "stream",
     "text": [
      "Model: \"vae_mlp\"\n",
      "_________________________________________________________________\n",
      " Layer (type)                Output Shape              Param #   \n",
      "=================================================================\n",
      " encoder_input (InputLayer)  [(None, 23)]              0         \n",
      "                                                                 \n",
      " encoder (Functional)        (None, 7)                 432       \n",
      "                                                                 \n",
      " decoder (Functional)        (None, 23)                364       \n",
      "                                                                 \n",
      "=================================================================\n",
      "Total params: 796\n",
      "Trainable params: 796\n",
      "Non-trainable params: 0\n",
      "_________________________________________________________________\n"
     ]
    }
   ],
   "source": [
    "# VAE model\n",
    "\n",
    "outputs = decoder(encoder(inputs))\n",
    "\n",
    "opt = optimizers.Adam(learning_rate = learning_rate, clipvalue = 0.5)\n",
    "\n",
    "vae_model = Model(inputs, outputs, name = 'vae_mlp')\n",
    "vae_model.compile(optimizer = opt, loss = vae_loss)\n",
    "vae_model.summary()"
   ]
  },
  {
   "cell_type": "markdown",
   "id": "2da22c08",
   "metadata": {},
   "source": [
    "## Train"
   ]
  },
  {
   "cell_type": "code",
   "execution_count": 11,
   "id": "2dc4d61e",
   "metadata": {},
   "outputs": [
    {
     "name": "stdout",
     "output_type": "stream",
     "text": [
      "Train on 122667 samples\n",
      "Epoch 1/100\n"
     ]
    },
    {
     "name": "stderr",
     "output_type": "stream",
     "text": [
      "2022-04-26 21:52:24.398890: W tensorflow/core/common_runtime/gpu/gpu_device.cc:1850] Cannot dlopen some GPU libraries. Please make sure the missing libraries mentioned above are installed properly if you would like to use GPU. Follow the guide at https://www.tensorflow.org/install/gpu for how to download and setup the required libraries for your platform.\n",
      "Skipping registering GPU devices...\n"
     ]
    },
    {
     "name": "stdout",
     "output_type": "stream",
     "text": [
      "122667/122667 [==============================] - 3s 24us/sample - loss: 159.1379\n",
      "Epoch 2/100\n",
      "122667/122667 [==============================] - 3s 22us/sample - loss: 11.0173\n",
      "Epoch 3/100\n",
      "122667/122667 [==============================] - 3s 22us/sample - loss: 6.2680\n",
      "Epoch 4/100\n",
      "122667/122667 [==============================] - 3s 22us/sample - loss: 5.0824\n",
      "Epoch 5/100\n",
      "122667/122667 [==============================] - 3s 22us/sample - loss: 4.3109\n",
      "Epoch 6/100\n",
      "122667/122667 [==============================] - 3s 23us/sample - loss: 3.6947\n",
      "Epoch 7/100\n",
      "122667/122667 [==============================] - 3s 23us/sample - loss: 3.1454\n",
      "Epoch 8/100\n",
      "122667/122667 [==============================] - 3s 23us/sample - loss: 2.6186\n",
      "Epoch 9/100\n",
      "122667/122667 [==============================] - 3s 23us/sample - loss: 2.1910\n",
      "Epoch 10/100\n",
      "122667/122667 [==============================] - 3s 23us/sample - loss: 1.8244\n",
      "Epoch 11/100\n",
      "122667/122667 [==============================] - 3s 23us/sample - loss: 1.5119\n",
      "Epoch 12/100\n",
      "122667/122667 [==============================] - 3s 23us/sample - loss: 1.2871\n",
      "Epoch 13/100\n",
      "122667/122667 [==============================] - 3s 23us/sample - loss: 1.1535\n",
      "Epoch 14/100\n",
      "122667/122667 [==============================] - 3s 24us/sample - loss: 1.0639\n",
      "Epoch 15/100\n",
      "122667/122667 [==============================] - 3s 24us/sample - loss: 1.0045\n",
      "Epoch 16/100\n",
      "122667/122667 [==============================] - 3s 24us/sample - loss: 0.9567\n",
      "Epoch 17/100\n",
      "122667/122667 [==============================] - 3s 24us/sample - loss: 0.9155\n",
      "Epoch 18/100\n",
      "122667/122667 [==============================] - 3s 24us/sample - loss: 0.8778\n",
      "Epoch 19/100\n",
      "122667/122667 [==============================] - 3s 24us/sample - loss: 0.8284\n",
      "Epoch 20/100\n",
      "122667/122667 [==============================] - 3s 24us/sample - loss: 0.7909\n",
      "Epoch 21/100\n",
      "122667/122667 [==============================] - 3s 24us/sample - loss: 0.7538\n",
      "Epoch 22/100\n",
      "122667/122667 [==============================] - 3s 24us/sample - loss: 0.7275\n",
      "Epoch 23/100\n",
      "122667/122667 [==============================] - 3s 24us/sample - loss: 0.7127\n",
      "Epoch 24/100\n",
      "122667/122667 [==============================] - 3s 24us/sample - loss: 0.6926\n",
      "Epoch 25/100\n",
      "122667/122667 [==============================] - 3s 23us/sample - loss: 0.6889\n",
      "Epoch 26/100\n",
      "122667/122667 [==============================] - 3s 24us/sample - loss: 0.6737\n",
      "Epoch 27/100\n",
      "122667/122667 [==============================] - 3s 24us/sample - loss: 0.6706\n",
      "Epoch 28/100\n",
      "122667/122667 [==============================] - 3s 24us/sample - loss: 0.6597\n",
      "Epoch 29/100\n",
      "122667/122667 [==============================] - 3s 24us/sample - loss: 0.6495\n",
      "Epoch 30/100\n",
      "122667/122667 [==============================] - 3s 24us/sample - loss: 0.6448\n",
      "Epoch 31/100\n",
      "122667/122667 [==============================] - 3s 24us/sample - loss: 0.6429\n",
      "Epoch 32/100\n",
      "122667/122667 [==============================] - 3s 24us/sample - loss: 0.6264\n",
      "Epoch 33/100\n",
      "122667/122667 [==============================] - 3s 24us/sample - loss: 0.6260\n",
      "Epoch 34/100\n",
      "122667/122667 [==============================] - 3s 24us/sample - loss: 0.6270\n",
      "Epoch 35/100\n",
      "122667/122667 [==============================] - 3s 23us/sample - loss: 0.6186\n",
      "Epoch 36/100\n",
      "122667/122667 [==============================] - 3s 23us/sample - loss: 0.6129\n",
      "Epoch 37/100\n",
      "122667/122667 [==============================] - 3s 23us/sample - loss: 0.6070\n",
      "Epoch 38/100\n",
      "122667/122667 [==============================] - 3s 23us/sample - loss: 0.6083\n",
      "Epoch 39/100\n",
      "122667/122667 [==============================] - 3s 23us/sample - loss: 0.6067\n",
      "Epoch 40/100\n",
      "122667/122667 [==============================] - 3s 23us/sample - loss: 0.5956\n",
      "Epoch 41/100\n",
      "122667/122667 [==============================] - 3s 23us/sample - loss: 0.5942\n",
      "Epoch 42/100\n",
      "122667/122667 [==============================] - 3s 23us/sample - loss: 0.5891\n",
      "Epoch 43/100\n",
      "122667/122667 [==============================] - 3s 23us/sample - loss: 0.5761\n",
      "Epoch 44/100\n",
      "122667/122667 [==============================] - 3s 23us/sample - loss: 0.5730\n",
      "Epoch 45/100\n",
      "122667/122667 [==============================] - 3s 23us/sample - loss: 0.5670\n",
      "Epoch 46/100\n",
      "122667/122667 [==============================] - 3s 23us/sample - loss: 0.5696\n",
      "Epoch 47/100\n",
      "122667/122667 [==============================] - 3s 23us/sample - loss: 0.5609\n",
      "Epoch 48/100\n",
      "122667/122667 [==============================] - 3s 23us/sample - loss: 0.5624\n",
      "Epoch 49/100\n",
      "122667/122667 [==============================] - 3s 23us/sample - loss: 0.5594\n",
      "Epoch 50/100\n",
      "122667/122667 [==============================] - 3s 27us/sample - loss: 0.5551\n",
      "Epoch 51/100\n",
      "122667/122667 [==============================] - 3s 23us/sample - loss: 0.5486\n",
      "Epoch 52/100\n",
      "122667/122667 [==============================] - 3s 22us/sample - loss: 0.5514\n",
      "Epoch 53/100\n",
      "122667/122667 [==============================] - 3s 22us/sample - loss: 0.5462\n",
      "Epoch 54/100\n",
      "122667/122667 [==============================] - 3s 21us/sample - loss: 0.5370\n",
      "Epoch 55/100\n",
      "122667/122667 [==============================] - 3s 21us/sample - loss: 0.5401\n",
      "Epoch 56/100\n",
      "122667/122667 [==============================] - 3s 21us/sample - loss: 0.5340\n",
      "Epoch 57/100\n",
      "122667/122667 [==============================] - 3s 21us/sample - loss: 0.5275\n",
      "Epoch 58/100\n",
      "122667/122667 [==============================] - 3s 21us/sample - loss: 0.5287\n",
      "Epoch 59/100\n",
      "122667/122667 [==============================] - 3s 21us/sample - loss: 0.5246\n",
      "Epoch 60/100\n",
      "122667/122667 [==============================] - 3s 21us/sample - loss: 0.5243\n",
      "Epoch 61/100\n",
      "122667/122667 [==============================] - 3s 21us/sample - loss: 0.5162\n",
      "Epoch 62/100\n",
      "122667/122667 [==============================] - 3s 21us/sample - loss: 0.5186\n",
      "Epoch 63/100\n",
      "122667/122667 [==============================] - 3s 21us/sample - loss: 0.5158\n",
      "Epoch 64/100\n",
      "122667/122667 [==============================] - 2s 20us/sample - loss: 0.5113\n",
      "Epoch 65/100\n",
      "122667/122667 [==============================] - 3s 20us/sample - loss: 0.5077\n",
      "Epoch 66/100\n",
      "122667/122667 [==============================] - 3s 20us/sample - loss: 0.5052\n",
      "Epoch 67/100\n",
      "122667/122667 [==============================] - 2s 20us/sample - loss: 0.4982\n",
      "Epoch 68/100\n",
      "122667/122667 [==============================] - 2s 20us/sample - loss: 0.4929\n",
      "Epoch 69/100\n",
      "122667/122667 [==============================] - 3s 21us/sample - loss: 0.4928\n",
      "Epoch 70/100\n",
      "122667/122667 [==============================] - 2s 20us/sample - loss: 0.4986\n",
      "Epoch 71/100\n",
      "122667/122667 [==============================] - 3s 21us/sample - loss: 0.4963\n",
      "Epoch 72/100\n",
      "122667/122667 [==============================] - 2s 20us/sample - loss: 0.4878\n",
      "Epoch 73/100\n",
      "122667/122667 [==============================] - 3s 21us/sample - loss: 0.4940\n",
      "Epoch 74/100\n",
      "122667/122667 [==============================] - 3s 22us/sample - loss: 0.4934\n",
      "Epoch 75/100\n",
      "122667/122667 [==============================] - 2s 20us/sample - loss: 0.4916\n",
      "Epoch 76/100\n",
      "122667/122667 [==============================] - 2s 20us/sample - loss: 0.4835\n",
      "Epoch 77/100\n",
      "122667/122667 [==============================] - 2s 20us/sample - loss: 0.4933\n",
      "Epoch 78/100\n",
      "122667/122667 [==============================] - 3s 21us/sample - loss: 0.4822\n",
      "Epoch 79/100\n",
      "122667/122667 [==============================] - 3s 22us/sample - loss: 0.4897\n",
      "Epoch 80/100\n",
      "122667/122667 [==============================] - 2s 20us/sample - loss: 0.4847\n",
      "Epoch 81/100\n",
      "122667/122667 [==============================] - 2s 20us/sample - loss: 0.4807\n",
      "Epoch 82/100\n",
      "122667/122667 [==============================] - 2s 20us/sample - loss: 0.4912\n",
      "Epoch 83/100\n",
      "122667/122667 [==============================] - 3s 21us/sample - loss: 0.4882\n",
      "Epoch 84/100\n",
      "122667/122667 [==============================] - 2s 19us/sample - loss: 0.4777\n",
      "Epoch 85/100\n",
      "122667/122667 [==============================] - 3s 20us/sample - loss: 0.4855\n",
      "Epoch 86/100\n",
      "122667/122667 [==============================] - 2s 20us/sample - loss: 0.4801\n",
      "Epoch 87/100\n",
      "122667/122667 [==============================] - 2s 20us/sample - loss: 0.4820\n",
      "Epoch 88/100\n",
      "122667/122667 [==============================] - 2s 20us/sample - loss: 0.4809\n",
      "Epoch 89/100\n",
      "122667/122667 [==============================] - 2s 19us/sample - loss: 0.4759\n",
      "Epoch 90/100\n",
      "122667/122667 [==============================] - 2s 19us/sample - loss: 0.4807\n",
      "Epoch 91/100\n",
      "122667/122667 [==============================] - 2s 20us/sample - loss: 0.4803\n",
      "Epoch 92/100\n",
      "122667/122667 [==============================] - 2s 20us/sample - loss: 0.4664\n",
      "Epoch 93/100\n",
      "122667/122667 [==============================] - 2s 20us/sample - loss: 0.4810\n",
      "Epoch 94/100\n",
      "122667/122667 [==============================] - 2s 19us/sample - loss: 0.4709\n",
      "Epoch 95/100\n",
      "122667/122667 [==============================] - 2s 20us/sample - loss: 0.4768\n",
      "Epoch 96/100\n",
      "122667/122667 [==============================] - 2s 19us/sample - loss: 0.4701\n",
      "Epoch 97/100\n",
      "122667/122667 [==============================] - 2s 18us/sample - loss: 0.4705\n",
      "Epoch 98/100\n",
      "122667/122667 [==============================] - 2s 18us/sample - loss: 0.4654\n",
      "Epoch 99/100\n",
      "122667/122667 [==============================] - 2s 18us/sample - loss: 0.4629\n",
      "Epoch 100/100\n",
      "122667/122667 [==============================] - 2s 18us/sample - loss: 0.4675\n",
      "Training time: 267.7353618144989\n"
     ]
    }
   ],
   "source": [
    "train_start = time.time()\n",
    "\n",
    "results = vae_model.fit(X_train_VAE, X_train_VAE,\n",
    "                        shuffle = True,\n",
    "                        epochs = epochs,\n",
    "                        batch_size = batch_size)\n",
    "\n",
    "train_end = time.time()\n",
    "train_time = train_end - train_start\n",
    "print(\"Training time:\", train_time)"
   ]
  },
  {
   "cell_type": "code",
   "execution_count": 12,
   "id": "543488a5",
   "metadata": {},
   "outputs": [
    {
     "data": {
      "image/png": "[encoded data removed]",
      "text/plain": [
       "<Figure size 432x288 with 1 Axes>"
      ]
     },
     "metadata": {
      "needs_background": "light"
     },
     "output_type": "display_data"
    }
   ],
   "source": [
    "plt.plot(results.history['loss'])\n",
    "plt.title('Loss Pattern')\n",
    "plt.ylabel('Loss')\n",
    "plt.xlabel('epoch')\n",
    "plt.legend(['Train', 'Test'], loc='upper right');\n",
    "plt.show()"
   ]
  },
  {
   "cell_type": "markdown",
   "id": "70cc5032",
   "metadata": {},
   "source": [
    "## Test"
   ]
  },
  {
   "cell_type": "code",
   "execution_count": 13,
   "id": "c3435ee6",
   "metadata": {},
   "outputs": [
    {
     "name": "stderr",
     "output_type": "stream",
     "text": [
      "/home/andressa.amaral/.local/lib/python3.7/site-packages/keras/engine/training_v1.py:2079: UserWarning: `Model.state_updates` will be removed in a future version. This property should not be used in TensorFlow 2.0, as `updates` are applied automatically.\n",
      "  updates=self.state_updates,\n"
     ]
    }
   ],
   "source": [
    "X_train_pred = vae_model.predict(X_train_VAE)\n",
    "error_vector = VariationalAutoencoderModel.get_error_term(X_train_pred, X_train_VAE, _rmse=False)\n",
    "error_thresh = anomaly_threshold\n",
    "\n",
    "# Measure the error between the train set and its output and generates an error vector representing the error of each term\n",
    "# Find an extreme value on the vector to use as the error threshold"
   ]
  },
  {
   "cell_type": "code",
   "execution_count": 14,
   "id": "0f16a78c",
   "metadata": {},
   "outputs": [
    {
     "name": "stdout",
     "output_type": "stream",
     "text": [
      "Testing time: 14.739331483840942\n",
      "[False False False ...  True  True  True]\n"
     ]
    },
    {
     "data": {
      "text/plain": [
       "0.9476644706509154"
      ]
     },
     "execution_count": 14,
     "metadata": {},
     "output_type": "execute_result"
    }
   ],
   "source": [
    "test_start = time.time()\n",
    "\n",
    "X_pred_VAE = vae_model.predict(X_test_VAE)\n",
    "\n",
    "test_end = time.time()\n",
    "test_time = test_end - test_start\n",
    "print(\"Testing time:\", test_time)\n",
    "\n",
    "# If the error of the vector is higher than the defined threshold it detects an attack\n",
    "\n",
    "error_vector = VariationalAutoencoderModel.get_error_term(X_pred_VAE, X_test_VAE, _rmse=False)\n",
    "attacks = (error_vector > error_thresh)\n",
    "print(attacks)\n",
    "\n",
    "np.count_nonzero(attacks) / len(attacks) # Percentage of attacks"
   ]
  },
  {
   "cell_type": "code",
   "execution_count": 15,
   "id": "d5e4228e",
   "metadata": {},
   "outputs": [
    {
     "name": "stdout",
     "output_type": "stream",
     "text": [
      "976010\n"
     ]
    }
   ],
   "source": [
    "print(len(X_test_VAE))"
   ]
  },
  {
   "cell_type": "markdown",
   "id": "0473c45e",
   "metadata": {},
   "source": [
    "## Metrics"
   ]
  },
  {
   "cell_type": "code",
   "execution_count": 16,
   "id": "34012c8d",
   "metadata": {},
   "outputs": [],
   "source": [
    "sys.stdout = open(\"../Results/philips_baby_monitor.txt\", \"a\")\n",
    "\n",
    "print(\" ==== Test \" + str(number_features) + \" Normal learning rate ====\")\n",
    "print(\"Training time:\" + str(train_time))\n",
    "print(\"Testing time:\" + str(test_time))\n",
    "print(classification_report(Y_test_VAE, attacks, digits = 5))"
   ]
  },
  {
   "cell_type": "code",
   "execution_count": 17,
   "id": "903a4dff",
   "metadata": {},
   "outputs": [
    {
     "data": {
      "text/plain": [
       "'# Examinig the latent space generated by the encoder\\n\\nX_encoded = encoder.predict(X_test_VAE)\\n\\npca = PCA(n_components=2)\\nX_analysis = pca.fit_transform(X_encoded)'"
      ]
     },
     "execution_count": 17,
     "metadata": {},
     "output_type": "execute_result"
    }
   ],
   "source": [
    "'''# Examinig the latent space generated by the encoder\n",
    "\n",
    "X_encoded = encoder.predict(X_test_VAE)\n",
    "\n",
    "pca = PCA(n_components=2)\n",
    "X_analysis = pca.fit_transform(X_encoded)'''"
   ]
  },
  {
   "cell_type": "code",
   "execution_count": 18,
   "id": "605b33bc",
   "metadata": {},
   "outputs": [
    {
     "data": {
      "text/plain": [
       "'plt.figure(figsize = (12, 10))\\nsns.scatterplot(x = X_analysis[:, 0], y = X_analysis[:, 1], s = 20, hue = error_vector)\\nplt.grid()\\nplt.show()\\n\\n# Darker clusters indicate that the error is higher'"
      ]
     },
     "execution_count": 18,
     "metadata": {},
     "output_type": "execute_result"
    }
   ],
   "source": [
    "'''plt.figure(figsize = (12, 10))\n",
    "sns.scatterplot(x = X_analysis[:, 0], y = X_analysis[:, 1], s = 20, hue = error_vector)\n",
    "plt.grid()\n",
    "plt.show()\n",
    "\n",
    "# Darker clusters indicate that the error is higher'''"
   ]
  },
  {
   "cell_type": "code",
   "execution_count": 19,
   "id": "62c74115",
   "metadata": {},
   "outputs": [
    {
     "data": {
      "text/plain": [
       "'plt.figure(figsize=(12, 10))\\nsns.scatterplot(x = X_analysis[:, 0], y = X_analysis[:, 1], s = 20, hue = attacks)\\nplt.grid()\\nplt.show()\\n\\n# Orange ones are anomalies'"
      ]
     },
     "execution_count": 19,
     "metadata": {},
     "output_type": "execute_result"
    }
   ],
   "source": [
    "'''plt.figure(figsize=(12, 10))\n",
    "sns.scatterplot(x = X_analysis[:, 0], y = X_analysis[:, 1], s = 20, hue = attacks)\n",
    "plt.grid()\n",
    "plt.show()\n",
    "\n",
    "# Orange ones are anomalies'''"
   ]
  },
  {
   "cell_type": "code",
   "execution_count": 20,
   "id": "46ef33b7",
   "metadata": {},
   "outputs": [
    {
     "data": {
      "text/plain": [
       "'plt.figure(figsize = (12, 10))\\nsns.scatterplot(x = X_analysis[:, 0], y = X_analysis[:, 1], s = 20, hue = Y_test_VAE)\\nplt.grid()\\nplt.show()\\n\\n# Ground truth'"
      ]
     },
     "execution_count": 20,
     "metadata": {},
     "output_type": "execute_result"
    }
   ],
   "source": [
    "'''plt.figure(figsize = (12, 10))\n",
    "sns.scatterplot(x = X_analysis[:, 0], y = X_analysis[:, 1], s = 20, hue = Y_test_VAE)\n",
    "plt.grid()\n",
    "plt.show()\n",
    "\n",
    "# Ground truth'''"
   ]
  },
  {
   "cell_type": "code",
   "execution_count": null,
   "id": "046e611f",
   "metadata": {},
   "outputs": [],
   "source": []
  }
 ],
 "metadata": {
  "kernelspec": {
   "display_name": "Python 3 (ipykernel)",
   "language": "python",
   "name": "python3"
  },
  "language_info": {
   "codemirror_mode": {
    "name": "ipython",
    "version": 3
   },
   "file_extension": ".py",
   "mimetype": "text/x-python",
   "name": "python",
   "nbconvert_exporter": "python",
   "pygments_lexer": "ipython3",
   "version": "3.7.5"
  }
 },
 "nbformat": 4,
 "nbformat_minor": 5
}
